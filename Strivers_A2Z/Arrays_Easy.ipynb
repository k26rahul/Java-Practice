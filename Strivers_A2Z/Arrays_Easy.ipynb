{
 "cells": [
  {
   "cell_type": "markdown",
   "metadata": {},
   "source": [
    "😈 **Array Operations:**\n",
    "\n",
    "1. **Find Largest Element in Array**\n",
    "   - Finds the largest element in an array.\n",
    "\n",
    "2. **Find Second Largest Element in Array**\n",
    "   - Finds the second largest element in an array.\n",
    "\n",
    "3. **Check if Array is Sorted and Rotated**\n",
    "   - Checks if a given array is sorted and rotated.\n",
    "\n",
    "4. **Remove Duplicates from Sorted Array**\n",
    "   - Removes duplicates from a sorted array in-place.\n",
    "\n",
    "5. **Rotate Array**\n",
    "   - Rotates an array to the right by `k` steps.\n",
    "\n",
    "6. **Move Zeroes**\n",
    "   - Moves all zeroes in an array to the end while maintaining the order of non-zero elements.\n",
    "\n",
    "7. **Search in Sorted Array**\n",
    "   - Searches for an integer in a sorted array.\n",
    "\n",
    "8. **Union of Two Sorted Arrays**\n",
    "   - Finds the union of two sorted arrays.\n",
    "\n",
    "9. **Missing Number**\n",
    "   - Finds the missing number in a sequence from `0` to `n`.\n",
    "\n",
    "10. **Max Consecutive Ones**\n",
    "    - Finds the maximum number of consecutive `1`s in a binary array.\n",
    "\n",
    "11. **Single Number**\n",
    "    - Finds the number that appears only once in an array where every other number appears twice.\n",
    "\n",
    "12. **Longest Subarray with Sum K**\n",
    "    - Finds the length of the longest subarray with a sum equal to `k`."
   ]
  },
  {
   "cell_type": "code",
   "execution_count": 158,
   "metadata": {
    "vscode": {
     "languageId": "java"
    }
   },
   "outputs": [],
   "source": [
    "%classpath add jar \"../lib/Helpers.jar\";\n",
    "import static Helpers.Helpers.print;"
   ]
  },
  {
   "cell_type": "markdown",
   "metadata": {},
   "source": [
    "### Find Largest Element in Array\n",
    "\n",
    "Finds the largest element in an array.\n",
    "\n",
    "**Args:**\n",
    "\n",
    "- arr (int[]): The array of integers.\n",
    "\n",
    "**Returns:**\n",
    "\n",
    "- int: The largest element in the array."
   ]
  },
  {
   "cell_type": "code",
   "execution_count": 159,
   "metadata": {
    "vscode": {
     "languageId": "java"
    }
   },
   "outputs": [
    {
     "name": "stdout",
     "output_type": "stream",
     "text": [
      "8\n"
     ]
    }
   ],
   "source": [
    "public static int largest(int[] arr) {\n",
    "  int largest = arr[0];\n",
    "  for (int i = 1; i < arr.length; i++) {\n",
    "      if (arr[i] > largest) {\n",
    "          largest = arr[i];\n",
    "      }\n",
    "  }\n",
    "  return largest;\n",
    "}\n",
    "\n",
    "print(largest(new int[]{3, 5, 7, 2, 8}));"
   ]
  },
  {
   "cell_type": "code",
   "execution_count": 160,
   "metadata": {
    "vscode": {
     "languageId": "java"
    }
   },
   "outputs": [],
   "source": [
    "// public static int largest(int[] arr) {\n",
    "//     // Implementation goes here\n",
    "// }\n",
    "\n",
    "// largest(new int[]{3, 5, 7, 2, 8});"
   ]
  },
  {
   "cell_type": "code",
   "execution_count": 161,
   "metadata": {
    "vscode": {
     "languageId": "java"
    }
   },
   "outputs": [
    {
     "name": "stdout",
     "output_type": "stream",
     "text": [
      "✅ All tests passed!\n"
     ]
    }
   ],
   "source": [
    "// Test calls\n",
    "assert largest(new int[]{3, 5, 7, 2, 8}) == 8 : \"1\";\n",
    "assert largest(new int[]{1, 2, 3, 4, 5}) == 5 : \"2\";\n",
    "assert largest(new int[]{-1, -2, -3, -4}) == -1 : \"3\";\n",
    "assert largest(new int[]{10, 20, 30, 40, 50}) == 50 : \"4\";\n",
    "\n",
    "print(\"✅ All tests passed!\");"
   ]
  },
  {
   "cell_type": "markdown",
   "metadata": {},
   "source": [
    "### Find Second Largest Element in Array\n",
    "\n",
    "Finds the second largest element in an array.\n",
    "\n",
    "**Args:**\n",
    "\n",
    "- arr (int[]): The array of integers.\n",
    "\n",
    "**Returns:**\n",
    "\n",
    "- int: The second largest element in the array. If there is no such element, return -1."
   ]
  },
  {
   "cell_type": "code",
   "execution_count": 162,
   "metadata": {
    "vscode": {
     "languageId": "java"
    }
   },
   "outputs": [
    {
     "name": "stdout",
     "output_type": "stream",
     "text": [
      "7\n"
     ]
    }
   ],
   "source": [
    "public int print2largest(int[] arr) {\n",
    "  if (arr.length < 2) return -1;\n",
    "\n",
    "  int largest = Integer.MIN_VALUE;\n",
    "  int secondLargest = Integer.MIN_VALUE;\n",
    "\n",
    "  for (int num : arr) {\n",
    "      if (num > largest) {\n",
    "          secondLargest = largest;\n",
    "          largest = num;\n",
    "      } else if (num > secondLargest && num < largest) {\n",
    "          secondLargest = num;\n",
    "      }\n",
    "  }\n",
    "  return (secondLargest == Integer.MIN_VALUE) ? -1 : secondLargest;\n",
    "}\n",
    "\n",
    "print(print2largest(new int[]{3, 5, 7, 2, 8}));"
   ]
  },
  {
   "cell_type": "code",
   "execution_count": 163,
   "metadata": {
    "vscode": {
     "languageId": "java"
    }
   },
   "outputs": [
    {
     "name": "stdout",
     "output_type": "stream",
     "text": [
      "7\n"
     ]
    }
   ],
   "source": [
    "public int print2largest(int[] arr) {\n",
    "  if (arr.length < 2) return -1;\n",
    "\n",
    "  Arrays.sort(arr);\n",
    "  int largest = arr[arr.length - 1];\n",
    "\n",
    "  for (int i = arr.length - 2; i >= 0; i--) {\n",
    "      if (arr[i] != largest) {\n",
    "          return arr[i];\n",
    "      }\n",
    "  }\n",
    "  return -1;\n",
    "}\n",
    "\n",
    "print(print2largest(new int[]{3, 5, 7, 2, 8}));"
   ]
  },
  {
   "cell_type": "code",
   "execution_count": 164,
   "metadata": {
    "vscode": {
     "languageId": "java"
    }
   },
   "outputs": [],
   "source": [
    "// public int print2largest(int[] arr) {\n",
    "//     // Implementation goes here\n",
    "// }\n",
    "\n",
    "// print2largest(new int[]{3, 5, 7, 2, 8});"
   ]
  },
  {
   "cell_type": "code",
   "execution_count": 165,
   "metadata": {
    "vscode": {
     "languageId": "java"
    }
   },
   "outputs": [
    {
     "name": "stdout",
     "output_type": "stream",
     "text": [
      "✅ All tests passed!\n"
     ]
    }
   ],
   "source": [
    "// Test calls\n",
    "assert print2largest(new int[]{3, 5, 7, 2, 8}) == 7 : \"1\";\n",
    "assert print2largest(new int[]{1, 2, 3, 4, 5}) == 4 : \"2\";\n",
    "assert print2largest(new int[]{5, 5, 5, 5}) == -1 : \"3\";\n",
    "assert print2largest(new int[]{10, 20, 30, 40, 50}) == 40 : \"4\";\n",
    "\n",
    "print(\"✅ All tests passed!\");"
   ]
  },
  {
   "cell_type": "markdown",
   "metadata": {},
   "source": [
    "### Check if Array is Sorted and Rotated\n",
    "\n",
    "Determines if an array is sorted and then rotated.\n",
    "\n",
    "**Args:**\n",
    "\n",
    "- arr (int[]): The array of integers.\n",
    "\n",
    "**Returns:**\n",
    "\n",
    "- boolean: `true` if the array is sorted and rotated, otherwise `false`."
   ]
  },
  {
   "cell_type": "code",
   "execution_count": 166,
   "metadata": {
    "vscode": {
     "languageId": "java"
    }
   },
   "outputs": [
    {
     "name": "stdout",
     "output_type": "stream",
     "text": [
      "true\n"
     ]
    }
   ],
   "source": [
    "public boolean checkIfSortedAndRotated(int[] arr) {\n",
    "  int count = 0;  // Tracks \"drop points\"\n",
    "  int n = arr.length;\n",
    "\n",
    "  // Traverse array to find breaks in order\n",
    "  for (int i = 0; i < n; i++) {\n",
    "      // Check if current element is greater than next\n",
    "      if (arr[i] > arr[(i + 1) % n]) {\n",
    "          count++;  // Increment on finding a drop\n",
    "      }\n",
    "  }\n",
    "  \n",
    "  // True if at most one drop point\n",
    "  return count <= 1;\n",
    "}\n",
    "\n",
    "print(checkIfSortedAndRotated(new int[]{3, 4, 5, 1, 2}));"
   ]
  },
  {
   "cell_type": "code",
   "execution_count": 167,
   "metadata": {
    "vscode": {
     "languageId": "java"
    }
   },
   "outputs": [],
   "source": [
    "// public boolean checkIfSortedAndRotated(int[] arr) {\n",
    "//     // Implementation goes here\n",
    "// }\n",
    "\n",
    "// checkIfSortedAndRotated(new int[]{3, 4, 5, 1, 2});"
   ]
  },
  {
   "cell_type": "code",
   "execution_count": 168,
   "metadata": {
    "vscode": {
     "languageId": "java"
    }
   },
   "outputs": [
    {
     "name": "stdout",
     "output_type": "stream",
     "text": [
      "✅ All tests passed!\n"
     ]
    }
   ],
   "source": [
    "// Test calls\n",
    "assert checkIfSortedAndRotated(new int[]{3, 4, 5, 1, 2}) == true : \"1\";\n",
    "assert checkIfSortedAndRotated(new int[]{1, 2, 3, 4, 5}) == true : \"2\";\n",
    "assert checkIfSortedAndRotated(new int[]{2, 1, 3, 4}) == false : \"3\";\n",
    "assert checkIfSortedAndRotated(new int[]{2, 3, 4, 5, 1}) == true : \"4\";\n",
    "\n",
    "print(\"✅ All tests passed!\");"
   ]
  },
  {
   "cell_type": "markdown",
   "metadata": {},
   "source": [
    "### Remove Duplicates from Sorted Array\n",
    "\n",
    "Removes duplicates from a sorted array in-place and returns the new length of the array with unique elements at the beginning.\n",
    "\n",
    "**Args:**\n",
    "\n",
    "- nums (int[]): The sorted array of integers.\n",
    "\n",
    "**Returns:**\n",
    "\n",
    "- int: The new length of the array with unique elements."
   ]
  },
  {
   "cell_type": "code",
   "execution_count": 169,
   "metadata": {
    "vscode": {
     "languageId": "java"
    }
   },
   "outputs": [
    {
     "name": "stdout",
     "output_type": "stream",
     "text": [
      "2\n"
     ]
    }
   ],
   "source": [
    "public int removeDuplicates(int[] nums) {\n",
    "  if (nums.length == 0) return 0;  // Handle empty array\n",
    "\n",
    "  int uniqueIndex = 1;  // Start from the second element\n",
    "\n",
    "  for (int i = 1; i < nums.length; i++) {\n",
    "      // If current number is different from the previous unique one\n",
    "      if (nums[i] != nums[i - 1]) {\n",
    "          nums[uniqueIndex] = nums[i];  // Move it to the next unique position\n",
    "          uniqueIndex++;\n",
    "      }\n",
    "  }\n",
    "  \n",
    "  return uniqueIndex;  // Return count of unique elements\n",
    "}\n",
    "\n",
    "print(removeDuplicates(new int[]{1, 1, 2}));"
   ]
  },
  {
   "cell_type": "code",
   "execution_count": 170,
   "metadata": {
    "vscode": {
     "languageId": "java"
    }
   },
   "outputs": [],
   "source": [
    "// public int removeDuplicates(int[] nums) {\n",
    "//     // Implementation goes here\n",
    "// }\n",
    "\n",
    "// removeDuplicates(new int[]{1, 1, 2});"
   ]
  },
  {
   "cell_type": "code",
   "execution_count": 171,
   "metadata": {
    "vscode": {
     "languageId": "java"
    }
   },
   "outputs": [
    {
     "name": "stdout",
     "output_type": "stream",
     "text": [
      "✅ All tests passed!\n"
     ]
    }
   ],
   "source": [
    "// Test calls\n",
    "assert removeDuplicates(new int[]{1, 1, 2}) == 2 : \"1\";\n",
    "assert removeDuplicates(new int[]{0, 0, 1, 1, 2, 2, 3, 3, 4}) == 5 : \"2\";\n",
    "assert removeDuplicates(new int[]{1, 1, 1, 1}) == 1 : \"3\";\n",
    "assert removeDuplicates(new int[]{1, 2, 3, 4}) == 4 : \"4\";\n",
    "\n",
    "print(\"✅ All tests passed!\");"
   ]
  },
  {
   "cell_type": "markdown",
   "metadata": {},
   "source": [
    "### Rotate Array\n",
    "\n",
    "Rotates the elements of an array by `k` steps to the right.\n",
    "\n",
    "**Args:**\n",
    "\n",
    "- nums (int[]): The array of integers.\n",
    "- k (int): The number of steps to rotate.\n",
    "\n",
    "**Returns:**\n",
    "\n",
    "- void: Modifies the array in place."
   ]
  },
  {
   "cell_type": "code",
   "execution_count": 172,
   "metadata": {
    "vscode": {
     "languageId": "java"
    }
   },
   "outputs": [
    {
     "data": {
      "text/plain": [
       "true"
      ]
     },
     "execution_count": 172,
     "metadata": {},
     "output_type": "execute_result"
    }
   ],
   "source": [
    "public void rotate(int[] nums, int k) {\n",
    "  k = k % nums.length;  // Handle cases where k > length of array\n",
    "  reverse(nums, 0, nums.length - 1);  // Reverse the entire array\n",
    "  reverse(nums, 0, k - 1);  // Reverse the first k elements\n",
    "  reverse(nums, k, nums.length - 1);  // Reverse the rest\n",
    "}\n",
    "\n",
    "private void reverse(int[] nums, int start, int end) {\n",
    "  while (start < end) {\n",
    "      int temp = nums[start];\n",
    "      nums[start] = nums[end];\n",
    "      nums[end] = temp;\n",
    "      start++;\n",
    "      end--;\n",
    "  }\n",
    "}\n",
    "\n",
    "int[] arr1 = {1, 2, 3, 4, 5, 6, 7};\n",
    "rotate(arr1, 3);\n",
    "Arrays.equals(arr1, new int[]{5, 6, 7, 1, 2, 3, 4});"
   ]
  },
  {
   "cell_type": "code",
   "execution_count": 173,
   "metadata": {
    "vscode": {
     "languageId": "java"
    }
   },
   "outputs": [],
   "source": [
    "// public void rotate(int[] nums, int k) {\n",
    "//     // Implementation goes here\n",
    "// }\n",
    "\n",
    "// int[] arr1 = {1, 2, 3, 4, 5, 6, 7};\n",
    "// rotate(arr1, 3);\n",
    "// Arrays.equals(arr1, new int[]{5, 6, 7, 1, 2, 3, 4});"
   ]
  },
  {
   "cell_type": "code",
   "execution_count": 174,
   "metadata": {
    "vscode": {
     "languageId": "java"
    }
   },
   "outputs": [
    {
     "name": "stdout",
     "output_type": "stream",
     "text": [
      "✅ All tests passed!\n"
     ]
    }
   ],
   "source": [
    "// Test calls\n",
    "int[] arr1 = {1, 2, 3, 4, 5, 6, 7};\n",
    "rotate(arr1, 3);\n",
    "assert Arrays.equals(arr1, new int[]{5, 6, 7, 1, 2, 3, 4}) : \"1\";\n",
    "\n",
    "int[] arr2 = {-1, -100, 3, 99};\n",
    "rotate(arr2, 2);\n",
    "assert Arrays.equals(arr2, new int[]{3, 99, -1, -100}) : \"2\";\n",
    "\n",
    "int[] arr3 = {1, 2, 3, 4, 5, 6};\n",
    "rotate(arr3, 2);\n",
    "assert Arrays.equals(arr3, new int[]{5, 6, 1, 2, 3, 4}) : \"3\";\n",
    "\n",
    "print(\"✅ All tests passed!\");"
   ]
  },
  {
   "cell_type": "markdown",
   "metadata": {},
   "source": [
    "### Move Zeroes\n",
    "\n",
    "Moves all zeroes in the array to the end while maintaining the relative order of non-zero elements.\n",
    "\n",
    "**Args:**\n",
    "\n",
    "- nums (int[]): The array of integers.\n",
    "\n",
    "**Returns:**\n",
    "\n",
    "- void: Modifies the array in place."
   ]
  },
  {
   "cell_type": "code",
   "execution_count": 175,
   "metadata": {
    "vscode": {
     "languageId": "java"
    }
   },
   "outputs": [
    {
     "data": {
      "text/plain": [
       "true"
      ]
     },
     "execution_count": 175,
     "metadata": {},
     "output_type": "execute_result"
    }
   ],
   "source": [
    "public void moveZeroes(int[] nums) {\n",
    "  int nonZeroIndex = 0;  // Index to place non-zero elements\n",
    "  \n",
    "  // Move all non-zero elements to the front\n",
    "  for (int i = 0; i < nums.length; i++) {\n",
    "      if (nums[i] != 0) {\n",
    "          nums[nonZeroIndex++] = nums[i];\n",
    "      }\n",
    "  }\n",
    "\n",
    "  // Fill the rest with zeroes\n",
    "  while (nonZeroIndex < nums.length) {\n",
    "      nums[nonZeroIndex++] = 0;\n",
    "  }\n",
    "}\n",
    "\n",
    "int[] arr1 = {0, 1, 0, 3, 12};\n",
    "moveZeroes(arr1);\n",
    "Arrays.equals(arr1, new int[]{1, 3, 12, 0, 0});"
   ]
  },
  {
   "cell_type": "code",
   "execution_count": 176,
   "metadata": {
    "vscode": {
     "languageId": "java"
    }
   },
   "outputs": [],
   "source": [
    "// public void moveZeroes(int[] nums) {\n",
    "//     // Implementation goes here\n",
    "// }\n",
    "\n",
    "// int[] arr1 = {0, 1, 0, 3, 12};\n",
    "// moveZeroes(arr1);\n",
    "// Arrays.equals(arr1, new int[]{1, 3, 12, 0, 0});"
   ]
  },
  {
   "cell_type": "code",
   "execution_count": 177,
   "metadata": {
    "vscode": {
     "languageId": "java"
    }
   },
   "outputs": [
    {
     "name": "stdout",
     "output_type": "stream",
     "text": [
      "✅ All tests passed!\n"
     ]
    }
   ],
   "source": [
    "// Test calls\n",
    "int[] arr1 = {0, 1, 0, 3, 12};\n",
    "moveZeroes(arr1);\n",
    "assert Arrays.equals(arr1, new int[]{1, 3, 12, 0, 0}) : \"1\";\n",
    "\n",
    "int[] arr2 = {0, 0, 1};\n",
    "moveZeroes(arr2);\n",
    "assert Arrays.equals(arr2, new int[]{1, 0, 0}) : \"2\";\n",
    "\n",
    "int[] arr3 = {1, 2, 3};\n",
    "moveZeroes(arr3);\n",
    "assert Arrays.equals(arr3, new int[]{1, 2, 3}) : \"3\";\n",
    "\n",
    "print(\"✅ All tests passed!\");"
   ]
  },
  {
   "cell_type": "markdown",
   "metadata": {},
   "source": [
    "### Search in Sorted Array\n",
    "\n",
    "Given a sorted array in ascending order and an integer `K`, check if `K` is present in the array. If `K` is found, return `1`; otherwise, return `-1`.\n",
    "\n",
    "**Args:**\n",
    "\n",
    "- arr (int[]): The sorted array of integers.\n",
    "- N (int): The size of the array.\n",
    "- K (int): The target integer to search for.\n",
    "\n",
    "**Returns:**\n",
    "\n",
    "- int: `1` if the element is found, otherwise `-1`."
   ]
  },
  {
   "cell_type": "code",
   "execution_count": 178,
   "metadata": {
    "vscode": {
     "languageId": "java"
    }
   },
   "outputs": [
    {
     "name": "stdout",
     "output_type": "stream",
     "text": [
      "1\n"
     ]
    }
   ],
   "source": [
    "static int searchInSorted(int arr[], int N, int K) {\n",
    "  // Linear search to find K in the array\n",
    "  for (int i = 0; i < N; i++) {\n",
    "      if (arr[i] == K) {\n",
    "          return 1;  // Found K\n",
    "      }\n",
    "  }\n",
    "  return -1;  // K not found\n",
    "}\n",
    "\n",
    "print(searchInSorted(new int[]{1, 2, 3, 4, 6}, 5, 6));"
   ]
  },
  {
   "cell_type": "code",
   "execution_count": 179,
   "metadata": {
    "vscode": {
     "languageId": "java"
    }
   },
   "outputs": [
    {
     "name": "stdout",
     "output_type": "stream",
     "text": [
      "1\n"
     ]
    }
   ],
   "source": [
    "static int searchInSorted(int arr[], int N, int K) {\n",
    "  // Binary search for better performance in a sorted array\n",
    "  int left = 0, right = N - 1;\n",
    "\n",
    "  while (left <= right) {\n",
    "      int mid = left + (right - left) / 2;\n",
    "\n",
    "      if (arr[mid] == K) {\n",
    "          return 1;  // Found the element\n",
    "      }\n",
    "      if (arr[mid] < K) {\n",
    "          left = mid + 1;  // Search the right half\n",
    "      } else {\n",
    "          right = mid - 1;  // Search the left half\n",
    "      }\n",
    "  }\n",
    "\n",
    "  return -1;  // Element not found\n",
    "}\n",
    "\n",
    "print(searchInSorted(new int[]{1, 2, 3, 4, 6}, 5, 6));"
   ]
  },
  {
   "cell_type": "code",
   "execution_count": 180,
   "metadata": {
    "vscode": {
     "languageId": "java"
    }
   },
   "outputs": [
    {
     "name": "stdout",
     "output_type": "stream",
     "text": [
      "1\n"
     ]
    }
   ],
   "source": [
    "static int searchInSorted(int arr[], int N, int K) {\n",
    "    // Use binary search directly on the primitive array\n",
    "    int index = Arrays.binarySearch(arr, K);\n",
    "    \n",
    "    // Return 1 if found, -1 otherwise\n",
    "    return index >= 0 ? 1 : -1;\n",
    "}\n",
    "\n",
    "print(searchInSorted(new int[]{1, 2, 3, 4, 6}, 5, 6));"
   ]
  },
  {
   "cell_type": "code",
   "execution_count": 181,
   "metadata": {
    "vscode": {
     "languageId": "java"
    }
   },
   "outputs": [],
   "source": [
    "// static int searchInSorted(int arr[], int N, int K) {\n",
    "//     // Implementation goes here\n",
    "// }\n",
    "\n",
    "// searchInSorted(new int[]{1, 2, 3, 4, 6}, 5, 6);"
   ]
  },
  {
   "cell_type": "code",
   "execution_count": 182,
   "metadata": {
    "vscode": {
     "languageId": "java"
    }
   },
   "outputs": [
    {
     "name": "stdout",
     "output_type": "stream",
     "text": [
      "✅ All tests passed!\n"
     ]
    }
   ],
   "source": [
    "// Test calls\n",
    "assert searchInSorted(new int[]{1, 2, 3, 4, 6}, 5, 6) == 1 : \"1\";\n",
    "assert searchInSorted(new int[]{1, 2, 3, 4, 5}, 5, 6) == -1 : \"2\";\n",
    "assert searchInSorted(new int[]{1, 3, 5, 7, 9}, 5, 5) == 1 : \"3\";\n",
    "assert searchInSorted(new int[]{10, 20, 30, 40}, 4, 25) == -1 : \"4\";\n",
    "\n",
    "print(\"✅ All tests passed!\");"
   ]
  },
  {
   "cell_type": "markdown",
   "metadata": {},
   "source": [
    "### Union of Two Sorted Arrays\n",
    "\n",
    "Given two sorted arrays, return a list containing the union of the two arrays, i.e., all distinct elements present in both arrays.\n",
    "\n",
    "**Args:**\n",
    "\n",
    "- arr1 (int[]): The first sorted array.\n",
    "- arr2 (int[]): The second sorted array.\n",
    "- n (int): The size of the first array.\n",
    "- m (int): The size of the second array.\n",
    "\n",
    "**Returns:**\n",
    "\n",
    "- ArrayList\\<Integer\\>: A list containing the union of the two arrays."
   ]
  },
  {
   "cell_type": "code",
   "execution_count": 183,
   "metadata": {
    "vscode": {
     "languageId": "java"
    }
   },
   "outputs": [
    {
     "name": "stdout",
     "output_type": "stream",
     "text": [
      "[1, 2, 3, 4, 5, 6, 7]\n"
     ]
    }
   ],
   "source": [
    "public static ArrayList<Integer> findUnion(int arr1[], int arr2[], int n, int m) {\n",
    "    ArrayList<Integer> result = new ArrayList<>();\n",
    "    HashSet<Integer> set = new HashSet<>();\n",
    "\n",
    "    // Add elements from the first array\n",
    "    for (int i = 0; i < n; i++) {\n",
    "        set.add(arr1[i]);\n",
    "    }\n",
    "    \n",
    "    // Add elements from the second array\n",
    "    for (int i = 0; i < m; i++) {\n",
    "        set.add(arr2[i]);\n",
    "    }\n",
    "    \n",
    "    // Convert the set to an ArrayList\n",
    "    result.addAll(set);\n",
    "    Collections.sort(result);\n",
    "\n",
    "    return result;\n",
    "}\n",
    "\n",
    "print(findUnion(new int[]{1, 2, 3, 4, 5}, new int[]{1, 2, 3, 6, 7}, 5, 5));"
   ]
  },
  {
   "cell_type": "code",
   "execution_count": 184,
   "metadata": {
    "vscode": {
     "languageId": "java"
    }
   },
   "outputs": [],
   "source": [
    "// public static ArrayList<Integer> findUnion(int arr1[], int arr2[], int n, int m) {\n",
    "//     // Implementation goes here\n",
    "// }\n",
    "\n",
    "// findUnion(new int[]{1, 2, 3, 4, 5}, new int[]{1, 2, 3, 6, 7}, 5, 5);"
   ]
  },
  {
   "cell_type": "code",
   "execution_count": 185,
   "metadata": {
    "vscode": {
     "languageId": "java"
    }
   },
   "outputs": [
    {
     "name": "stdout",
     "output_type": "stream",
     "text": [
      "✅ All tests passed!\n"
     ]
    }
   ],
   "source": [
    "// Test calls\n",
    "ArrayList<Integer> result1 = findUnion(new int[]{1, 2, 3, 4, 5}, new int[]{1, 2, 3, 6, 7}, 5, 5);\n",
    "assert result1.equals(new ArrayList<>(Arrays.asList(1, 2, 3, 4, 5, 6, 7))) : \"1\";\n",
    "\n",
    "ArrayList<Integer> result2 = findUnion(new int[]{1, 4, 5}, new int[]{2, 4, 6}, 3, 3);\n",
    "assert result2.equals(new ArrayList<>(Arrays.asList(1, 2, 4, 5, 6))) : \"2\";\n",
    "\n",
    "ArrayList<Integer> result3 = findUnion(new int[]{5, 7, 9}, new int[]{1, 3, 5}, 3, 3);\n",
    "assert result3.equals(new ArrayList<>(Arrays.asList(1, 3, 5, 7, 9))) : \"3\";\n",
    "\n",
    "print(\"✅ All tests passed!\");"
   ]
  },
  {
   "cell_type": "markdown",
   "metadata": {},
   "source": [
    "### Missing Number\n",
    "\n",
    "Given an array containing `n` distinct numbers taken from `0, 1, 2, ..., n`, find the missing number.\n",
    "\n",
    "**Args:**\n",
    "\n",
    "- nums (int[]): The array containing distinct numbers from `0` to `n` with one number missing.\n",
    "\n",
    "**Returns:**\n",
    "\n",
    "- int: The missing number."
   ]
  },
  {
   "cell_type": "code",
   "execution_count": 186,
   "metadata": {
    "vscode": {
     "languageId": "java"
    }
   },
   "outputs": [
    {
     "name": "stdout",
     "output_type": "stream",
     "text": [
      "2\n"
     ]
    }
   ],
   "source": [
    "public int missingNumber(int[] nums) {\n",
    "  int n = nums.length;\n",
    "  int sum = (n * (n + 1)) / 2;\n",
    "  int actualSum = 0;\n",
    "  \n",
    "  for (int num : nums) {\n",
    "      actualSum += num;\n",
    "  }\n",
    "  \n",
    "  return sum - actualSum;\n",
    "}\n",
    "\n",
    "print(missingNumber(new int[]{0, 1, 3}));"
   ]
  },
  {
   "cell_type": "code",
   "execution_count": 187,
   "metadata": {
    "vscode": {
     "languageId": "java"
    }
   },
   "outputs": [],
   "source": [
    "// public int missingNumber(int[] nums) {\n",
    "//     // Implementation goes here\n",
    "// }\n",
    "\n",
    "// missingNumber(new int[]{0, 1, 3});"
   ]
  },
  {
   "cell_type": "code",
   "execution_count": 188,
   "metadata": {
    "vscode": {
     "languageId": "java"
    }
   },
   "outputs": [
    {
     "name": "stdout",
     "output_type": "stream",
     "text": [
      "✅ All tests passed!\n"
     ]
    }
   ],
   "source": [
    "// Test calls\n",
    "assert missingNumber(new int[]{0, 1, 3}) == 2 : \"1\";\n",
    "assert missingNumber(new int[]{1, 3, 4, 5, 2, 7, 0, 8}) == 6 : \"2\";\n",
    "assert missingNumber(new int[]{0, 1, 2, 4}) == 3 : \"3\";\n",
    "assert missingNumber(new int[]{3, 0, 1}) == 2 : \"4\";\n",
    "\n",
    "print(\"✅ All tests passed!\");"
   ]
  },
  {
   "cell_type": "markdown",
   "metadata": {},
   "source": [
    "### Max Consecutive Ones\n",
    "\n",
    "Given a binary array, find the maximum number of consecutive `1`s in the array.\n",
    "\n",
    "**Args:**\n",
    "\n",
    "- nums (int[]): The binary array containing `0`s and `1`s.\n",
    "\n",
    "**Returns:**\n",
    "\n",
    "- int: The maximum number of consecutive `1`s."
   ]
  },
  {
   "cell_type": "code",
   "execution_count": 189,
   "metadata": {
    "vscode": {
     "languageId": "java"
    }
   },
   "outputs": [
    {
     "name": "stdout",
     "output_type": "stream",
     "text": [
      "3\n"
     ]
    }
   ],
   "source": [
    "public int findMaxConsecutiveOnes(int[] nums) {\n",
    "  int maxCount = 0, currentCount = 0;\n",
    "  \n",
    "  for (int num : nums) {\n",
    "      if (num == 1) {\n",
    "          currentCount++;\n",
    "          maxCount = Math.max(maxCount, currentCount);\n",
    "      } else {\n",
    "          currentCount = 0;\n",
    "      }\n",
    "  }\n",
    "  \n",
    "  return maxCount;\n",
    "}\n",
    "\n",
    "print(findMaxConsecutiveOnes(new int[]{1, 1, 0, 1, 1, 1}));"
   ]
  },
  {
   "cell_type": "code",
   "execution_count": 190,
   "metadata": {
    "vscode": {
     "languageId": "java"
    }
   },
   "outputs": [],
   "source": [
    "// public int findMaxConsecutiveOnes(int[] nums) {\n",
    "//     // Implementation goes here\n",
    "// }\n",
    "\n",
    "// findMaxConsecutiveOnes(new int[]{1, 1, 0, 1, 1, 1});"
   ]
  },
  {
   "cell_type": "code",
   "execution_count": 191,
   "metadata": {
    "vscode": {
     "languageId": "java"
    }
   },
   "outputs": [
    {
     "name": "stdout",
     "output_type": "stream",
     "text": [
      "✅ All tests passed!\n"
     ]
    }
   ],
   "source": [
    "// Test calls\n",
    "assert findMaxConsecutiveOnes(new int[]{1, 1, 0, 1, 1, 1}) == 3 : \"1\";\n",
    "assert findMaxConsecutiveOnes(new int[]{1, 0, 1, 1, 0, 1, 1, 1}) == 3 : \"2\";\n",
    "assert findMaxConsecutiveOnes(new int[]{0, 0, 0, 0}) == 0 : \"3\";\n",
    "assert findMaxConsecutiveOnes(new int[]{1, 1, 1, 1, 1}) == 5 : \"4\";\n",
    "\n",
    "print(\"✅ All tests passed!\");"
   ]
  },
  {
   "cell_type": "markdown",
   "metadata": {},
   "source": [
    "### Single Number\n",
    "\n",
    "Given a non-empty array of integers, every element appears twice except for one. Find that single one.\n",
    "\n",
    "**Args:**\n",
    "\n",
    "- nums (int[]): The array of integers where every element appears twice except for one.\n",
    "\n",
    "**Returns:**\n",
    "\n",
    "- int: The single number that appears only once."
   ]
  },
  {
   "cell_type": "code",
   "execution_count": 192,
   "metadata": {
    "vscode": {
     "languageId": "java"
    }
   },
   "outputs": [
    {
     "name": "stdout",
     "output_type": "stream",
     "text": [
      "4\n"
     ]
    }
   ],
   "source": [
    "import java.util.HashMap;\n",
    "\n",
    "public int singleNumber(int[] nums) {\n",
    "    HashMap<Integer, Integer> freqMap = new HashMap<>();\n",
    "    \n",
    "    for (int num : nums) {\n",
    "        freqMap.put(num, freqMap.getOrDefault(num, 0) + 1);\n",
    "    }\n",
    "    \n",
    "    for (int num : freqMap.keySet()) {\n",
    "        if (freqMap.get(num) == 1) {\n",
    "            return num;\n",
    "        }\n",
    "    }\n",
    "    \n",
    "    return Integer.MIN_VALUE; // Default return if no single number is found (shouldn't happen with valid input)\n",
    "}\n",
    "\n",
    "print(singleNumber(new int[]{4, 1, 2, 1, 2}));"
   ]
  },
  {
   "cell_type": "code",
   "execution_count": 193,
   "metadata": {
    "vscode": {
     "languageId": "java"
    }
   },
   "outputs": [],
   "source": [
    "// public int singleNumber(int[] nums) {\n",
    "//     // Implementation goes here\n",
    "// }\n",
    "\n",
    "// singleNumber(new int[]{4, 1, 2, 1, 2});"
   ]
  },
  {
   "cell_type": "code",
   "execution_count": 194,
   "metadata": {
    "vscode": {
     "languageId": "java"
    }
   },
   "outputs": [
    {
     "name": "stdout",
     "output_type": "stream",
     "text": [
      "✅ All tests passed!\n"
     ]
    }
   ],
   "source": [
    "// Test calls\n",
    "assert singleNumber(new int[]{4, 1, 2, 1, 2}) == 4 : \"1\";\n",
    "assert singleNumber(new int[]{1, 2, 2, 3, 3, 4, 4, 5, 5, 6, 6, 7, 7, 8, 8, 9, 9, 10, 10, 11, 1}) == 11 : \"2\";\n",
    "assert singleNumber(new int[]{0, 1, 0, 1, 2, 2, 3}) == 3 : \"3\";\n",
    "assert singleNumber(new int[]{100, 200, 300, 200, 300}) == 100 : \"4\";\n",
    "\n",
    "print(\"✅ All tests passed!\");"
   ]
  },
  {
   "cell_type": "markdown",
   "metadata": {},
   "source": [
    "### Longest Subarray with Sum K\n",
    "\n",
    "Given an array and an integer `k`, find the length of the longest subarray with a sum equal to `k`.\n",
    "\n",
    "**Args:**\n",
    "\n",
    "- A (int[]): The array containing `n` integers.\n",
    "- N (int): The size of the array.\n",
    "- K (int): The target sum of the subarray.\n",
    "\n",
    "**Returns:**\n",
    "\n",
    "- int: The length of the longest subarray with sum equal to `k`."
   ]
  },
  {
   "cell_type": "code",
   "execution_count": 195,
   "metadata": {
    "vscode": {
     "languageId": "java"
    }
   },
   "outputs": [
    {
     "name": "stdout",
     "output_type": "stream",
     "text": [
      "4\n"
     ]
    }
   ],
   "source": [
    "public static int lenOfLongSubarr(int A[], int N, int K) {\n",
    "    HashMap<Integer, Integer> map = new HashMap<>(); // To store the first occurrence of a cumulative sum\n",
    "    int sum = 0, maxLength = 0;\n",
    "\n",
    "    for (int i = 0; i < N; i++) {\n",
    "        sum += A[i]; // Update cumulative sum\n",
    "        \n",
    "        if (sum == K) {\n",
    "            maxLength = i + 1; // If cumulative sum equals K, update max length\n",
    "        }\n",
    "        \n",
    "        if (map.containsKey(sum - K)) {\n",
    "            maxLength = Math.max(maxLength, i - map.get(sum - K)); // Check if a subarray with sum K exists\n",
    "        }\n",
    "        \n",
    "        if (!map.containsKey(sum)) {\n",
    "            map.put(sum, i); // Store the first occurrence of the cumulative sum\n",
    "        }\n",
    "    }\n",
    "    \n",
    "    return maxLength;\n",
    "}\n",
    "\n",
    "print(lenOfLongSubarr(new int[]{10, 5, 2, 7, 1, 9}, 6, 15));"
   ]
  },
  {
   "cell_type": "code",
   "execution_count": 196,
   "metadata": {
    "vscode": {
     "languageId": "java"
    }
   },
   "outputs": [],
   "source": [
    "// public static int lenOfLongSubarr(int A[], int N, int K) {\n",
    "//     // Implementation goes here\n",
    "// }\n",
    "\n",
    "// lenOfLongSubarr(new int[]{10, 5, 2, 7, 1, 9}, 6, 15);"
   ]
  },
  {
   "cell_type": "code",
   "execution_count": 197,
   "metadata": {
    "vscode": {
     "languageId": "java"
    }
   },
   "outputs": [
    {
     "name": "stdout",
     "output_type": "stream",
     "text": [
      "✅ All tests passed!\n"
     ]
    }
   ],
   "source": [
    "// Test calls\n",
    "assert lenOfLongSubarr(new int[]{10, 5, 2, 7, 1, 9}, 6, 15) == 4 : \"1\";\n",
    "assert lenOfLongSubarr(new int[]{-1, 2, 3}, 3, 6) == 0 : \"2\";\n",
    "assert lenOfLongSubarr(new int[]{1, 2, 3, 4, 5, 6}, 6, 15) == 5 : \"3\";\n",
    "assert lenOfLongSubarr(new int[]{5, 5, 5, 5, 5}, 5, 10) == 2 : \"4\";\n",
    "\n",
    "print(\"✅ All tests passed!\");"
   ]
  }
 ],
 "metadata": {
  "kernelspec": {
   "display_name": "Java",
   "language": "java",
   "name": "java"
  },
  "language_info": {
   "codemirror_mode": "java",
   "file_extension": ".jshell",
   "mimetype": "text/x-java-source",
   "name": "Java",
   "pygments_lexer": "java",
   "version": "21.0.1+12-LTS-29"
  }
 },
 "nbformat": 4,
 "nbformat_minor": 2
}
