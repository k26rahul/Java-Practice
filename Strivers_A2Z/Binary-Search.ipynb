{
 "cells": [
  {
   "cell_type": "markdown",
   "metadata": {},
   "source": [
    "https://takeuforward.org/interviews/strivers-sde-sheet-top-coding-interview-problems\n",
    "\n",
    "# Day 11: Binary Search"
   ]
  },
  {
   "cell_type": "code",
   "execution_count": 20,
   "metadata": {
    "vscode": {
     "languageId": "java"
    }
   },
   "outputs": [],
   "source": [
    "%classpath add jar \"../lib/Helpers.jar\";\n",
    "import static Helpers.Helpers.print;"
   ]
  },
  {
   "cell_type": "markdown",
   "metadata": {},
   "source": [
    "### Nth Root of a Number using Binary Search\n",
    "\n",
    "Finds the Nth root of a number M using binary search. If the Nth root is not an integer, returns -1.\n",
    "\n",
    "**Args:**\n",
    "\n",
    "- n (int): The degree of the root.\n",
    "- m (int): The number whose Nth root is to be found.\n",
    "\n",
    "**Returns:**\n",
    "\n",
    "- int: The Nth root of M, or -1 if the Nth root is not an integer."
   ]
  },
  {
   "cell_type": "code",
   "execution_count": 21,
   "metadata": {
    "vscode": {
     "languageId": "java"
    }
   },
   "outputs": [
    {
     "name": "stdout",
     "output_type": "stream",
     "text": [
      "3\n"
     ]
    }
   ],
   "source": [
    "public static int NthRoot(int n, int m) {\n",
    "  int low = 1, high = m;\n",
    "  \n",
    "  while (low <= high) {\n",
    "      int mid = (low + high) / 2;\n",
    "      long power = 1;\n",
    "      \n",
    "      for (int i = 0; i < n; i++) {\n",
    "          power *= mid;\n",
    "          if (power > m) break;\n",
    "      }\n",
    "\n",
    "      if (power == m) {\n",
    "          return mid;\n",
    "      } else if (power < m) {\n",
    "          low = mid + 1;\n",
    "      } else {\n",
    "          high = mid - 1;\n",
    "      }\n",
    "  }\n",
    "  return -1;\n",
    "}\n",
    "\n",
    "System.out.println(NthRoot(4, 81));"
   ]
  },
  {
   "cell_type": "code",
   "execution_count": 22,
   "metadata": {
    "vscode": {
     "languageId": "java"
    }
   },
   "outputs": [
    {
     "name": "stdout",
     "output_type": "stream",
     "text": [
      "3\n"
     ]
    }
   ],
   "source": [
    "// Brute Force Approach\n",
    "public static int NthRoot(int n, int m) {\n",
    "  for (int x = 1; x <= m; x++) {\n",
    "      long power = 1;\n",
    "      for (int i = 0; i < n; i++) {\n",
    "          power *= x;\n",
    "          if (power > m) break;\n",
    "      }\n",
    "\n",
    "      if (power == m) {\n",
    "          return x;\n",
    "      }\n",
    "  }\n",
    "  return -1;\n",
    "}\n",
    "\n",
    "System.out.println(NthRoot(3, 27));"
   ]
  },
  {
   "cell_type": "code",
   "execution_count": 23,
   "metadata": {
    "vscode": {
     "languageId": "java"
    }
   },
   "outputs": [],
   "source": [
    "// public static int NthRoot(int n, int m) {\n",
    "//     // Implementation goes here\n",
    "// }\n",
    "\n",
    "// System.out.println(NthRoot(3, 27));"
   ]
  },
  {
   "cell_type": "code",
   "execution_count": 24,
   "metadata": {
    "vscode": {
     "languageId": "java"
    }
   },
   "outputs": [
    {
     "name": "stdout",
     "output_type": "stream",
     "text": [
      "✅ All tests passed!\n"
     ]
    }
   ],
   "source": [
    "// Test calls\n",
    "assert NthRoot(3, 27) == 3 : \"1\";\n",
    "assert NthRoot(2, 16) == 4 : \"2\";\n",
    "assert NthRoot(4, 81) == 3 : \"3\";\n",
    "assert NthRoot(3, 15) == -1 : \"4\";\n",
    "assert NthRoot(10, 1024) == 2 : \"5\";\n",
    "\n",
    "System.out.println(\"✅ All tests passed!\");"
   ]
  },
  {
   "cell_type": "markdown",
   "metadata": {},
   "source": [
    "### Median in a Row-Wise Sorted Matrix\n",
    "\n",
    "Given a row-wise sorted matrix of size R*C where R and C are always odd, find the median of the matrix.\n",
    "\n",
    "**Args:**\n",
    "\n",
    "- matrix (int[][]): A 2D array representing the matrix.\n",
    "- R (int): Number of rows in the matrix.\n",
    "- C (int): Number of columns in the matrix.\n",
    "\n",
    "**Returns:**\n",
    "\n",
    "- int: The median of the matrix."
   ]
  },
  {
   "cell_type": "code",
   "execution_count": 8,
   "metadata": {
    "vscode": {
     "languageId": "java"
    }
   },
   "outputs": [
    {
     "name": "stdout",
     "output_type": "stream",
     "text": [
      "5\n",
      "12\n"
     ]
    }
   ],
   "source": [
    "// Brute-force Approach\n",
    "public static int median(int matrix[][], int R, int C) {\n",
    "  int[] flatMatrix = new int[R * C];\n",
    "  int index = 0;\n",
    "\n",
    "  // Flatten the matrix into a single array\n",
    "  for (int i = 0; i < R; i++) {\n",
    "      for (int j = 0; j < C; j++) {\n",
    "          flatMatrix[index++] = matrix[i][j];\n",
    "      }\n",
    "  }\n",
    "\n",
    "  // Sort the flattened matrix\n",
    "  Arrays.sort(flatMatrix);\n",
    "\n",
    "  // Return the middle element\n",
    "  return flatMatrix[(R * C) / 2];\n",
    "}\n",
    "\n",
    "\n",
    "int[][] matrix = { {1, 3, 5}, {2, 6, 9}, {3, 6, 9} };\n",
    "System.out.println(median(matrix, 3, 3));\n",
    "\n",
    "int[][] matrix = {{18}, {13}, {8}, {1}, {12}, {1}, {14}, {17}, {15}, {8}, {2}};\n",
    "System.out.println(median(matrix, 11, 1));"
   ]
  },
  {
   "cell_type": "code",
   "execution_count": 14,
   "metadata": {
    "vscode": {
     "languageId": "java"
    }
   },
   "outputs": [
    {
     "name": "stdout",
     "output_type": "stream",
     "text": [
      "5\n",
      "12\n"
     ]
    }
   ],
   "source": [
    "public static int upperBound(int[] arr, int x, int n) {\n",
    "  int low = 0, high = n - 1;\n",
    "  int ans = n;\n",
    "\n",
    "  while (low <= high) {\n",
    "      int mid = (low + high) / 2;\n",
    "      // Check if the middle element is greater than x\n",
    "      if (arr[mid] > x) {\n",
    "          ans = mid;\n",
    "          high = mid - 1; // Move to the left part\n",
    "      } else {\n",
    "          low = mid + 1; // Move to the right part\n",
    "      }\n",
    "  }\n",
    "  return ans;\n",
    "}\n",
    "\n",
    "public static int countSmallEqual(int[][] matrix, int R, int C, int x) {\n",
    "  int count = 0;\n",
    "  for (int i = 0; i < R; i++) {\n",
    "      count += upperBound(matrix[i], x, C); // Count elements less than or equal to x in each row\n",
    "  }\n",
    "  return count;\n",
    "}\n",
    "\n",
    "public static int median(int[][] matrix, int R, int C) {\n",
    "  int low = Integer.MAX_VALUE, high = Integer.MIN_VALUE;\n",
    "\n",
    "  // Determine the minimum and maximum elements in the matrix\n",
    "  for (int i = 0; i < R; i++) {\n",
    "      low = Math.min(low, matrix[i][0]); // First element of each row\n",
    "      high = Math.max(high, matrix[i][C - 1]); // Last element of each row\n",
    "  }\n",
    "\n",
    "  int requiredCount = (R * C) / 2; // The index of the median in a sorted list\n",
    "\n",
    "  // Binary search to find the median\n",
    "  while (low <= high) {\n",
    "      int mid = (low + high) / 2;\n",
    "      int smallEqualCount = countSmallEqual(matrix, R, C, mid);\n",
    "\n",
    "      if (smallEqualCount <= requiredCount) {\n",
    "          low = mid + 1; // Move right if there are too few elements <= mid\n",
    "      } else {\n",
    "          high = mid - 1; // Move left if there are enough elements <= mid\n",
    "      }\n",
    "  }\n",
    "\n",
    "  return low; // The low pointer will have the median value\n",
    "}\n",
    "\n",
    "int[][] matrix = { {1, 3, 5}, {2, 6, 9}, {3, 6, 9} };\n",
    "System.out.println(median(matrix, 3, 3));\n",
    "\n",
    "int[][] matrix = {{18}, {13}, {8}, {1}, {12}, {1}, {14}, {17}, {15}, {8}, {2}};\n",
    "System.out.println(median(matrix, 11, 1));"
   ]
  },
  {
   "cell_type": "code",
   "execution_count": 29,
   "metadata": {
    "vscode": {
     "languageId": "java"
    }
   },
   "outputs": [],
   "source": [
    "// public static int median(int matrix[][], int R, int C) {\n",
    "//     // Implementation goes here\n",
    "// }\n",
    "\n",
    "// int[][] matrix = { {1, 3, 5}, {2, 6, 9}, {3, 6, 9} };\n",
    "// System.out.println(median(matrix, 3, 3));"
   ]
  },
  {
   "cell_type": "code",
   "execution_count": 16,
   "metadata": {
    "vscode": {
     "languageId": "java"
    }
   },
   "outputs": [
    {
     "name": "stdout",
     "output_type": "stream",
     "text": [
      "✅ All tests passed!\n"
     ]
    }
   ],
   "source": [
    "// Test calls\n",
    "assert median(new int[][] { {1, 2, 3} }, 1, 3) == 2 : \"1\";\n",
    "assert median(new int[][] { {1}, {2}, {3} }, 3, 1) == 2 : \"2\";\n",
    "assert median(new int[][] { {1, 3, 5}, {2, 6, 9}, {3, 6, 9} }, 3, 3) == 5 : \"3\";\n",
    "assert median(new int[][] { {1, 10, 20}, {2, 15, 30}, {5, 25, 35}, {7, 27, 40}, {12, 29, 50} }, 5, 3) == 20 : \"4\";\n",
    "assert median(new int[][] {{18}, {13}, {8}, {1}, {12}, {1}, {14}, {17}, {15}, {8}, {2}}, 11, 1) == 12 : \"5\";\n",
    "\n",
    "System.out.println(\"✅ All tests passed!\");"
   ]
  }
 ],
 "metadata": {
  "kernelspec": {
   "display_name": "Java",
   "language": "java",
   "name": "java"
  },
  "language_info": {
   "codemirror_mode": "java",
   "file_extension": ".jshell",
   "mimetype": "text/x-java-source",
   "name": "Java",
   "pygments_lexer": "java",
   "version": "21.0.1+12-LTS-29"
  }
 },
 "nbformat": 4,
 "nbformat_minor": 2
}
