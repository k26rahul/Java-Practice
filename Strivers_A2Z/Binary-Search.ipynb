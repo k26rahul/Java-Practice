{
 "cells": [
  {
   "cell_type": "markdown",
   "metadata": {},
   "source": [
    "https://takeuforward.org/interviews/strivers-sde-sheet-top-coding-interview-problems\n",
    "\n",
    "# Day 11: Binary Search"
   ]
  },
  {
   "cell_type": "code",
   "execution_count": 20,
   "metadata": {},
   "outputs": [],
   "source": [
    "%classpath add jar \"../lib/Helpers.jar\";\n",
    "import static Helpers.Helpers.print;"
   ]
  },
  {
   "cell_type": "markdown",
   "metadata": {},
   "source": [
    "### Nth Root of a Number using Binary Search\n",
    "\n",
    "Finds the Nth root of a number M using binary search. If the Nth root is not an integer, returns -1.\n",
    "\n",
    "**Args:**\n",
    "\n",
    "- n (int): The degree of the root.\n",
    "- m (int): The number whose Nth root is to be found.\n",
    "\n",
    "**Returns:**\n",
    "\n",
    "- int: The Nth root of M, or -1 if the Nth root is not an integer."
   ]
  },
  {
   "cell_type": "code",
   "execution_count": 21,
   "metadata": {},
   "outputs": [
    {
     "name": "stdout",
     "output_type": "stream",
     "text": [
      "3\n"
     ]
    }
   ],
   "source": [
    "public static int NthRoot(int n, int m) {\n",
    "  int low = 1, high = m;\n",
    "  \n",
    "  while (low <= high) {\n",
    "      int mid = (low + high) / 2;\n",
    "      long power = 1;\n",
    "      \n",
    "      for (int i = 0; i < n; i++) {\n",
    "          power *= mid;\n",
    "          if (power > m) break;\n",
    "      }\n",
    "\n",
    "      if (power == m) {\n",
    "          return mid;\n",
    "      } else if (power < m) {\n",
    "          low = mid + 1;\n",
    "      } else {\n",
    "          high = mid - 1;\n",
    "      }\n",
    "  }\n",
    "  return -1;\n",
    "}\n",
    "\n",
    "System.out.println(NthRoot(4, 81));"
   ]
  },
  {
   "cell_type": "code",
   "execution_count": 22,
   "metadata": {},
   "outputs": [
    {
     "name": "stdout",
     "output_type": "stream",
     "text": [
      "3\n"
     ]
    }
   ],
   "source": [
    "// Brute Force Approach\n",
    "public static int NthRoot(int n, int m) {\n",
    "  for (int x = 1; x <= m; x++) {\n",
    "      long power = 1;\n",
    "      for (int i = 0; i < n; i++) {\n",
    "          power *= x;\n",
    "          if (power > m) break;\n",
    "      }\n",
    "\n",
    "      if (power == m) {\n",
    "          return x;\n",
    "      }\n",
    "  }\n",
    "  return -1;\n",
    "}\n",
    "\n",
    "System.out.println(NthRoot(3, 27));"
   ]
  },
  {
   "cell_type": "code",
   "execution_count": 23,
   "metadata": {},
   "outputs": [],
   "source": [
    "// public static int NthRoot(int n, int m) {\n",
    "//     // Implementation goes here\n",
    "// }\n",
    "\n",
    "// System.out.println(NthRoot(3, 27));"
   ]
  },
  {
   "cell_type": "code",
   "execution_count": 24,
   "metadata": {},
   "outputs": [
    {
     "name": "stdout",
     "output_type": "stream",
     "text": [
      "✅ All tests passed!\n"
     ]
    }
   ],
   "source": [
    "// Test calls\n",
    "assert NthRoot(3, 27) == 3 : \"1\";\n",
    "assert NthRoot(2, 16) == 4 : \"2\";\n",
    "assert NthRoot(4, 81) == 3 : \"3\";\n",
    "assert NthRoot(3, 15) == -1 : \"4\";\n",
    "assert NthRoot(10, 1024) == 2 : \"5\";\n",
    "\n",
    "System.out.println(\"✅ All tests passed!\");"
   ]
  },
  {
   "cell_type": "markdown",
   "metadata": {},
   "source": [
    "### Median in a Row-Wise Sorted Matrix\n",
    "\n",
    "Given a row-wise sorted matrix of size R*C where R and C are always odd, find the median of the matrix.\n",
    "\n",
    "**Args:**\n",
    "\n",
    "- matrix (int[][]): A 2D array representing the matrix.\n",
    "- R (int): Number of rows in the matrix.\n",
    "- C (int): Number of columns in the matrix.\n",
    "\n",
    "**Returns:**\n",
    "\n",
    "- int: The median of the matrix."
   ]
  },
  {
   "cell_type": "code",
   "execution_count": 37,
   "metadata": {},
   "outputs": [
    {
     "name": "stdout",
     "output_type": "stream",
     "text": [
      "5\n"
     ]
    }
   ],
   "source": [
    "// Brute-force Approach\n",
    "public static int median(int matrix[][], int R, int C) {\n",
    "  int[] flatMatrix = new int[R * C];\n",
    "  int index = 0;\n",
    "\n",
    "  // Flatten the matrix into a single array\n",
    "  for (int i = 0; i < R; i++) {\n",
    "      for (int j = 0; j < C; j++) {\n",
    "          flatMatrix[index++] = matrix[i][j];\n",
    "      }\n",
    "  }\n",
    "\n",
    "  // Sort the flattened matrix\n",
    "  Arrays.sort(flatMatrix);\n",
    "\n",
    "  // Return the middle element\n",
    "  return flatMatrix[(R * C) / 2];\n",
    "}\n",
    "\n",
    "\n",
    "int[][] matrix = { {1, 3, 5}, {2, 6, 9}, {3, 6, 9} };\n",
    "System.out.println(median(matrix, 3, 3));"
   ]
  },
  {
   "cell_type": "code",
   "execution_count": 41,
   "metadata": {},
   "outputs": [
    {
     "name": "stdout",
     "output_type": "stream",
     "text": [
      "5\n"
     ]
    }
   ],
   "source": [
    "public static int median(int[][] matrix, int R, int C) {\n",
    "  // Binary Search Approach\n",
    "  int low = matrix[0][0];\n",
    "  int high = matrix[R - 1][C - 1];\n",
    "  int desired = (R * C + 1) / 2;\n",
    "\n",
    "  while (low < high) {\n",
    "      int mid = low + (high - low) / 2;\n",
    "      int count = 0;\n",
    "\n",
    "      // Count elements less than or equal to mid\n",
    "      for (int i = 0; i < R; i++) {\n",
    "          count += upperBound(matrix[i], mid);\n",
    "      }\n",
    "\n",
    "      if (count < desired) {\n",
    "          low = mid + 1;\n",
    "      } else {\n",
    "          high = mid;\n",
    "      }\n",
    "  }\n",
    "  return low;\n",
    "}\n",
    "\n",
    "// Helper function to find the upper bound of 'mid' in a row\n",
    "private static int upperBound(int[] row, int mid) {\n",
    "  int low = 0;\n",
    "  int high = row.length;\n",
    "  while (low < high) {\n",
    "      int m = low + (high - low) / 2;\n",
    "      if (row[m] <= mid) {\n",
    "          low = m + 1;\n",
    "      } else {\n",
    "          high = m;\n",
    "      }\n",
    "  }\n",
    "  return low;\n",
    "}\n",
    "\n",
    "int[][] matrix = { {1, 3, 5}, {2, 6, 9}, {3, 6, 9} };\n",
    "System.out.println(median(matrix, 3, 3));"
   ]
  },
  {
   "cell_type": "code",
   "execution_count": 29,
   "metadata": {},
   "outputs": [],
   "source": [
    "// public static int median(int matrix[][], int R, int C) {\n",
    "//     // Implementation goes here\n",
    "// }\n",
    "\n",
    "// int[][] matrix = { {1, 3, 5}, {2, 6, 9}, {3, 6, 9} };\n",
    "// System.out.println(median(matrix, 3, 3));"
   ]
  },
  {
   "cell_type": "code",
   "execution_count": 42,
   "metadata": {},
   "outputs": [
    {
     "name": "stdout",
     "output_type": "stream",
     "text": [
      "✅ All tests passed!\n"
     ]
    }
   ],
   "source": [
    "// Test calls\n",
    "assert median(new int[][] { {1, 2, 3} }, 1, 3) == 2 : \"1\";\n",
    "assert median(new int[][] { {1}, {2}, {3} }, 3, 1) == 2 : \"2\";\n",
    "assert median(new int[][] { {1, 3, 5}, {2, 6, 9}, {3, 6, 9} }, 3, 3) == 5 : \"3\";\n",
    "assert median(new int[][] { {1, 10, 20}, {2, 15, 30}, {5, 25, 35}, {7, 27, 40}, {12, 29, 50} }, 5, 3) == 20 : \"4\";\n",
    "\n",
    "System.out.println(\"✅ All tests passed!\");"
   ]
  }
 ],
 "metadata": {
  "kernelspec": {
   "display_name": "Java",
   "language": "java",
   "name": "java"
  },
  "language_info": {
   "codemirror_mode": "java",
   "file_extension": ".jshell",
   "mimetype": "text/x-java-source",
   "name": "java",
   "pygments_lexer": "java",
   "version": "21.0.1+12-LTS-29"
  }
 },
 "nbformat": 4,
 "nbformat_minor": 2
}
