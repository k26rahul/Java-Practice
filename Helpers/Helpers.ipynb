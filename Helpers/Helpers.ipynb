{
 "cells": [
  {
   "cell_type": "markdown",
   "metadata": {},
   "source": [
    "# 🔪🗡️ print(Object... args) ⚔️🪄"
   ]
  },
  {
   "cell_type": "code",
   "execution_count": 1,
   "metadata": {
    "vscode": {
     "languageId": "java"
    }
   },
   "outputs": [],
   "source": [
    "// javac Helpers/Helpers.java\n",
    "// jar cfm Helpers.jar Manifest.txt Helpers/Helpers.class\n",
    "// jar tf Helpers.jar\n",
    "\n",
    "// Helpers.jar\n",
    "// └── Helpers\n",
    "//     └── Helpers.class\n",
    "\n",
    "// %classpath add jar Helpers.jar\n",
    "// import static Helpers.Helpers.print;\n",
    "// print(7);"
   ]
  },
  {
   "cell_type": "code",
   "execution_count": 2,
   "metadata": {
    "vscode": {
     "languageId": "java"
    }
   },
   "outputs": [],
   "source": [
    "public static void print(Object... args) {\n",
    "  if (args.getClass() != Object[].class) {\n",
    "    System.out.println(getStringRepresentation(args));\n",
    "    return;\n",
    "  }\n",
    "  \n",
    "  StringBuilder sb = new StringBuilder();\n",
    "  for (Object arg : args) {\n",
    "    sb.append(getStringRepresentation(arg)).append(\" \");\n",
    "  }\n",
    "  System.out.println(sb.toString().trim());\n",
    "}\n",
    "\n",
    "private static String getStringRepresentation(Object arg) {\n",
    "  if (arg.getClass().isArray()) {\n",
    "      Class<?> type = arg.getClass().getComponentType();\n",
    "      if (type.isPrimitive()) {\n",
    "          if (type == int.class) return Arrays.toString((int[]) arg);\n",
    "          if (type == double.class) return Arrays.toString((double[]) arg);\n",
    "          if (type == float.class) return Arrays.toString((float[]) arg);\n",
    "          if (type == long.class) return Arrays.toString((long[]) arg);\n",
    "          if (type == short.class) return Arrays.toString((short[]) arg);\n",
    "          if (type == byte.class) return Arrays.toString((byte[]) arg);\n",
    "          if (type == char.class) return Arrays.toString((char[]) arg);\n",
    "          if (type == boolean.class) return Arrays.toString((boolean[]) arg);\n",
    "      }\n",
    "      Object[] objects = (Object[]) arg;\n",
    "      return Arrays.deepToString(objects);\n",
    "  }\n",
    "  \n",
    "  if (arg instanceof Iterable) {\n",
    "      StringBuilder sb = new StringBuilder();\n",
    "      sb.append(\"[\");\n",
    "      Iterator<?> iterator = ((Iterable<?>) arg).iterator();\n",
    "      if (iterator.hasNext()) {\n",
    "          sb.append(getStringRepresentation(iterator.next()));\n",
    "      }\n",
    "      while (iterator.hasNext()) {\n",
    "          sb.append(\", \").append(getStringRepresentation(iterator.next()));\n",
    "      }\n",
    "      sb.append(\"]\");\n",
    "      return sb.toString();\n",
    "  }\n",
    "\n",
    "  return arg.toString();\n",
    "}"
   ]
  },
  {
   "cell_type": "code",
   "execution_count": 3,
   "metadata": {
    "vscode": {
     "languageId": "java"
    }
   },
   "outputs": [],
   "source": [
    "static class CustomObject {\n",
    "  @Override\n",
    "  public String toString() {\n",
    "      return \">Beautiful custom object<\";\n",
    "  }\n",
    "}"
   ]
  },
  {
   "cell_type": "code",
   "execution_count": 4,
   "metadata": {
    "vscode": {
     "languageId": "java"
    }
   },
   "outputs": [
    {
     "name": "stdout",
     "output_type": "stream",
     "text": [
      "7\n",
      "7 8 9\n",
      "[1, 2, 3]\n",
      "[a, b, c]\n"
     ]
    }
   ],
   "source": [
    "print(7);\n",
    "print(7, 8, 9);\n",
    "print(new int[]{1, 2, 3});\n",
    "print(new String[]{\"a\", \"b\", \"c\"});"
   ]
  },
  {
   "cell_type": "code",
   "execution_count": 5,
   "metadata": {
    "vscode": {
     "languageId": "java"
    }
   },
   "outputs": [
    {
     "name": "stdout",
     "output_type": "stream",
     "text": [
      ">Beautiful custom object< >Beautiful custom object<\n"
     ]
    },
    {
     "name": "stdout",
     "output_type": "stream",
     "text": [
      "[>Beautiful custom object<, >Beautiful custom object<]\n",
      "[>Beautiful custom object<, >Beautiful custom object<]\n"
     ]
    }
   ],
   "source": [
    "print(new CustomObject(), new CustomObject());\n",
    "print(new CustomObject[]{new CustomObject(), new CustomObject()});\n",
    "print(Arrays.asList(new CustomObject[]{new CustomObject(), new CustomObject()}));"
   ]
  },
  {
   "cell_type": "code",
   "execution_count": 6,
   "metadata": {
    "vscode": {
     "languageId": "java"
    }
   },
   "outputs": [
    {
     "name": "stdout",
     "output_type": "stream",
     "text": [
      "1 2 3 4 5\n"
     ]
    },
    {
     "name": "stdout",
     "output_type": "stream",
     "text": [
      "Hello world this is Java\n",
      "42 Answer 3.14 true >Beautiful custom object<\n"
     ]
    }
   ],
   "source": [
    "print(1, 2, 3, 4, 5);\n",
    "print(\"Hello\", \"world\", \"this\", \"is\", \"Java\");\n",
    "print(42, \"Answer\", 3.14, true, new CustomObject());"
   ]
  },
  {
   "cell_type": "code",
   "execution_count": 7,
   "metadata": {
    "vscode": {
     "languageId": "java"
    }
   },
   "outputs": [
    {
     "name": "stdout",
     "output_type": "stream",
     "text": [
      "[1, 2, 3]\n",
      "[a, b, c]\n",
      "[true, false, true]\n",
      "[1.1, 2.2, 3.3]\n",
      "[1.1, 2.2, 3.3]\n",
      "[10000000000, 20000000000, 30000000000]\n",
      "[1000, 2000, 3000]\n",
      "[10, 20, 30]\n",
      "[1, 2, 3]\n",
      "[Hello, World]\n"
     ]
    }
   ],
   "source": [
    "print(new int[]{1, 2, 3});\n",
    "print(new char[]{'a', 'b', 'c'});\n",
    "print(new boolean[]{true, false, true});\n",
    "print(new double[]{1.1, 2.2, 3.3});\n",
    "print(new float[]{1.1f, 2.2f, 3.3f});\n",
    "print(new long[]{10000000000L, 20000000000L, 30000000000L});\n",
    "print(new short[]{1000, 2000, 3000});\n",
    "print(new byte[]{10, 20, 30});\n",
    "print(Arrays.asList(1, 2, 3));\n",
    "print(Arrays.asList(\"Hello\", \"World\"));"
   ]
  },
  {
   "cell_type": "code",
   "execution_count": 8,
   "metadata": {
    "vscode": {
     "languageId": "java"
    }
   },
   "outputs": [
    {
     "name": "stdout",
     "output_type": "stream",
     "text": [
      "[a, b, c]\n",
      "[a, b, c]\n",
      "[>Beautiful custom object<, >Beautiful custom object<]\n",
      "[>Beautiful custom object<, >Beautiful custom object<]\n"
     ]
    }
   ],
   "source": [
    "print(new String[]{\"a\", \"b\", \"c\"});\n",
    "print(Arrays.asList(new String[]{\"a\", \"b\", \"c\"}));\n",
    "\n",
    "print(new CustomObject[]{new CustomObject(), new CustomObject()});\n",
    "print(Arrays.asList(new CustomObject(), new CustomObject()));"
   ]
  },
  {
   "cell_type": "code",
   "execution_count": 9,
   "metadata": {
    "vscode": {
     "languageId": "java"
    }
   },
   "outputs": [
    {
     "name": "stdout",
     "output_type": "stream",
     "text": [
      "[a, b, c] [a, b, c]\n",
      "[[a, b, c], [a, b, c]]\n"
     ]
    },
    {
     "name": "stdout",
     "output_type": "stream",
     "text": [
      "[[a, b, c], [a, b, c]]\n"
     ]
    }
   ],
   "source": [
    "print(new String[]{\"a\", \"b\", \"c\"}, new String[]{\"a\", \"b\", \"c\"});\n",
    "print(new String[][] {new String[]{\"a\", \"b\", \"c\"}, new String[]{\"a\", \"b\", \"c\"}});\n",
    "print(Arrays.asList(new String[]{\"a\", \"b\", \"c\"}, new String[]{\"a\", \"b\", \"c\"}));"
   ]
  },
  {
   "cell_type": "code",
   "execution_count": 10,
   "metadata": {
    "vscode": {
     "languageId": "java"
    }
   },
   "outputs": [
    {
     "name": "stdout",
     "output_type": "stream",
     "text": [
      "[1, 2, 3] [1, 2, 3]\n"
     ]
    },
    {
     "name": "stdout",
     "output_type": "stream",
     "text": [
      "[[1, 2, 3], [1, 2, 3]]\n",
      "[[1, 2, 3], [1, 2, 3]]\n"
     ]
    }
   ],
   "source": [
    "print(new int[]{1, 2, 3}, new int[]{1, 2, 3});\n",
    "print(new int[][] {new int[]{1, 2, 3}, new int[]{1, 2, 3}});\n",
    "print(Arrays.asList(new int[]{1, 2, 3}, new int[]{1, 2, 3}));"
   ]
  },
  {
   "cell_type": "code",
   "execution_count": 11,
   "metadata": {
    "vscode": {
     "languageId": "java"
    }
   },
   "outputs": [
    {
     "name": "stdout",
     "output_type": "stream",
     "text": [
      "[[1, 2], [3, [4, 5]], [6]]\n"
     ]
    },
    {
     "name": "stdout",
     "output_type": "stream",
     "text": [
      "[[x, y, z], [false, true]]\n"
     ]
    }
   ],
   "source": [
    "print(Arrays.asList(\n",
    "    Arrays.asList(1, 2), \n",
    "    Arrays.asList(3, Arrays.asList(4, 5)), \n",
    "    Arrays.asList(6)\n",
    "));\n",
    "print(Arrays.asList(\n",
    "    Arrays.asList('x', 'y', 'z'),\n",
    "    Arrays.asList(false, true)\n",
    "));"
   ]
  }
 ],
 "metadata": {
  "kernelspec": {
   "display_name": "Java",
   "language": "java",
   "name": "java"
  },
  "language_info": {
   "codemirror_mode": "java",
   "file_extension": ".jshell",
   "mimetype": "text/x-java-source",
   "name": "Java",
   "pygments_lexer": "java",
   "version": "21.0.1+12-LTS-29"
  }
 },
 "nbformat": 4,
 "nbformat_minor": 2
}
