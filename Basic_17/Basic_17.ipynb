{
 "cells": [
  {
   "cell_type": "markdown",
   "metadata": {},
   "source": [
    "😈 **String Manipulation:**\n",
    "\n",
    "1. Reverse String\n",
    "\n",
    "2. Check Palindrome\n",
    "\n",
    "3. Count Vowels in a Sentence\n",
    "\n",
    "4. Find Longest Word in a Sentence\n",
    "\n",
    "5. Sort String Descending\n",
    "\n",
    "6. Caesar Cipher Encode\n",
    "\n",
    "7. Caesar Cipher Decode\n",
    "\n",
    "\n",
    "😈 **Mathematics:**\n",
    "\n",
    "8. Calculate Factorial\n",
    "\n",
    "9. Sum of Digits\n",
    "\n",
    "\n",
    "😈 **List and Array Operations:**\n",
    "\n",
    "10. Check if List is Sublist of Another List\n",
    "\n",
    "11. Merge Two Sorted Lists\n",
    "\n",
    "12. Find Unique Common Elements\n",
    "\n",
    "13. Flatten Nested List\n",
    "\n",
    "14. Find Second Largest Number\n",
    "\n",
    "15. Rotate Matrix Clockwise\n",
    "\n",
    "16. Dot Product of Two Vectors\n",
    "\n",
    "17. Binary to Decimal Conversion"
   ]
  },
  {
   "cell_type": "markdown",
   "metadata": {},
   "source": [
    "### Reverse String\n",
    "\n",
    "Reverses the input string.\n",
    "\n",
    "**Args:**\n",
    "\n",
    "- inputString (String): The string to be reversed.\n",
    "\n",
    "**Returns:**\n",
    "\n",
    "- String: The reversed string."
   ]
  },
  {
   "cell_type": "code",
   "execution_count": 4,
   "metadata": {
    "vscode": {
     "languageId": "java"
    }
   },
   "outputs": [
    {
     "data": {
      "text/plain": [
       "olleh"
      ]
     },
     "execution_count": 4,
     "metadata": {},
     "output_type": "execute_result"
    }
   ],
   "source": [
    "public static String reverseString(String inputString) {\n",
    "  String reversed = \"\";\n",
    "  for (int i = inputString.length() - 1; i >= 0; i--) {\n",
    "      reversed += inputString.charAt(i);\n",
    "  }\n",
    "  return reversed;\n",
    "}\n",
    "\n",
    "reverseString(\"hello\");"
   ]
  },
  {
   "cell_type": "code",
   "execution_count": 6,
   "metadata": {
    "vscode": {
     "languageId": "java"
    }
   },
   "outputs": [
    {
     "data": {
      "text/plain": [
       "olleh"
      ]
     },
     "execution_count": 6,
     "metadata": {},
     "output_type": "execute_result"
    }
   ],
   "source": [
    "public static String reverseString(String inputString) {\n",
    "  return new StringBuilder(inputString).reverse().toString();\n",
    "}\n",
    "\n",
    "reverseString(\"hello\");"
   ]
  },
  {
   "cell_type": "code",
   "execution_count": 7,
   "metadata": {
    "vscode": {
     "languageId": "java"
    }
   },
   "outputs": [],
   "source": [
    "// public static String reverseString(String inputString) {\n",
    "//   // Implementation goes here\n",
    "// }\n",
    "\n",
    "// reverseString(\"hello\");"
   ]
  },
  {
   "cell_type": "code",
   "execution_count": 9,
   "metadata": {
    "vscode": {
     "languageId": "java"
    }
   },
   "outputs": [
    {
     "name": "stdout",
     "output_type": "stream",
     "text": [
      "✅ All tests passed!\n"
     ]
    }
   ],
   "source": [
    "// Test calls\n",
    "assert reverseString(\"hello\").equals(\"olleh\") : \"1\";\n",
    "assert reverseString(\"world\").equals(\"dlrow\") : \"2\";\n",
    "assert reverseString(\"Python\").equals(\"nohtyP\") : \"3\";\n",
    "assert reverseString(\"practice\").equals(\"ecitcarp\") : \"4\";\n",
    "\n",
    "System.out.println(\"✅ All tests passed!\");"
   ]
  },
  {
   "cell_type": "markdown",
   "metadata": {},
   "source": [
    "### Is Palindrome\n",
    "\n",
    "Checks if the input string is a palindrome.\n",
    "\n",
    "A palindrome is a word that reads the same forward and backward.\n",
    "\n",
    "**Args:**\n",
    "\n",
    "- inputString (String): The string to check.\n",
    "\n",
    "**Returns:**\n",
    "\n",
    "- boolean: True if the string is a palindrome, False otherwise.\n"
   ]
  },
  {
   "cell_type": "code",
   "execution_count": 10,
   "metadata": {
    "vscode": {
     "languageId": "java"
    }
   },
   "outputs": [
    {
     "data": {
      "text/plain": [
       "false"
      ]
     },
     "execution_count": 10,
     "metadata": {},
     "output_type": "execute_result"
    }
   ],
   "source": [
    "public static boolean isPalindrome(String inputString) {\n",
    "  String reversedString = new StringBuilder(inputString).reverse().toString();\n",
    "  return inputString == reversedString;\n",
    "}\n",
    "\n",
    "isPalindrome(\"racecar\");"
   ]
  },
  {
   "cell_type": "code",
   "execution_count": 12,
   "metadata": {
    "vscode": {
     "languageId": "java"
    }
   },
   "outputs": [
    {
     "data": {
      "text/plain": [
       "true"
      ]
     },
     "execution_count": 12,
     "metadata": {},
     "output_type": "execute_result"
    }
   ],
   "source": [
    "public static boolean isPalindrome(String inputString) {\n",
    "  int length = inputString.length();\n",
    "  for (int i = 0; i < length / 2; i++) {\n",
    "      if (inputString.charAt(i) != inputString.charAt(length - i - 1)) {\n",
    "          return false;\n",
    "      }\n",
    "  }\n",
    "  return true;\n",
    "}\n",
    "\n",
    "isPalindrome(\"racecar\");"
   ]
  },
  {
   "cell_type": "code",
   "execution_count": 5,
   "metadata": {
    "vscode": {
     "languageId": "java"
    }
   },
   "outputs": [],
   "source": [
    "// public static boolean isPalindrome(String inputString) {\n",
    "//   // Implementation goes here\n",
    "// }\n",
    "\n",
    "// isPalindrome(\"racecar\");"
   ]
  },
  {
   "cell_type": "code",
   "execution_count": 14,
   "metadata": {
    "vscode": {
     "languageId": "java"
    }
   },
   "outputs": [
    {
     "name": "stdout",
     "output_type": "stream",
     "text": [
      "✅ All tests passed!\n"
     ]
    }
   ],
   "source": [
    "// Test calls\n",
    "assert isPalindrome(\"racecar\") == true : \"1\";\n",
    "assert isPalindrome(\"hello\") == false : \"2\";\n",
    "assert isPalindrome(\"level\") == true : \"3\";\n",
    "assert isPalindrome(\"world\") == false : \"4\";\n",
    "assert isPalindrome(\"rotor\") == true : \"5\";\n",
    "assert isPalindrome(\"palindrome\") == false : \"6\";\n",
    "\n",
    "System.out.println(\"✅ All tests passed!\");"
   ]
  },
  {
   "cell_type": "markdown",
   "metadata": {},
   "source": [
    "### Factorial\n",
    "\n",
    "Calculates the factorial of a number.\n",
    "\n",
    "**Args:**\n",
    "\n",
    "- n (int): The number for which factorial is to be calculated.\n",
    "\n",
    "**Returns:**\n",
    "\n",
    "- int: The factorial of the given number.\n"
   ]
  },
  {
   "cell_type": "code",
   "execution_count": 15,
   "metadata": {
    "vscode": {
     "languageId": "java"
    }
   },
   "outputs": [
    {
     "data": {
      "text/plain": [
       "120"
      ]
     },
     "execution_count": 15,
     "metadata": {},
     "output_type": "execute_result"
    }
   ],
   "source": [
    "public static int factorial(int n) {\n",
    "  int result = 1;\n",
    "  for (int i = 1; i <= n; i++) {\n",
    "    result *= i;\n",
    "  }\n",
    "  return result;\n",
    "}\n",
    "\n",
    "factorial(5);"
   ]
  },
  {
   "cell_type": "code",
   "execution_count": 8,
   "metadata": {
    "vscode": {
     "languageId": "java"
    }
   },
   "outputs": [],
   "source": [
    "// public static int factorial(int n) {\n",
    "//   // Implementation goes here\n",
    "// }\n",
    "\n",
    "// factorial(5);"
   ]
  },
  {
   "cell_type": "code",
   "execution_count": 16,
   "metadata": {
    "vscode": {
     "languageId": "java"
    }
   },
   "outputs": [
    {
     "name": "stdout",
     "output_type": "stream",
     "text": [
      "✅ All tests passed!\n"
     ]
    }
   ],
   "source": [
    "// Test calls\n",
    "assert factorial(0) == 1 : \"1\";\n",
    "assert factorial(1) == 1 : \"2\";\n",
    "assert factorial(2) == 2 : \"3\";\n",
    "assert factorial(3) == 6 : \"4\";\n",
    "assert factorial(4) == 24 : \"5\";\n",
    "assert factorial(5) == 120 : \"6\";\n",
    "\n",
    "System.out.println(\"✅ All tests passed!\");"
   ]
  },
  {
   "cell_type": "markdown",
   "metadata": {},
   "source": [
    "### Count Vowels\n",
    "\n",
    "Counts the number of vowels in a sentence.\n",
    "\n",
    "**Args:**\n",
    "\n",
    "- sentence (String): The input sentence.\n",
    "\n",
    "**Returns:**\n",
    "\n",
    "- int: The number of vowels in the sentence."
   ]
  },
  {
   "cell_type": "code",
   "execution_count": 17,
   "metadata": {
    "vscode": {
     "languageId": "java"
    }
   },
   "outputs": [
    {
     "data": {
      "text/plain": [
       "2"
      ]
     },
     "execution_count": 17,
     "metadata": {},
     "output_type": "execute_result"
    }
   ],
   "source": [
    "public static int countVowels(String sentence) {\n",
    "  int count = 0;\n",
    "  String vowels = \"aeiouAEIOU\";\n",
    "  for (char c : sentence.toCharArray()) {\n",
    "      if (vowels.indexOf(c) != -1) {\n",
    "          count++;\n",
    "      }\n",
    "  }\n",
    "  return count;\n",
    "}\n",
    "\n",
    "countVowels(\"hello\");"
   ]
  },
  {
   "cell_type": "code",
   "execution_count": 11,
   "metadata": {
    "vscode": {
     "languageId": "java"
    }
   },
   "outputs": [],
   "source": [
    "// public static int countVowels(String sentence) {\n",
    "//   // Implementation goes here\n",
    "// }\n",
    "\n",
    "// countVowels(\"hello\");"
   ]
  },
  {
   "cell_type": "code",
   "execution_count": 18,
   "metadata": {
    "vscode": {
     "languageId": "java"
    }
   },
   "outputs": [
    {
     "name": "stdout",
     "output_type": "stream",
     "text": [
      "✅ All tests passed!\n"
     ]
    }
   ],
   "source": [
    "// Test calls\n",
    "assert countVowels(\"hello\") == 2 : \"1\";\n",
    "assert countVowels(\"world\") == 1 : \"2\";\n",
    "assert countVowels(\"Python programming\") == 4 : \"3\";\n",
    "assert countVowels(\"The quick brown fox jumps over the lazy dog\") == 11 : \"4\";\n",
    "assert countVowels(\"aeiou\") == 5 : \"5\";\n",
    "\n",
    "System.out.println(\"✅ All tests passed!\");"
   ]
  },
  {
   "cell_type": "markdown",
   "metadata": {},
   "source": [
    "### Longest Word\n",
    "\n",
    "Finds the longest word in a sentence.\n",
    "\n",
    "**Args:**\n",
    "\n",
    "- sentence (String): The input sentence.\n",
    "\n",
    "**Returns:**\n",
    "\n",
    "- String: The first longest word in the sentence. If multiple words have the same longest length, it returns the first one encountered.\n"
   ]
  },
  {
   "cell_type": "code",
   "execution_count": 25,
   "metadata": {
    "vscode": {
     "languageId": "java"
    }
   },
   "outputs": [
    {
     "data": {
      "text/plain": [
       "Sanika"
      ]
     },
     "execution_count": 25,
     "metadata": {},
     "output_type": "execute_result"
    }
   ],
   "source": [
    "public static String longestWord(String sentence) {\n",
    "  String[] words = sentence.split(\" \");\n",
    "  String longest = \"\";\n",
    "  for (String word : words) {\n",
    "      if (word.length() > longest.length()) {\n",
    "          longest = word;\n",
    "      }\n",
    "  }\n",
    "  return longest;\n",
    "}\n",
    "\n",
    "longestWord(\"Sanika is the best\");"
   ]
  },
  {
   "cell_type": "code",
   "execution_count": 24,
   "metadata": {
    "vscode": {
     "languageId": "java"
    }
   },
   "outputs": [],
   "source": [
    "// public static String longestWord(String sentence) {\n",
    "//   // Implementation goes here\n",
    "// }\n",
    "\n",
    "// longestWord(\"Sanika is the best\");"
   ]
  },
  {
   "cell_type": "code",
   "execution_count": 27,
   "metadata": {
    "vscode": {
     "languageId": "java"
    }
   },
   "outputs": [
    {
     "name": "stdout",
     "output_type": "stream",
     "text": [
      "✅ All tests passed!\n"
     ]
    }
   ],
   "source": [
    "// Test calls\n",
    "assert longestWord(\"hello world\").equals(\"hello\") : \"1\";\n",
    "assert longestWord(\"programming is fun\").equals(\"programming\") : \"2\";\n",
    "assert longestWord(\"The quick brown fox jumps over the lazy dog\").equals(\"quick\") : \"3\";\n",
    "assert longestWord(\"This is a test sentence\").equals(\"sentence\") : \"4\";\n",
    "assert longestWord(\"The longest word in this sentence is Dichlorodiphenyltrichloroethane\").equals(\"Dichlorodiphenyltrichloroethane\") : \"5\";\n",
    "assert longestWord(\"Sanika is the best\").equals(\"Sanika\") : \"6\";\n",
    "\n",
    "System.out.println(\"✅ All tests passed!\");"
   ]
  },
  {
   "cell_type": "markdown",
   "metadata": {},
   "source": [
    "### Is Sublist\n",
    "\n",
    "Checks if the child list is a sublist of the parent list.\n",
    "\n",
    "A sublist means the parent contains all elements of the child list, in any order.\n",
    "\n",
    "**Args:**\n",
    "\n",
    "- parent (List): The parent list.\n",
    "- child (List): The potential sublist.\n",
    "\n",
    "**Returns:**\n",
    "\n",
    "- boolean: True if the child is a sublist of the parent, False otherwise.\n"
   ]
  },
  {
   "cell_type": "markdown",
   "metadata": {},
   "source": [
    "### 1️⃣ `containsAll` Sublist Check\n",
    "\n",
    "- Check if parent list contains all child elements.\n",
    "\n",
    "**Time**: **O(N * M)**.  \n",
    "(N = parent size, M = child size)"
   ]
  },
  {
   "cell_type": "code",
   "execution_count": 43,
   "metadata": {
    "vscode": {
     "languageId": "java"
    }
   },
   "outputs": [
    {
     "data": {
      "text/plain": [
       "true"
      ]
     },
     "execution_count": 43,
     "metadata": {},
     "output_type": "execute_result"
    }
   ],
   "source": [
    "// O(N*M) worst case\n",
    "public static boolean isSublist(List<Integer> parent, List<Integer> child) {\n",
    "  return parent.containsAll(child);\n",
    "}\n",
    "\n",
    "isSublist(Arrays.asList(1, 2, 3, 4), Arrays.asList(2, 3));"
   ]
  },
  {
   "cell_type": "markdown",
   "metadata": {},
   "source": [
    "### 2️⃣ Nested Loop Sublist Check\n",
    "\n",
    "- Check each child element in parent list.\n",
    "- Return false if any child is missing.\n",
    "\n",
    "**Time**: **O(N * M)**.  \n",
    "(N = parent size, M = child size)"
   ]
  },
  {
   "cell_type": "code",
   "execution_count": 33,
   "metadata": {
    "vscode": {
     "languageId": "java"
    }
   },
   "outputs": [
    {
     "data": {
      "text/plain": [
       "true"
      ]
     },
     "execution_count": 33,
     "metadata": {},
     "output_type": "execute_result"
    }
   ],
   "source": [
    "// O(N*M) where N is parent size and M is child size\n",
    "public static boolean isSublist(List<Integer> parent, List<Integer> child) {\n",
    "  for (int childElement : child) {\n",
    "      boolean found = false;\n",
    "      for (int parentElement : parent) {\n",
    "          if (childElement == parentElement) {\n",
    "              found = true;\n",
    "              break; // No need to continue searching\n",
    "          }\n",
    "      }\n",
    "      if (!found) {\n",
    "          return false; // Child element not in parent\n",
    "      }\n",
    "  }\n",
    "  return true; // All child elements found\n",
    "}\n",
    "\n",
    "isSublist(Arrays.asList(1, 2, 3, 4), Arrays.asList(2, 3));"
   ]
  },
  {
   "cell_type": "markdown",
   "metadata": {},
   "source": [
    "### 3️⃣ Binary Search Sublist Check\n",
    "\n",
    "- Sort parent list.\n",
    "- Use binary search for each child element.\n",
    "\n",
    "**Time**: **O(N log N + M log N)**.  \n",
    "(N = parent size, M = child size)"
   ]
  },
  {
   "cell_type": "code",
   "execution_count": 47,
   "metadata": {
    "vscode": {
     "languageId": "java"
    }
   },
   "outputs": [
    {
     "data": {
      "text/plain": [
       "true"
      ]
     },
     "execution_count": 47,
     "metadata": {},
     "output_type": "execute_result"
    }
   ],
   "source": [
    "private static boolean binarySearch(List<Integer> list, int target) {\n",
    "  int left = 0;\n",
    "  int right = list.size() - 1;\n",
    "\n",
    "  while (left <= right) {\n",
    "      int mid = left + (right - left) / 2;\n",
    "      if (list.get(mid) == target) {\n",
    "          return true;\n",
    "      } else if (list.get(mid) < target) {\n",
    "          left = mid + 1;\n",
    "      } else {\n",
    "          right = mid - 1;\n",
    "      }\n",
    "  }\n",
    "  return false;\n",
    "}\n",
    "\n",
    "// O(N*logN + M*logN) where N is parent size and M is child size\n",
    "public static boolean isSublist(List<Integer> parent, List<Integer> child) {\n",
    "    Collections.sort(parent); // Sort parent list\n",
    "\n",
    "    for (int childElement : child) {\n",
    "        if (!binarySearch(parent, childElement)) {\n",
    "            return false; // Element not found\n",
    "        }\n",
    "    }\n",
    "    return true; // All elements found\n",
    "}\n",
    "\n",
    "isSublist(Arrays.asList(1, 2, 3, 4), Arrays.asList(2, 3));"
   ]
  },
  {
   "cell_type": "markdown",
   "metadata": {},
   "source": [
    "### 4️⃣ HashSet Sublist Check\n",
    "\n",
    "- Convert parent list to `HashSet`.\n",
    "- Check each child element in set.\n",
    "\n",
    "**Time**: **O(N + M)**.  \n",
    "(N = parent size, M = child size)"
   ]
  },
  {
   "cell_type": "code",
   "execution_count": 45,
   "metadata": {
    "vscode": {
     "languageId": "java"
    }
   },
   "outputs": [
    {
     "data": {
      "text/plain": [
       "true"
      ]
     },
     "execution_count": 45,
     "metadata": {},
     "output_type": "execute_result"
    }
   ],
   "source": [
    "// O(N + M) where N is the size of parent and M is the size of child\n",
    "public static boolean isSublist(List<Integer> parent, List<Integer> child) {\n",
    "  Set<Integer> parentSet = new HashSet<>(parent); // Convert parent to set\n",
    "\n",
    "  for (int childElement : child) {\n",
    "      if (!parentSet.contains(childElement)) { // Check presence\n",
    "          return false; // Not found\n",
    "      }\n",
    "  }\n",
    "  return true; // All found\n",
    "}\n",
    "\n",
    "isSublist(Arrays.asList(1, 2, 3, 4), Arrays.asList(2, 3));"
   ]
  },
  {
   "cell_type": "code",
   "execution_count": 41,
   "metadata": {
    "vscode": {
     "languageId": "java"
    }
   },
   "outputs": [],
   "source": [
    "// public static boolean isSublist(List<Integer> parent, List<Integer> child) {\n",
    "//   // Implementation goes here\n",
    "// }\n",
    "\n",
    "// isSublist(Arrays.asList(1, 2, 3, 4), Arrays.asList(2, 3));"
   ]
  },
  {
   "cell_type": "code",
   "execution_count": 48,
   "metadata": {
    "vscode": {
     "languageId": "java"
    }
   },
   "outputs": [
    {
     "name": "stdout",
     "output_type": "stream",
     "text": [
      "✅ All tests passed!\n"
     ]
    }
   ],
   "source": [
    "// Test calls\n",
    "assert isSublist(Arrays.asList(1, 2, 3, 4), Arrays.asList(2, 3)) == true : \"1\";\n",
    "assert isSublist(Arrays.asList(1, 2, 3, 4), Arrays.asList(2, 5)) == false : \"2\";\n",
    "assert isSublist(Arrays.asList(1, 2, 3, 4), Arrays.asList(1, 2, 3, 4)) == true : \"3\";\n",
    "assert isSublist(Arrays.asList(1, 2, 3, 4), Arrays.asList(1, 2, 3, 4, 5)) == false : \"4\";\n",
    "assert isSublist(Arrays.asList(1, 2, 3, 4), Arrays.asList()) == true : \"5\";\n",
    "\n",
    "System.out.println(\"✅ All tests passed!\");"
   ]
  },
  {
   "cell_type": "markdown",
   "metadata": {},
   "source": [
    "### Caesar Cipher Encode\n",
    "\n",
    "Encodes a message using the Caesar cipher.\n",
    "\n",
    "**Args:**\n",
    "- message (String): The message to encode.\n",
    "- shift (int): The number of positions to shift each letter. Can be from 1 to 25 or -1 to -25.\n",
    "\n",
    "**Returns:**\n",
    "- String: The encoded message.\n"
   ]
  },
  {
   "cell_type": "code",
   "execution_count": 50,
   "metadata": {
    "vscode": {
     "languageId": "java"
    }
   },
   "outputs": [
    {
     "data": {
      "text/plain": [
       "Khoor 123!"
      ]
     },
     "execution_count": 50,
     "metadata": {},
     "output_type": "execute_result"
    }
   ],
   "source": [
    "public static String caesarCipherEncode(String message, int shift) {\n",
    "  StringBuilder encoded = new StringBuilder();\n",
    "\n",
    "  for (char c : message.toCharArray()) {\n",
    "      if (Character.isLetter(c)) {\n",
    "          char base = Character.isLowerCase(c) ? 'a' : 'A';\n",
    "          int originalPosition = c - base;\n",
    "          int newPosition = (originalPosition + shift + 26) % 26;\n",
    "          char newChar = (char) (base + newPosition);\n",
    "          encoded.append(newChar);\n",
    "      } else {\n",
    "          encoded.append(c);\n",
    "      }\n",
    "  }\n",
    "  return encoded.toString();\n",
    "}\n",
    "\n",
    "caesarCipherEncode(\"Hello 123!\", 3);"
   ]
  },
  {
   "cell_type": "code",
   "execution_count": 23,
   "metadata": {
    "vscode": {
     "languageId": "java"
    }
   },
   "outputs": [],
   "source": [
    "// public static String caesarCipherEncode(String message, int shift) {\n",
    "//   // Implementation goes here\n",
    "// }\n",
    "\n",
    "// caesarCipherEncode(\"Hello 123!\", 3);"
   ]
  },
  {
   "cell_type": "code",
   "execution_count": 51,
   "metadata": {
    "vscode": {
     "languageId": "java"
    }
   },
   "outputs": [
    {
     "name": "stdout",
     "output_type": "stream",
     "text": [
      "✅ All tests passed!\n"
     ]
    }
   ],
   "source": [
    "// Test calls\n",
    "assert caesarCipherEncode(\"Hello 123!\", 3).equals(\"Khoor 123!\") : \"1\";\n",
    "assert caesarCipherEncode(\"World!\", -3).equals(\"Tloia!\") : \"2\";\n",
    "assert caesarCipherEncode(\"Python\", 5).equals(\"Udymts\") : \"3\";\n",
    "assert caesarCipherEncode(\"abc\", 1).equals(\"bcd\") : \"4\";\n",
    "assert caesarCipherEncode(\"xyz\", -1).equals(\"wxy\") : \"5\";\n",
    "assert caesarCipherEncode(\"Caesar Cipher\", 2).equals(\"Ecguct Ekrjgt\") : \"6\";\n",
    "\n",
    "System.out.println(\"✅ All tests passed!\");"
   ]
  },
  {
   "cell_type": "markdown",
   "metadata": {},
   "source": [
    "### Caesar Cipher Decode\n",
    "\n",
    "Decodes a message using the Caesar cipher.\n",
    "\n",
    "**Args:**\n",
    "- message (String): The message to decode.\n",
    "- shift (int): The number of positions to shift each letter. Can be from 1 to 25 or -1 to -25.\n",
    "\n",
    "**Returns:**\n",
    "- String: The decoded message.\n"
   ]
  },
  {
   "cell_type": "code",
   "execution_count": 52,
   "metadata": {
    "vscode": {
     "languageId": "java"
    }
   },
   "outputs": [
    {
     "data": {
      "text/plain": [
       "Hello 123!"
      ]
     },
     "execution_count": 52,
     "metadata": {},
     "output_type": "execute_result"
    }
   ],
   "source": [
    "public static String caesarCipherDecode(String message, int shift) {\n",
    "  return caesarCipherEncode(message, -shift);\n",
    "}\n",
    "\n",
    "caesarCipherDecode(\"Khoor 123!\", 3);"
   ]
  },
  {
   "cell_type": "code",
   "execution_count": 26,
   "metadata": {
    "vscode": {
     "languageId": "java"
    }
   },
   "outputs": [],
   "source": [
    "// public static String caesarCipherDecode(String message, int shift) {\n",
    "//   // Implementation goes here\n",
    "// }\n",
    "\n",
    "// caesarCipherDecode(\"Khoor 123!\", 3);"
   ]
  },
  {
   "cell_type": "code",
   "execution_count": 53,
   "metadata": {
    "vscode": {
     "languageId": "java"
    }
   },
   "outputs": [
    {
     "name": "stdout",
     "output_type": "stream",
     "text": [
      "✅ All tests passed!\n"
     ]
    }
   ],
   "source": [
    "// Test calls\n",
    "assert caesarCipherDecode(\"Khoor 123!\", 3).equals(\"Hello 123!\") : \"1\";\n",
    "assert caesarCipherDecode(\"Tloia!\", -3).equals(\"World!\") : \"2\";\n",
    "assert caesarCipherDecode(\"Udymts\", 5).equals(\"Python\") : \"3\";\n",
    "assert caesarCipherDecode(\"bcd\", 1).equals(\"abc\") : \"4\";\n",
    "assert caesarCipherDecode(\"wxy\", -1).equals(\"xyz\") : \"5\";\n",
    "assert caesarCipherDecode(\"Ecguct Ekrjgt\", 2).equals(\"Caesar Cipher\") : \"6\";\n",
    "\n",
    "System.out.println(\"✅ All tests passed!\");"
   ]
  },
  {
   "cell_type": "markdown",
   "metadata": {},
   "source": [
    "### Sum of Digits\n",
    "\n",
    "Calculates the sum of digits of a number.\n",
    "\n",
    "**Args:**\n",
    "- number (int): The input number.\n",
    "\n",
    "**Returns:**\n",
    "- int: The sum of digits of the input number.\n"
   ]
  },
  {
   "cell_type": "code",
   "execution_count": 54,
   "metadata": {
    "vscode": {
     "languageId": "java"
    }
   },
   "outputs": [
    {
     "data": {
      "text/plain": [
       "6"
      ]
     },
     "execution_count": 54,
     "metadata": {},
     "output_type": "execute_result"
    }
   ],
   "source": [
    "public static int sumOfDigits(int number) {\n",
    "  int sum = 0;\n",
    "  while (number > 0) {\n",
    "      sum += number % 10;\n",
    "      number /= 10;\n",
    "  }\n",
    "  return sum;\n",
    "}\n",
    "\n",
    "sumOfDigits(123);"
   ]
  },
  {
   "cell_type": "code",
   "execution_count": 29,
   "metadata": {
    "vscode": {
     "languageId": "java"
    }
   },
   "outputs": [],
   "source": [
    "// public static int sumOfDigits(int number) {\n",
    "//   // Implementation goes here\n",
    "// }\n",
    "\n",
    "// sumOfDigits(123);"
   ]
  },
  {
   "cell_type": "code",
   "execution_count": 55,
   "metadata": {
    "vscode": {
     "languageId": "java"
    }
   },
   "outputs": [
    {
     "name": "stdout",
     "output_type": "stream",
     "text": [
      "✅ All tests passed!\n"
     ]
    }
   ],
   "source": [
    "// Test calls\n",
    "assert sumOfDigits(123) == 6 : \"1\";\n",
    "assert sumOfDigits(456789) == 39 : \"2\";\n",
    "assert sumOfDigits(987654321) == 45 : \"3\";\n",
    "assert sumOfDigits(0) == 0 : \"4\";\n",
    "assert sumOfDigits(999) == 27 : \"5\";\n",
    "\n",
    "System.out.println(\"✅ All tests passed!\");"
   ]
  },
  {
   "cell_type": "markdown",
   "metadata": {},
   "source": [
    "### Merge Sorted Lists\n",
    "\n",
    "Merges two sorted lists into a single sorted list without using any Java built-in sorting methods.\n",
    "\n",
    "**Args:**\n",
    "- list1 (List): The first sorted list.\n",
    "- list2 (List): The second sorted list.\n",
    "\n",
    "**Returns:**\n",
    "- List: The merged sorted list."
   ]
  },
  {
   "cell_type": "code",
   "execution_count": 56,
   "metadata": {
    "vscode": {
     "languageId": "java"
    }
   },
   "outputs": [
    {
     "data": {
      "text/plain": [
       "[1, 2, 3, 4, 5, 6]"
      ]
     },
     "execution_count": 56,
     "metadata": {},
     "output_type": "execute_result"
    }
   ],
   "source": [
    "import java.util.List;\n",
    "import java.util.ArrayList;\n",
    "import java.util.Arrays;\n",
    "\n",
    "public static List<Integer> mergeSortedLists(List<Integer> list1, List<Integer> list2) {\n",
    "    List<Integer> merged = new ArrayList<>();\n",
    "    int i = 0, j = 0;\n",
    "\n",
    "    // Merge elements from both lists until one is exhausted\n",
    "    while (i < list1.size() && j < list2.size()) {\n",
    "        if (list1.get(i) <= list2.get(j)) {\n",
    "            merged.add(list1.get(i++));\n",
    "        } else {\n",
    "            merged.add(list2.get(j++));\n",
    "        }\n",
    "    }\n",
    "    \n",
    "    // Add remaining elements from list1, if any\n",
    "    while (i < list1.size()) {\n",
    "        merged.add(list1.get(i++));\n",
    "    }\n",
    "    \n",
    "    // Add remaining elements from list2, if any\n",
    "    while (j < list2.size()) {\n",
    "        merged.add(list2.get(j++));\n",
    "    }\n",
    "    \n",
    "    return merged;\n",
    "}\n",
    "\n",
    "mergeSortedLists(Arrays.asList(1, 3, 5), Arrays.asList(2, 4, 6));"
   ]
  },
  {
   "cell_type": "code",
   "execution_count": 32,
   "metadata": {
    "vscode": {
     "languageId": "java"
    }
   },
   "outputs": [],
   "source": [
    "// public static List<Integer> mergeSortedLists(List<Integer> list1, List<Integer> list2) {\n",
    "//   // Implementation goes here\n",
    "// }\n",
    "\n",
    "// mergeSortedLists(Arrays.asList(1, 3, 5), Arrays.asList(2, 4, 6));"
   ]
  },
  {
   "cell_type": "code",
   "execution_count": 58,
   "metadata": {
    "vscode": {
     "languageId": "java"
    }
   },
   "outputs": [
    {
     "name": "stdout",
     "output_type": "stream",
     "text": [
      "✅ All tests passed!\n"
     ]
    }
   ],
   "source": [
    "// Test calls\n",
    "assert mergeSortedLists(Arrays.asList(1, 3, 5), Arrays.asList(2, 4, 6)).equals(Arrays.asList(1, 2, 3, 4, 5, 6)) : \"1\";\n",
    "assert mergeSortedLists(Arrays.asList(1, 3, 5, 7), Arrays.asList(2, 4, 6)).equals(Arrays.asList(1, 2, 3, 4, 5, 6, 7)) : \"2\";\n",
    "assert mergeSortedLists(Arrays.asList(1, 3, 5), Arrays.asList(2, 4, 6, 8)).equals(Arrays.asList(1, 2, 3, 4, 5, 6, 8)) : \"3\";\n",
    "assert mergeSortedLists(Arrays.asList(1, 2, 3), Arrays.asList()).equals(Arrays.asList(1, 2, 3)) : \"4\";\n",
    "assert mergeSortedLists(Arrays.asList(), Arrays.asList(4, 5, 6)).equals(Arrays.asList(4, 5, 6)) : \"5\";\n",
    "\n",
    "System.out.println(\"✅ All tests passed!\");"
   ]
  },
  {
   "cell_type": "markdown",
   "metadata": {},
   "source": [
    "### Dot Product\n",
    "\n",
    "Calculates the dot product of two vectors.\n",
    "\n",
    "- The dot product of two vectors is a scalar quantity obtained by multiplying corresponding components of the vectors and summing up the results.\n",
    "\n",
    "- For vectors $\\mathbf{a} = [a_1, a_2, \\ldots, a_n]$ and $\\mathbf{b} = [b_1, b_2, \\ldots, b_n]$, the dot product $\\mathbf{a} \\cdot \\mathbf{b}$ is calculated as:\n",
    "  - $\\mathbf{a} \\cdot \\mathbf{b} = a_1 \\cdot b_1 + a_2 \\cdot b_2 + \\ldots + a_n \\cdot b_n$\n",
    "\n",
    "**Args:**\n",
    "- vector1 (List): The first vector.\n",
    "- vector2 (List): The second vector.\n",
    "\n",
    "**Returns:**\n",
    "- float: The dot product of the two vectors."
   ]
  },
  {
   "cell_type": "code",
   "execution_count": 62,
   "metadata": {
    "vscode": {
     "languageId": "java"
    }
   },
   "outputs": [
    {
     "data": {
      "text/plain": [
       "32.0"
      ]
     },
     "execution_count": 62,
     "metadata": {},
     "output_type": "execute_result"
    }
   ],
   "source": [
    "public static double dotProduct(List<Integer> vector1, List<Integer> vector2) {\n",
    "    double sum = 0;\n",
    "    for (int i = 0; i < vector1.size(); i++) {\n",
    "        sum += vector1.get(i) * vector2.get(i);\n",
    "    }\n",
    "    return sum;\n",
    "}\n",
    "\n",
    "dotProduct(Arrays.asList(1, 2, 3), Arrays.asList(4, 5, 6));"
   ]
  },
  {
   "cell_type": "code",
   "execution_count": 35,
   "metadata": {
    "vscode": {
     "languageId": "java"
    }
   },
   "outputs": [],
   "source": [
    "// public static double dotProduct(List<Integer> vector1, List<Integer> vector2) {\n",
    "//   // Implementation goes here\n",
    "// }\n",
    "\n",
    "// dotProduct(Arrays.asList(1, 2, 3), Arrays.asList(4, 5, 6));"
   ]
  },
  {
   "cell_type": "code",
   "execution_count": 63,
   "metadata": {
    "vscode": {
     "languageId": "java"
    }
   },
   "outputs": [
    {
     "name": "stdout",
     "output_type": "stream",
     "text": [
      "✅ All tests passed!\n"
     ]
    }
   ],
   "source": [
    "// Test calls\n",
    "assert dotProduct(Arrays.asList(1, 2, 3), Arrays.asList(4, 5, 6)) == 32 : \"1\";\n",
    "assert dotProduct(Arrays.asList(0, 0, 0), Arrays.asList(1, 1, 1)) == 0 : \"2\";\n",
    "assert dotProduct(Arrays.asList(-1, 2, -3), Arrays.asList(4, -5, 6)) == -32 : \"3\";\n",
    "assert dotProduct(Arrays.asList(1, 2), Arrays.asList(0, 0)) == 0 : \"4\";\n",
    "assert dotProduct(Arrays.asList(2, 2, 2), Arrays.asList(1, 1, 1)) == 6 : \"5\";\n",
    "\n",
    "System.out.println(\"✅ All tests passed!\");"
   ]
  },
  {
   "cell_type": "markdown",
   "metadata": {},
   "source": [
    "### Flatten List\n",
    "\n",
    "Flattens a nested list into a single list.\n",
    "\n",
    "Flattening a nested list means to convert a list of lists into a single list by \n",
    "combining all the elements of the nested lists into one flat list, preserving \n",
    "the order of elements.\n",
    "\n",
    "**Args:**\n",
    "- nested_list (List): The nested list to flatten.\n",
    "\n",
    "**Returns:**\n",
    "- List: The flattened list.\n"
   ]
  },
  {
   "cell_type": "code",
   "execution_count": 65,
   "metadata": {
    "vscode": {
     "languageId": "java"
    }
   },
   "outputs": [
    {
     "data": {
      "text/plain": [
       "[1, 2, 3, 4, 5, 6, 7, 8]"
      ]
     },
     "execution_count": 65,
     "metadata": {},
     "output_type": "execute_result"
    }
   ],
   "source": [
    "public static List<Integer> flattenList(List<?> nestedList) {\n",
    "  List<Integer> flattened = new ArrayList<>();\n",
    "\n",
    "  for (Object item : nestedList) {\n",
    "      if (item instanceof List<?>) {\n",
    "          flattened.addAll(flattenList((List<?>) item)); // Recurse\n",
    "      } else {\n",
    "          flattened.add((Integer) item); // Add item\n",
    "      }\n",
    "  }\n",
    "  return flattened;\n",
    "}\n",
    "\n",
    "flattenList(Arrays.asList(\n",
    "  Arrays.asList(1, 2, 3), Arrays.asList(4, 5), Arrays.asList(6, 7, 8)\n",
    "));"
   ]
  },
  {
   "cell_type": "code",
   "execution_count": 38,
   "metadata": {
    "vscode": {
     "languageId": "java"
    }
   },
   "outputs": [],
   "source": [
    "// public static List<Integer> flattenList(List<?> nestedList) {\n",
    "//   // Implementation goes here\n",
    "// }\n",
    "\n",
    "// flattenList(Arrays.asList(\n",
    "//   Arrays.asList(1, 2, 3), Arrays.asList(4, 5), Arrays.asList(6, 7, 8)\n",
    "// ));"
   ]
  },
  {
   "cell_type": "code",
   "execution_count": 67,
   "metadata": {
    "vscode": {
     "languageId": "java"
    }
   },
   "outputs": [
    {
     "name": "stdout",
     "output_type": "stream",
     "text": [
      "✅ All tests passed!\n"
     ]
    }
   ],
   "source": [
    "// Test calls\n",
    "\n",
    "// [[1, 2, 3], [4, 5], [6, 7, 8]]\n",
    "assert flattenList(Arrays.asList(Arrays.asList(1, 2, 3), Arrays.asList(4, 5), Arrays.asList(6, 7, 8))).equals(Arrays.asList(1, 2, 3, 4, 5, 6, 7, 8)) : \"1\";\n",
    "\n",
    "// [[1, 2], [3, [4, 5]], 6, [7, 8]]\n",
    "assert flattenList(Arrays.asList(Arrays.asList(1, 2), Arrays.asList(3, Arrays.asList(4, 5)), 6, Arrays.asList(7, 8))).equals(Arrays.asList(1, 2, 3, 4, 5, 6, 7, 8)) : \"2\";\n",
    "\n",
    "// [1, [2, [3, 4]], 5], [6, [7, 8]], 9]\n",
    "assert flattenList(Arrays.asList(Arrays.asList(1, Arrays.asList(2, Arrays.asList(3, 4)), 5), Arrays.asList(6, Arrays.asList(7, 8)), 9)).equals(Arrays.asList(1, 2, 3, 4, 5, 6, 7, 8, 9)) : \"3\";\n",
    "\n",
    "// [1, 2, 3, 4]\n",
    "assert flattenList(Arrays.asList(1, 2, 3, 4)).equals(Arrays.asList(1, 2, 3, 4)) : \"4\";\n",
    "\n",
    "System.out.println(\"✅ All tests passed!\");"
   ]
  },
  {
   "cell_type": "markdown",
   "metadata": {},
   "source": [
    "### Find Unique Common Elements\n",
    "\n",
    "Finds the unique common elements between two lists.\n",
    "\n",
    "**Args:**\n",
    "- list1 (List): The first list.\n",
    "- list2 (List): The second list.\n",
    "\n",
    "**Returns:**\n",
    "- List: A list containing the unique common elements between the two input lists.\n"
   ]
  },
  {
   "cell_type": "markdown",
   "metadata": {},
   "source": [
    "### 1️⃣ HashSet Intersection\n",
    "\n",
    "- Convert lists to sets.\n",
    "- Keep common elements.\n",
    "- Return as a list.\n",
    "\n",
    "**Time**: **O(N + M)**."
   ]
  },
  {
   "cell_type": "code",
   "execution_count": 95,
   "metadata": {
    "vscode": {
     "languageId": "java"
    }
   },
   "outputs": [
    {
     "name": "stdout",
     "output_type": "stream",
     "text": [
      "[3, 4]\n",
      "[b, c]\n"
     ]
    }
   ],
   "source": [
    "// O(N + M) where N is list1 size and M is list2 size\n",
    "public static <T extends Comparable<T>> List<T> findUniqueCommonElements(List<T> list1, List<T> list2) {\n",
    "  Set<T> set1 = new HashSet<>(list1);\n",
    "  Set<T> set2 = new HashSet<>(list2);\n",
    "  set1.retainAll(set2);\n",
    "  return new ArrayList<>(set1);\n",
    "}\n",
    "\n",
    "System.out.println(findUniqueCommonElements(Arrays.asList(1, 2, 3, 4), Arrays.asList(3, 4, 5, 6)));\n",
    "System.out.println(findUniqueCommonElements(Arrays.asList(\"a\", \"b\", \"c\"), Arrays.asList(\"b\", \"c\", \"d\", \"e\")));"
   ]
  },
  {
   "cell_type": "markdown",
   "metadata": {},
   "source": [
    "### 2️⃣ Nested Loop Comparison\n",
    "\n",
    "- Loop through both lists.\n",
    "- Add matches to result.\n",
    "- Return unique matches.\n",
    "\n",
    "**Time**: **O(N * M)**."
   ]
  },
  {
   "cell_type": "code",
   "execution_count": 97,
   "metadata": {
    "vscode": {
     "languageId": "java"
    }
   },
   "outputs": [
    {
     "name": "stdout",
     "output_type": "stream",
     "text": [
      "[3, 4]\n",
      "[b, c]\n"
     ]
    }
   ],
   "source": [
    "// O(N*M) where N is list1 size and M is list2 size\n",
    "public static <T> List<T> findUniqueCommonElements(List<T> list1, List<T> list2) {\n",
    "  List<T> result = new ArrayList<>();\n",
    "  for (T element1 : list1) {\n",
    "      for (T element2 : list2) {\n",
    "          if (element1.equals(element2) && !result.contains(element1)) {\n",
    "              result.add(element1);\n",
    "          }\n",
    "      }\n",
    "  }\n",
    "  return result;\n",
    "}\n",
    "\n",
    "System.out.println(findUniqueCommonElements(Arrays.asList(1, 2, 3, 4), Arrays.asList(3, 4, 5, 6)));\n",
    "System.out.println(findUniqueCommonElements(Arrays.asList(\"a\", \"b\", \"c\"), Arrays.asList(\"b\", \"c\", \"d\", \"e\")));"
   ]
  },
  {
   "cell_type": "markdown",
   "metadata": {},
   "source": [
    "### 3️⃣ Binary Search Intersection\n",
    "\n",
    "- Sort the second list.\n",
    "- Binary search for each element in the first list.\n",
    "- Add matches to result.\n",
    "\n",
    "**Time**: **O(N log N + M log N)**."
   ]
  },
  {
   "cell_type": "code",
   "execution_count": 99,
   "metadata": {
    "vscode": {
     "languageId": "java"
    }
   },
   "outputs": [
    {
     "name": "stdout",
     "output_type": "stream",
     "text": [
      "[3, 4]\n",
      "[b, c]\n"
     ]
    }
   ],
   "source": [
    "// O(N*logN + M*logN) where N is the size of list2 ⚠️ and M is the size of list1 ⚠️\n",
    "public static <T extends Comparable<T>> List<T> findUniqueCommonElements(List<T> list1, List<T> list2) {\n",
    "  Collections.sort(list2); // Sort list2\n",
    "\n",
    "  HashSet<T> result = new HashSet<>(); // Unique elements\n",
    "\n",
    "  for (T element1 : list1) {\n",
    "      if (Collections.binarySearch(list2, element1) >= 0) {\n",
    "          result.add(element1); // Add common element\n",
    "      }\n",
    "  }\n",
    "\n",
    "  return new ArrayList<>(result);\n",
    "}\n",
    "\n",
    "System.out.println(findUniqueCommonElements(Arrays.asList(1, 2, 3, 4), Arrays.asList(3, 4, 5, 6)));\n",
    "System.out.println(findUniqueCommonElements(Arrays.asList(\"a\", \"b\", \"c\"), Arrays.asList(\"b\", \"c\", \"d\", \"e\")));"
   ]
  },
  {
   "cell_type": "code",
   "execution_count": 93,
   "metadata": {
    "vscode": {
     "languageId": "java"
    }
   },
   "outputs": [],
   "source": [
    "// public static <T> List<T> findUniqueCommonElements(List<T> list1, List<T> list2) {\n",
    "//   // Implementation goes here\n",
    "// }\n",
    "\n",
    "// System.out.println(findUniqueCommonElements(Arrays.asList(1, 2, 3, 4), Arrays.asList(3, 4, 5, 6)));\n",
    "// System.out.println(findUniqueCommonElements(Arrays.asList(\"a\", \"b\", \"c\"), Arrays.asList(\"b\", \"c\", \"d\", \"e\")));"
   ]
  },
  {
   "cell_type": "code",
   "execution_count": 100,
   "metadata": {
    "vscode": {
     "languageId": "java"
    }
   },
   "outputs": [
    {
     "name": "stdout",
     "output_type": "stream",
     "text": [
      "✅ All tests passed!\n"
     ]
    }
   ],
   "source": [
    "// Test calls\n",
    "assert findUniqueCommonElements(Arrays.asList(1, 2, 3, 4), Arrays.asList(3, 4, 5, 6)).equals(Arrays.asList(3, 4)) : \"1\";\n",
    "assert findUniqueCommonElements(Arrays.asList(\"a\", \"b\", \"c\"), Arrays.asList(\"b\", \"c\", \"d\", \"e\")).equals(Arrays.asList(\"b\", \"c\")) : \"2\";\n",
    "assert findUniqueCommonElements(Arrays.asList(), Arrays.asList(1, 2, 3)).equals(Arrays.asList()) : \"3\";\n",
    "assert findUniqueCommonElements(Arrays.asList(1, 2, 3), Arrays.asList()).equals(Arrays.asList()) : \"4\";\n",
    "assert findUniqueCommonElements(Arrays.asList(1, 2, 3), Arrays.asList(4, 5, 6)).equals(Arrays.asList()) : \"5\";\n",
    "assert findUniqueCommonElements(Arrays.asList(1, 2, 2, 3, 3, 3, 4), Arrays.asList(2, 2, 3, 3, 4, 4, 4)).equals(Arrays.asList(2, 3, 4)) : \"6\";\n",
    "\n",
    "System.out.println(\"✅ All tests passed!\");"
   ]
  },
  {
   "cell_type": "markdown",
   "metadata": {},
   "source": [
    "### Rotate Matrix\n",
    "\n",
    "Rotates a matrix clockwise by ninety degrees.\n",
    "\n",
    "**Args:**\n",
    "- matrix (List of Lists): The matrix to rotate.\n",
    "\n",
    "**Returns:**\n",
    "- List of Lists: The rotated matrix.\n"
   ]
  },
  {
   "cell_type": "code",
   "execution_count": 104,
   "metadata": {
    "vscode": {
     "languageId": "java"
    }
   },
   "outputs": [
    {
     "data": {
      "text/plain": [
       "[[7, 4, 1], [8, 5, 2], [9, 6, 3]]"
      ]
     },
     "execution_count": 104,
     "metadata": {},
     "output_type": "execute_result"
    }
   ],
   "source": [
    "public static List<List<Integer>> rotateMatrix(List<List<Integer>> matrix) {\n",
    "  int n = matrix.size();       // Rows\n",
    "  int m = matrix.get(0).size(); // Columns\n",
    "  List<List<Integer>> rotated = new ArrayList<>();\n",
    "  \n",
    "  // Create new rows\n",
    "  for (int i = 0; i < m; i++) {\n",
    "      List<Integer> newRow = new ArrayList<>();\n",
    "      // Collect elements for new row\n",
    "      for (int j = n - 1; j >= 0; j--) {\n",
    "          newRow.add(matrix.get(j).get(i));\n",
    "      }\n",
    "      rotated.add(newRow);\n",
    "  }\n",
    "  return rotated;\n",
    "}\n",
    "\n",
    "rotateMatrix(Arrays.asList(\n",
    "    Arrays.asList(1, 2, 3),\n",
    "    Arrays.asList(4, 5, 6),\n",
    "    Arrays.asList(7, 8, 9)\n",
    "));"
   ]
  },
  {
   "cell_type": "code",
   "execution_count": 46,
   "metadata": {
    "vscode": {
     "languageId": "java"
    }
   },
   "outputs": [],
   "source": [
    "// public static List<List<Integer>> rotateMatrix(List<List<Integer>> matrix) {\n",
    "//   // Implementation goes here\n",
    "// }\n",
    "\n",
    "// rotateMatrix(Arrays.asList(\n",
    "//     Arrays.asList(1, 2, 3),\n",
    "//     Arrays.asList(4, 5, 6),\n",
    "//     Arrays.asList(7, 8, 9)\n",
    "// ));"
   ]
  },
  {
   "cell_type": "code",
   "execution_count": 106,
   "metadata": {
    "vscode": {
     "languageId": "java"
    }
   },
   "outputs": [
    {
     "name": "stdout",
     "output_type": "stream",
     "text": [
      "✅ All tests passed!\n"
     ]
    }
   ],
   "source": [
    "// Test calls\n",
    "List<List<Integer>> matrix1 = Arrays.asList(\n",
    "    Arrays.asList(1, 2, 3),\n",
    "    Arrays.asList(4, 5, 6),\n",
    "    Arrays.asList(7, 8, 9)\n",
    ");\n",
    "assert rotateMatrix(matrix1).equals(Arrays.asList(\n",
    "    Arrays.asList(7, 4, 1),\n",
    "    Arrays.asList(8, 5, 2),\n",
    "    Arrays.asList(9, 6, 3)\n",
    ")) : \"1\";\n",
    "\n",
    "List<List<Integer>> matrix2 = Arrays.asList(\n",
    "    Arrays.asList(1, 2),\n",
    "    Arrays.asList(3, 4)\n",
    ");\n",
    "assert rotateMatrix(matrix2).equals(Arrays.asList(\n",
    "    Arrays.asList(3, 1),\n",
    "    Arrays.asList(4, 2)\n",
    ")) : \"2\";\n",
    "\n",
    "List<List<Integer>> matrix3 = Arrays.asList(\n",
    "    Arrays.asList(1, 2, 3, 4),\n",
    "    Arrays.asList(5, 6, 7, 8),\n",
    "    Arrays.asList(9, 10, 11, 12)\n",
    ");\n",
    "assert rotateMatrix(matrix3).equals(Arrays.asList(\n",
    "    Arrays.asList(9, 5, 1),\n",
    "    Arrays.asList(10, 6, 2),\n",
    "    Arrays.asList(11, 7, 3),\n",
    "    Arrays.asList(12, 8, 4)\n",
    ")) : \"3\";\n",
    "\n",
    "System.out.println(\"✅ All tests passed!\");"
   ]
  },
  {
   "cell_type": "markdown",
   "metadata": {},
   "source": [
    "### Find Second Largest\n",
    "\n",
    "Finds the second largest number in a list of numbers.\n",
    "\n",
    "**Args:**\n",
    "- numbers (List): The list of numbers.\n",
    "\n",
    "**Returns:**\n",
    "- int: The second largest number in the list.\n"
   ]
  },
  {
   "cell_type": "code",
   "execution_count": 112,
   "metadata": {
    "vscode": {
     "languageId": "java"
    }
   },
   "outputs": [
    {
     "data": {
      "text/plain": [
       "4"
      ]
     },
     "execution_count": 112,
     "metadata": {},
     "output_type": "execute_result"
    }
   ],
   "source": [
    "public static Integer findSecondLargest(List<Integer> numbers) {\n",
    "  // Sort in descending order\n",
    "  List<Integer> sortedList = new ArrayList<>(numbers);\n",
    "  Collections.sort(sortedList, Collections.reverseOrder());\n",
    "\n",
    "  // Return the second element\n",
    "  return sortedList.get(1);\n",
    "}\n",
    "\n",
    "findSecondLargest(Arrays.asList(1, 2, 3, 4, 5));"
   ]
  },
  {
   "cell_type": "code",
   "execution_count": 113,
   "metadata": {
    "vscode": {
     "languageId": "java"
    }
   },
   "outputs": [],
   "source": [
    "// public static Integer findSecondLargest(List<Integer> numbers) {\n",
    "//   // Implementation goes here\n",
    "// }\n",
    "\n",
    "// findSecondLargest(Arrays.asList(1, 2, 3, 4, 5));"
   ]
  },
  {
   "cell_type": "code",
   "execution_count": 114,
   "metadata": {
    "vscode": {
     "languageId": "java"
    }
   },
   "outputs": [
    {
     "name": "stdout",
     "output_type": "stream",
     "text": [
      "✅ All tests passed!\n"
     ]
    }
   ],
   "source": [
    "// Test calls\n",
    "assert findSecondLargest(Arrays.asList(1, 2, 3, 4, 5)).equals(4) : \"1\";\n",
    "assert findSecondLargest(Arrays.asList(5, 4, 3, 2, 1)).equals(4) : \"2\";\n",
    "assert findSecondLargest(Arrays.asList(1, 1, 1, 1, 1)).equals(1) : \"3\";\n",
    "assert findSecondLargest(Arrays.asList(2, 1, 3, 4, 2)).equals(3) : \"4\";\n",
    "assert findSecondLargest(Arrays.asList(-1, -2, -3, -4, -5)).equals(-2) : \"5\";\n",
    "\n",
    "System.out.println(\"✅ All tests passed!\");"
   ]
  },
  {
   "cell_type": "markdown",
   "metadata": {},
   "source": [
    "### Sort String Descending\n",
    "\n",
    "Sorts a string in descending order, where 'Z' comes first and 'A' comes last.\n",
    "\n",
    "**Args:**\n",
    "- input_string (str): The input string to be sorted.\n",
    "\n",
    "**Returns:**\n",
    "- str: The sorted string."
   ]
  },
  {
   "cell_type": "code",
   "execution_count": 118,
   "metadata": {
    "vscode": {
     "languageId": "java"
    }
   },
   "outputs": [
    {
     "data": {
      "text/plain": [
       "OLLHE"
      ]
     },
     "execution_count": 118,
     "metadata": {},
     "output_type": "execute_result"
    }
   ],
   "source": [
    "public static String sortStringDescending(String input) {\n",
    "  char[] chars = input.toCharArray(); // Convert to char array\n",
    "  Arrays.sort(chars);                // Sort in ascending order\n",
    "  return new StringBuilder(new String(chars)).reverse().toString(); // Reverse and return\n",
    "}\n",
    "\n",
    "sortStringDescending(\"HELLO\");"
   ]
  },
  {
   "cell_type": "code",
   "execution_count": 117,
   "metadata": {
    "vscode": {
     "languageId": "java"
    }
   },
   "outputs": [],
   "source": [
    "// public static String sortStringDescending(String inputString) {\n",
    "//   // Implementation goes here\n",
    "// }\n",
    "\n",
    "// sortStringDescending(\"HELLO\");"
   ]
  },
  {
   "cell_type": "code",
   "execution_count": 120,
   "metadata": {
    "vscode": {
     "languageId": "java"
    }
   },
   "outputs": [
    {
     "name": "stdout",
     "output_type": "stream",
     "text": [
      "✅ All tests passed!\n"
     ]
    }
   ],
   "source": [
    "// Test calls\n",
    "assert sortStringDescending(\"ZYXWVUTSRQPONMLKJIHGFEDCBA\").equals(\"ZYXWVUTSRQPONMLKJIHGFEDCBA\") : \"1\";\n",
    "assert sortStringDescending(\"HELLO\").equals(\"OLLHE\") : \"2\";\n",
    "assert sortStringDescending(\"PYTHON\").equals(\"YTPONH\") : \"3\";\n",
    "assert sortStringDescending(\"ZAYX\").equals(\"ZYXA\") : \"4\";\n",
    "assert sortStringDescending(\"ABC\").equals(\"CBA\") : \"5\";\n",
    "\n",
    "System.out.println(\"✅ All tests passed!\");"
   ]
  },
  {
   "cell_type": "markdown",
   "metadata": {},
   "source": [
    "### Binary to Decimal\n",
    "\n",
    "Converts a binary string to a decimal integer.\n",
    "\n",
    "**Args:**\n",
    "- binary_string (str): The binary string to convert.\n",
    "\n",
    "**Returns:**\n",
    "- int: The decimal equivalent of the binary string."
   ]
  },
  {
   "cell_type": "code",
   "execution_count": 122,
   "metadata": {
    "vscode": {
     "languageId": "java"
    }
   },
   "outputs": [
    {
     "data": {
      "text/plain": [
       "10"
      ]
     },
     "execution_count": 122,
     "metadata": {},
     "output_type": "execute_result"
    }
   ],
   "source": [
    "public static int binaryToDecimal(String binaryString) {\n",
    "  return Integer.parseInt(binaryString, 2);\n",
    "}\n",
    "\n",
    "binaryToDecimal(\"1010\");"
   ]
  },
  {
   "cell_type": "code",
   "execution_count": 127,
   "metadata": {
    "vscode": {
     "languageId": "java"
    }
   },
   "outputs": [
    {
     "data": {
      "text/plain": [
       "10"
      ]
     },
     "execution_count": 127,
     "metadata": {},
     "output_type": "execute_result"
    }
   ],
   "source": [
    "public static int binaryToDecimal(String binaryString) {\n",
    "  int decimalValue = 0;\n",
    "  int length = binaryString.length();\n",
    "\n",
    "  for (int i = 0; i < length; i++) {\n",
    "      char bit = binaryString.charAt(length - 1 - i);\n",
    "      int bitValue = bit - '0'; \n",
    "      decimalValue += bitValue * Math.pow(2, i);\n",
    "  }\n",
    "  \n",
    "  return decimalValue;\n",
    "}\n",
    "\n",
    "binaryToDecimal(\"1010\");"
   ]
  },
  {
   "cell_type": "code",
   "execution_count": 128,
   "metadata": {
    "vscode": {
     "languageId": "java"
    }
   },
   "outputs": [],
   "source": [
    "// public static int binaryToDecimal(String binaryString) {\n",
    "//   // Implementation goes here\n",
    "// }\n",
    "\n",
    "// binaryToDecimal(\"1010\");"
   ]
  },
  {
   "cell_type": "code",
   "execution_count": 129,
   "metadata": {
    "vscode": {
     "languageId": "java"
    }
   },
   "outputs": [
    {
     "name": "stdout",
     "output_type": "stream",
     "text": [
      "✅ All tests passed!\n"
     ]
    }
   ],
   "source": [
    "// Test calls\n",
    "assert binaryToDecimal(\"1010\") == 10 : \"1\";\n",
    "assert binaryToDecimal(\"1101\") == 13 : \"2\";\n",
    "assert binaryToDecimal(\"100\") == 4 : \"3\";\n",
    "assert binaryToDecimal(\"1111\") == 15 : \"4\";\n",
    "assert binaryToDecimal(\"0\") == 0 : \"5\";\n",
    "\n",
    "System.out.println(\"✅ All tests passed!\");"
   ]
  }
 ],
 "metadata": {
  "kernelspec": {
   "display_name": "Java",
   "language": "java",
   "name": "java"
  },
  "language_info": {
   "codemirror_mode": "java",
   "file_extension": ".jshell",
   "mimetype": "text/x-java-source",
   "name": "Java",
   "pygments_lexer": "java",
   "version": "21.0.1+12-LTS-29"
  }
 },
 "nbformat": 4,
 "nbformat_minor": 2
}
