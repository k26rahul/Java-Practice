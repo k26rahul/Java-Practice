{
 "cells": [
  {
   "cell_type": "markdown",
   "metadata": {},
   "source": [
    "1. Reverse String:\n",
    "\n",
    "   - _Create a function to reverse a given string._\n",
    "\n",
    "1. Check Palindrome:\n",
    "\n",
    "   - _Create a function to check if a given string is a palindrome._\n",
    "\n",
    "1. Calculate Factorial:\n",
    "\n",
    "   - _Create a function to calculate the factorial of a given number._\n",
    "\n",
    "1. Count Vowels in a Sentence:\n",
    "\n",
    "   - _Create a function to count the number of vowels in a given sentence._\n",
    "\n",
    "1. Find Longest Word in a Sentence:\n",
    "\n",
    "   - _Create a function to find the longest word in a given sentence._\n",
    "\n",
    "1. Check if List is Sublist of Another List:\n",
    "\n",
    "   - _Create a function to check if one list is a sublist of another list._\n",
    "\n",
    "1. Caesar Cipher Encode:\n",
    "\n",
    "   - _Create a function to encode a message using the Caesar cipher._\n",
    "\n",
    "1. Caesar Cipher Decode:\n",
    "\n",
    "   - _Create a function to decode a message encoded using the Caesar cipher._\n",
    "\n",
    "1. Sum of Digits:\n",
    "\n",
    "   - _Create a function to calculate the sum of digits of a given number._\n",
    "\n",
    "1. Merge Two Sorted Lists:\n",
    "\n",
    "   - _Create a function to merge two sorted lists without using the sort method._\n",
    "\n",
    "1. Dot Product of Two Vectors:\n",
    "\n",
    "   - _Create a function to calculate the dot product of two vectors._\n",
    "\n",
    "1. Flatten Nested List:\n",
    "\n",
    "   - _Create a function to flatten a nested list into a single list._\n",
    "\n",
    "1. Find Unique Common Elements:\n",
    "\n",
    "   - _Create a function to find the unique common elements between two lists._\n",
    "\n",
    "1. Rotate Matrix Clockwise:\n",
    "\n",
    "   - _Create a function to rotate a matrix clockwise by ninety degrees._\n",
    "\n",
    "1. Find Second Largest Number:\n",
    "\n",
    "   - _Create a function to find the second largest number in a list of numbers._\n",
    "\n",
    "1. Sort String Descending:\n",
    "\n",
    "   - _Create a function to sort a string in descending order, where 'Z' comes first and 'A' comes last._\n",
    "\n",
    "1. Binary to Decimal Conversion:\n",
    "   - _Create a function to convert a binary string to a decimal integer._\n"
   ]
  },
  {
   "cell_type": "markdown",
   "metadata": {},
   "source": [
    "### Reverse String\n",
    "\n",
    "Reverses the input string.\n",
    "\n",
    "**Args:**\n",
    "\n",
    "- inputString (String): The string to be reversed.\n",
    "\n",
    "**Returns:**\n",
    "\n",
    "- String: The reversed string."
   ]
  },
  {
   "cell_type": "code",
   "execution_count": 1,
   "metadata": {
    "vscode": {
     "languageId": "java"
    }
   },
   "outputs": [],
   "source": [
    "public static String reverseString(String inputString) {\n",
    "  return new StringBuilder(inputString).reverse().toString();\n",
    "}"
   ]
  },
  {
   "cell_type": "code",
   "execution_count": 2,
   "metadata": {
    "vscode": {
     "languageId": "java"
    }
   },
   "outputs": [],
   "source": [
    "// public static String reverseString(String inputString) {\n",
    "//   // Implementation goes here\n",
    "// }\n",
    "\n",
    "// reverseString(\"hello\");"
   ]
  },
  {
   "cell_type": "code",
   "execution_count": 3,
   "metadata": {
    "vscode": {
     "languageId": "java"
    }
   },
   "outputs": [
    {
     "name": "stdout",
     "output_type": "stream",
     "text": [
      "All tests passed!\n"
     ]
    }
   ],
   "source": [
    "// Test calls\n",
    "assert reverseString(\"hello\").equals(\"olleh\");\n",
    "assert reverseString(\"world\").equals(\"dlrow\");\n",
    "assert reverseString(\"Python\").equals(\"nohtyP\");\n",
    "assert reverseString(\"practice\").equals(\"ecitcarp\");\n",
    "\n",
    "System.out.println(\"All tests passed!\");"
   ]
  },
  {
   "cell_type": "markdown",
   "metadata": {},
   "source": [
    "### Is Palindrome\n",
    "\n",
    "Checks if the input string is a palindrome.\n",
    "\n",
    "A palindrome is a word that reads the same forward and backward.\n",
    "\n",
    "**Args:**\n",
    "\n",
    "- inputString (String): The string to check.\n",
    "\n",
    "**Returns:**\n",
    "\n",
    "- boolean: True if the string is a palindrome, False otherwise.\n"
   ]
  },
  {
   "cell_type": "code",
   "execution_count": 4,
   "metadata": {
    "vscode": {
     "languageId": "java"
    }
   },
   "outputs": [],
   "source": [
    "public static boolean isPalindrome(String inputString) {\n",
    "  String reversedString = new StringBuilder(inputString).reverse().toString();\n",
    "  return inputString == reversedString;\n",
    "}"
   ]
  },
  {
   "cell_type": "code",
   "execution_count": 5,
   "metadata": {
    "vscode": {
     "languageId": "java"
    }
   },
   "outputs": [],
   "source": [
    "// public static boolean isPalindrome(String inputString) {\n",
    "//   // Implementation goes here\n",
    "// }\n",
    "\n",
    "// isPalindrome(\"racecar\");"
   ]
  },
  {
   "cell_type": "code",
   "execution_count": 6,
   "metadata": {
    "vscode": {
     "languageId": "java"
    }
   },
   "outputs": [
    {
     "name": "stdout",
     "output_type": "stream",
     "text": [
      "All tests passed!\n"
     ]
    }
   ],
   "source": [
    "// Test calls\n",
    "assert isPalindrome(\"racecar\") == true;\n",
    "assert isPalindrome(\"hello\") == false;\n",
    "assert isPalindrome(\"level\") == true;\n",
    "assert isPalindrome(\"world\") == false;\n",
    "assert isPalindrome(\"rotor\") == true;\n",
    "assert isPalindrome(\"palindrome\") == false;\n",
    "\n",
    "System.out.println(\"All tests passed!\");"
   ]
  },
  {
   "cell_type": "markdown",
   "metadata": {},
   "source": [
    "### Factorial\n",
    "\n",
    "Calculates the factorial of a number.\n",
    "\n",
    "**Args:**\n",
    "\n",
    "- n (int): The number for which factorial is to be calculated.\n",
    "\n",
    "**Returns:**\n",
    "\n",
    "- int: The factorial of the given number.\n"
   ]
  },
  {
   "cell_type": "code",
   "execution_count": 7,
   "metadata": {
    "vscode": {
     "languageId": "java"
    }
   },
   "outputs": [],
   "source": [
    "public static int factorial(int n) {\n",
    "  int result = 1;\n",
    "  for (int i = 1; i <= n; i++) {\n",
    "    result *= i;\n",
    "  }\n",
    "  return result;\n",
    "}"
   ]
  },
  {
   "cell_type": "code",
   "execution_count": 8,
   "metadata": {
    "vscode": {
     "languageId": "java"
    }
   },
   "outputs": [],
   "source": [
    "// public static int factorial(int n) {\n",
    "//   // Implementation goes here\n",
    "// }\n",
    "\n",
    "// factorial(5);"
   ]
  },
  {
   "cell_type": "code",
   "execution_count": 9,
   "metadata": {
    "vscode": {
     "languageId": "java"
    }
   },
   "outputs": [
    {
     "name": "stdout",
     "output_type": "stream",
     "text": [
      "All tests passed!\n"
     ]
    }
   ],
   "source": [
    "// Test calls\n",
    "assert factorial(0) == 1;\n",
    "assert factorial(1) == 1;\n",
    "assert factorial(2) == 2;\n",
    "assert factorial(3) == 6;\n",
    "assert factorial(4) == 24;\n",
    "assert factorial(5) == 120;\n",
    "\n",
    "System.out.println(\"All tests passed!\");"
   ]
  },
  {
   "cell_type": "markdown",
   "metadata": {},
   "source": [
    "### Count Vowels\n",
    "\n",
    "Counts the number of vowels in a sentence.\n",
    "\n",
    "**Args:**\n",
    "\n",
    "- sentence (String): The input sentence.\n",
    "\n",
    "**Returns:**\n",
    "\n",
    "- int: The number of vowels in the sentence."
   ]
  },
  {
   "cell_type": "code",
   "execution_count": 10,
   "metadata": {
    "vscode": {
     "languageId": "java"
    }
   },
   "outputs": [],
   "source": [
    "public static int countVowels(String sentence) {\n",
    "  int count = 0;\n",
    "  String vowels = \"aeiouAEIOU\";\n",
    "  for (char c : sentence.toCharArray()) {\n",
    "      if (vowels.indexOf(c) != -1) {\n",
    "          count++;\n",
    "      }\n",
    "  }\n",
    "  return count;\n",
    "}"
   ]
  },
  {
   "cell_type": "code",
   "execution_count": 11,
   "metadata": {
    "vscode": {
     "languageId": "java"
    }
   },
   "outputs": [],
   "source": [
    "// public static int countVowels(String sentence) {\n",
    "//   // Implementation goes here\n",
    "// }\n",
    "\n",
    "// countVowels(\"hello\");"
   ]
  },
  {
   "cell_type": "code",
   "execution_count": 12,
   "metadata": {
    "vscode": {
     "languageId": "java"
    }
   },
   "outputs": [
    {
     "name": "stdout",
     "output_type": "stream",
     "text": [
      "All tests passed!\n"
     ]
    }
   ],
   "source": [
    "// Test calls\n",
    "assert countVowels(\"hello\") == 2;\n",
    "assert countVowels(\"world\") == 1;\n",
    "assert countVowels(\"Python programming\") == 4;\n",
    "assert countVowels(\"The quick brown fox jumps over the lazy dog\") == 11;\n",
    "assert countVowels(\"aeiou\") == 5;\n",
    "\n",
    "System.out.println(\"All tests passed!\");"
   ]
  },
  {
   "cell_type": "markdown",
   "metadata": {},
   "source": [
    "### Longest Word\n",
    "\n",
    "Finds the longest word in a sentence.\n",
    "\n",
    "**Args:**\n",
    "\n",
    "- sentence (String): The input sentence.\n",
    "\n",
    "**Returns:**\n",
    "\n",
    "- String: The first longest word in the sentence. If multiple words have the same longest length, it returns the first one encountered.\n"
   ]
  },
  {
   "cell_type": "code",
   "execution_count": 13,
   "metadata": {
    "vscode": {
     "languageId": "java"
    }
   },
   "outputs": [],
   "source": [
    "public static String longestWord(String sentence) {\n",
    "  String[] words = sentence.split(\" \");\n",
    "  String longest = \"\";\n",
    "  for (String word : words) {\n",
    "      if (word.length() > longest.length()) {\n",
    "          longest = word;\n",
    "      }\n",
    "  }\n",
    "  return longest;\n",
    "}"
   ]
  },
  {
   "cell_type": "code",
   "execution_count": 14,
   "metadata": {
    "vscode": {
     "languageId": "java"
    }
   },
   "outputs": [],
   "source": [
    "// public static String longestWord(String sentence) {\n",
    "//   // Implementation goes here\n",
    "// }\n",
    "\n",
    "// longestWord(\"hello world\");"
   ]
  },
  {
   "cell_type": "code",
   "execution_count": 15,
   "metadata": {
    "vscode": {
     "languageId": "java"
    }
   },
   "outputs": [
    {
     "name": "stdout",
     "output_type": "stream",
     "text": [
      "All tests passed!\n"
     ]
    }
   ],
   "source": [
    "// Test calls\n",
    "assert longestWord(\"hello world\").equals(\"hello\");\n",
    "assert longestWord(\"programming is fun\").equals(\"programming\");\n",
    "assert longestWord(\"The quick brown fox jumps over the lazy dog\").equals(\"quick\");\n",
    "assert longestWord(\"This is a test sentence\").equals(\"sentence\");\n",
    "assert longestWord(\"The longest word in this sentence is Dichlorodiphenyltrichloroethane\").equals(\"Dichlorodiphenyltrichloroethane\");\n",
    "\n",
    "System.out.println(\"All tests passed!\");"
   ]
  },
  {
   "cell_type": "markdown",
   "metadata": {},
   "source": [
    "### Is Sublist\n",
    "\n",
    "Checks if the child list is a sublist of the parent list.\n",
    "\n",
    "A sublist means the parent contains all elements of the child list, in any order.\n",
    "\n",
    "**Args:**\n",
    "\n",
    "- parent (List): The parent list.\n",
    "- child (List): The potential sublist.\n",
    "\n",
    "**Returns:**\n",
    "\n",
    "- boolean: True if the child is a sublist of the parent, False otherwise.\n"
   ]
  },
  {
   "cell_type": "markdown",
   "metadata": {},
   "source": [
    "### 1️⃣ `containsAll` Sublist Check\n",
    "\n",
    "- Check if the parent list contains all elements of the child list.\n",
    "\n",
    "**Time**: **O(N \\* M)** (worst case).  \n",
    "(N is the size of the parent list, M is the size of the child list)."
   ]
  },
  {
   "cell_type": "code",
   "execution_count": 16,
   "metadata": {
    "vscode": {
     "languageId": "java"
    }
   },
   "outputs": [
    {
     "data": {
      "text/plain": [
       "true"
      ]
     },
     "execution_count": 16,
     "metadata": {},
     "output_type": "execute_result"
    }
   ],
   "source": [
    "import java.util.List;\n",
    "import java.util.Arrays;\n",
    "\n",
    "// O(N*M) in the worst case, where N is the size of parent and M is the size of child\n",
    "public static boolean isSublist(List<Integer> parent, List<Integer> child) {\n",
    "  return parent.containsAll(child);\n",
    "}\n",
    "\n",
    "isSublist(Arrays.asList(1, 2, 3, 4), Arrays.asList(2, 3));"
   ]
  },
  {
   "cell_type": "markdown",
   "metadata": {},
   "source": [
    "### 2️⃣ Nested Loop Sublist Check\n",
    "\n",
    "- Check each child element in the parent list.\n",
    "- Return false if any child element is missing.\n",
    "- Return true if all child elements are found.\n",
    "\n",
    "**Time**: **O(N \\* M)**.  \n",
    "(N is the size of the parent list, M is the size of the child list)."
   ]
  },
  {
   "cell_type": "code",
   "execution_count": 17,
   "metadata": {
    "vscode": {
     "languageId": "java"
    }
   },
   "outputs": [
    {
     "data": {
      "text/plain": [
       "true"
      ]
     },
     "execution_count": 17,
     "metadata": {},
     "output_type": "execute_result"
    }
   ],
   "source": [
    "// O(N*M) where N is the size of parent and M is the size of child\n",
    "public static boolean isSublist(List<Integer> parent, List<Integer> child) {\n",
    "  for (int childElement : child) {\n",
    "      boolean found = false;\n",
    "      for (int parentElement : parent) {\n",
    "          if (childElement == parentElement) {\n",
    "              found = true;\n",
    "              break; // No need to check further in the parent list\n",
    "          }\n",
    "      }\n",
    "      if (!found) {\n",
    "          return false; // Child element not found in parent\n",
    "      }\n",
    "  }\n",
    "  return true; // All child elements found in parent\n",
    "}\n",
    "\n",
    "isSublist(Arrays.asList(1, 2, 3, 4), Arrays.asList(2, 3))"
   ]
  },
  {
   "cell_type": "markdown",
   "metadata": {},
   "source": [
    "### 3️⃣ Binary Search Sublist Check\n",
    "\n",
    "- Sort the parent list.\n",
    "- Use binary search to find each child element in the sorted parent list.\n",
    "- Return false if any child element is missing.\n",
    "- Return true if all child elements are found.\n",
    "\n",
    "**Time**: **O(N log N + M log N)**.  \n",
    "(N is the size of the parent list, M is the size of the child list)."
   ]
  },
  {
   "cell_type": "code",
   "execution_count": 18,
   "metadata": {
    "vscode": {
     "languageId": "java"
    }
   },
   "outputs": [
    {
     "data": {
      "text/plain": [
       "true"
      ]
     },
     "execution_count": 18,
     "metadata": {},
     "output_type": "execute_result"
    }
   ],
   "source": [
    "import java.util.Collections;\n",
    "import java.util.List;\n",
    "\n",
    "private static boolean binarySearch(List<Integer> list, int target) {\n",
    "  int left = 0;\n",
    "  int right = list.size() - 1;\n",
    "\n",
    "  while (left <= right) {\n",
    "      int mid = left + (right - left) / 2;\n",
    "      if (list.get(mid) == target) {\n",
    "          return true;\n",
    "      } else if (list.get(mid) < target) {\n",
    "          left = mid + 1;\n",
    "      } else {\n",
    "          right = mid - 1;\n",
    "      }\n",
    "  }\n",
    "  return false;\n",
    "}\n",
    "\n",
    "// O(N*logN + M*logN) where N is the size of parent and M is the size of child\n",
    "public static boolean isSublist(List<Integer> parent, List<Integer> child) {\n",
    "    Collections.sort(parent); // Sort the parent list for binary search\n",
    "\n",
    "    for (int childElement : child) {\n",
    "        if (!binarySearch(parent, childElement)) {\n",
    "            return false; // Child element not found in parent\n",
    "        }\n",
    "    }\n",
    "    return true; // All child elements found in parent\n",
    "}\n",
    "\n",
    "isSublist(Arrays.asList(1, 2, 3, 4), Arrays.asList(2, 3))"
   ]
  },
  {
   "cell_type": "markdown",
   "metadata": {},
   "source": [
    "### 4️⃣ HashSet Sublist Check\n",
    "\n",
    "- Convert parent list to a `HashSet`.\n",
    "- Check each child element against the set.\n",
    "- Return false if any child element is missing.\n",
    "- Return true if all child elements are found.\n",
    "\n",
    "**Time**: **O(N + M)**.  \n",
    "(N is the size of the parent list, M is the size of the child list)."
   ]
  },
  {
   "cell_type": "code",
   "execution_count": 19,
   "metadata": {
    "vscode": {
     "languageId": "java"
    }
   },
   "outputs": [
    {
     "data": {
      "text/plain": [
       "true"
      ]
     },
     "execution_count": 19,
     "metadata": {},
     "output_type": "execute_result"
    }
   ],
   "source": [
    "// O(N + M) where N is the size of parent and M is the size of child\n",
    "public static boolean isSublist(List<Integer> parent, List<Integer> child) {\n",
    "  Set<Integer> parentSet = new HashSet<>(parent);\n",
    "\n",
    "  for (int childElement : child) {\n",
    "      if (!parentSet.contains(childElement)) {\n",
    "          return false;\n",
    "      }\n",
    "  }\n",
    "  return true;\n",
    "}\n",
    "\n",
    "isSublist(Arrays.asList(1, 2, 3, 4), Arrays.asList(2, 3))"
   ]
  },
  {
   "cell_type": "code",
   "execution_count": 20,
   "metadata": {
    "vscode": {
     "languageId": "java"
    }
   },
   "outputs": [],
   "source": [
    "// public static boolean isSublist(List<Integer> parent, List<Integer> child) {\n",
    "//   // Implementation goes here\n",
    "// }\n",
    "\n",
    "// isSublist(Arrays.asList(1, 2, 3, 4), Arrays.asList(2, 3));"
   ]
  },
  {
   "cell_type": "code",
   "execution_count": 21,
   "metadata": {
    "vscode": {
     "languageId": "java"
    }
   },
   "outputs": [
    {
     "name": "stdout",
     "output_type": "stream",
     "text": [
      "All tests passed!\n"
     ]
    }
   ],
   "source": [
    "// Test calls\n",
    "assert isSublist(Arrays.asList(1, 2, 3, 4), Arrays.asList(2, 3)) == true;\n",
    "assert isSublist(Arrays.asList(1, 2, 3, 4), Arrays.asList(2, 5)) == false;\n",
    "assert isSublist(Arrays.asList(1, 2, 3, 4), Arrays.asList(1, 2, 3, 4)) == true;\n",
    "assert isSublist(Arrays.asList(1, 2, 3, 4), Arrays.asList(1, 2, 3, 4, 5)) == false;\n",
    "assert isSublist(Arrays.asList(1, 2, 3, 4), Arrays.asList()) == true;\n",
    "\n",
    "System.out.println(\"All tests passed!\");"
   ]
  },
  {
   "cell_type": "markdown",
   "metadata": {},
   "source": [
    "### Caesar Cipher Encode\n",
    "\n",
    "Encodes a message using the Caesar cipher.\n",
    "\n",
    "**Args:**\n",
    "- message (String): The message to encode.\n",
    "- shift (int): The number of positions to shift each letter. Can be from 1 to 25 or -1 to -25.\n",
    "\n",
    "**Returns:**\n",
    "- String: The encoded message.\n"
   ]
  },
  {
   "cell_type": "code",
   "execution_count": 22,
   "metadata": {
    "vscode": {
     "languageId": "java"
    }
   },
   "outputs": [],
   "source": [
    "public static String caesarCipherEncode(String message, int shift) {\n",
    "  StringBuilder encoded = new StringBuilder();\n",
    "\n",
    "  for (char c : message.toCharArray()) {\n",
    "      if (Character.isLetter(c)) {\n",
    "          char base = Character.isLowerCase(c) ? 'a' : 'A';\n",
    "          int originalPosition = c - base;\n",
    "          int newPosition = (originalPosition + shift + 26) % 26;\n",
    "          char newChar = (char) (base + newPosition);\n",
    "          encoded.append(newChar);\n",
    "      } else {\n",
    "          encoded.append(c);\n",
    "      }\n",
    "  }\n",
    "  return encoded.toString();\n",
    "}"
   ]
  },
  {
   "cell_type": "code",
   "execution_count": 23,
   "metadata": {
    "vscode": {
     "languageId": "java"
    }
   },
   "outputs": [],
   "source": [
    "// public static String caesarCipherEncode(String message, int shift) {\n",
    "//   // Implementation goes here\n",
    "// }\n",
    "\n",
    "// caesarCipherEncode(\"Hello 123!\", 3);"
   ]
  },
  {
   "cell_type": "code",
   "execution_count": 24,
   "metadata": {
    "vscode": {
     "languageId": "java"
    }
   },
   "outputs": [
    {
     "name": "stdout",
     "output_type": "stream",
     "text": [
      "All tests passed!\n"
     ]
    }
   ],
   "source": [
    "// Test calls\n",
    "assert caesarCipherEncode(\"Hello 123!\", 3).equals(\"Khoor 123!\");\n",
    "assert caesarCipherEncode(\"World!\", -3).equals(\"Tloia!\");\n",
    "assert caesarCipherEncode(\"Python\", 5).equals(\"Udymts\");\n",
    "assert caesarCipherEncode(\"abc\", 1).equals(\"bcd\");\n",
    "assert caesarCipherEncode(\"xyz\", -1).equals(\"wxy\");\n",
    "assert caesarCipherEncode(\"Caesar Cipher\", 2).equals(\"Ecguct Ekrjgt\");\n",
    "\n",
    "System.out.println(\"All tests passed!\");"
   ]
  },
  {
   "cell_type": "markdown",
   "metadata": {},
   "source": [
    "### Caesar Cipher Decode\n",
    "\n",
    "Decodes a message using the Caesar cipher.\n",
    "\n",
    "**Args:**\n",
    "- message (String): The message to decode.\n",
    "- shift (int): The number of positions to shift each letter. Can be from 1 to 25 or -1 to -25.\n",
    "\n",
    "**Returns:**\n",
    "- String: The decoded message.\n"
   ]
  },
  {
   "cell_type": "code",
   "execution_count": 25,
   "metadata": {
    "vscode": {
     "languageId": "java"
    }
   },
   "outputs": [],
   "source": [
    "public static String caesarCipherDecode(String message, int shift) {\n",
    "  return caesarCipherEncode(message, -shift);\n",
    "}"
   ]
  },
  {
   "cell_type": "code",
   "execution_count": 26,
   "metadata": {
    "vscode": {
     "languageId": "java"
    }
   },
   "outputs": [],
   "source": [
    "// public static String caesarCipherDecode(String message, int shift) {\n",
    "//   // Implementation goes here\n",
    "// }\n",
    "\n",
    "// caesarCipherDecode(\"Khoor 123!\", 3);"
   ]
  },
  {
   "cell_type": "code",
   "execution_count": 27,
   "metadata": {
    "vscode": {
     "languageId": "java"
    }
   },
   "outputs": [
    {
     "name": "stdout",
     "output_type": "stream",
     "text": [
      "All tests passed!\n"
     ]
    }
   ],
   "source": [
    "// Test calls\n",
    "assert caesarCipherDecode(\"Khoor 123!\", 3).equals(\"Hello 123!\");\n",
    "assert caesarCipherDecode(\"Tloia!\", -3).equals(\"World!\");\n",
    "assert caesarCipherDecode(\"Udymts\", 5).equals(\"Python\");\n",
    "assert caesarCipherDecode(\"bcd\", 1).equals(\"abc\");\n",
    "assert caesarCipherDecode(\"wxy\", -1).equals(\"xyz\");\n",
    "assert caesarCipherDecode(\"Ecguct Ekrjgt\", 2).equals(\"Caesar Cipher\");\n",
    "\n",
    "System.out.println(\"All tests passed!\");"
   ]
  },
  {
   "cell_type": "markdown",
   "metadata": {},
   "source": [
    "### Sum of Digits\n",
    "\n",
    "Calculates the sum of digits of a number.\n",
    "\n",
    "**Args:**\n",
    "- number (int): The input number.\n",
    "\n",
    "**Returns:**\n",
    "- int: The sum of digits of the input number.\n"
   ]
  },
  {
   "cell_type": "code",
   "execution_count": 28,
   "metadata": {
    "vscode": {
     "languageId": "java"
    }
   },
   "outputs": [],
   "source": [
    "public static int sumOfDigits(int number) {\n",
    "  int sum = 0;\n",
    "  while (number > 0) {\n",
    "      sum += number % 10;\n",
    "      number /= 10;\n",
    "  }\n",
    "  return sum;\n",
    "}"
   ]
  },
  {
   "cell_type": "code",
   "execution_count": 29,
   "metadata": {
    "vscode": {
     "languageId": "java"
    }
   },
   "outputs": [],
   "source": [
    "// public static int sumOfDigits(int number) {\n",
    "//   // Implementation goes here\n",
    "// }\n",
    "\n",
    "// sumOfDigits(123);"
   ]
  },
  {
   "cell_type": "code",
   "execution_count": 30,
   "metadata": {
    "vscode": {
     "languageId": "java"
    }
   },
   "outputs": [
    {
     "name": "stdout",
     "output_type": "stream",
     "text": [
      "All tests passed!\n"
     ]
    }
   ],
   "source": [
    "// Test calls\n",
    "assert sumOfDigits(123) == 6;\n",
    "assert sumOfDigits(456789) == 39;\n",
    "assert sumOfDigits(987654321) == 45;\n",
    "assert sumOfDigits(0) == 0;\n",
    "assert sumOfDigits(999) == 27;\n",
    "\n",
    "System.out.println(\"All tests passed!\");"
   ]
  },
  {
   "cell_type": "markdown",
   "metadata": {},
   "source": [
    "### Merge Sorted Lists\n",
    "\n",
    "Merges two sorted lists into a single sorted list without using any Java built-in sorting methods.\n",
    "\n",
    "**Args:**\n",
    "- list1 (List): The first sorted list.\n",
    "- list2 (List): The second sorted list.\n",
    "\n",
    "**Returns:**\n",
    "- List: The merged sorted list."
   ]
  },
  {
   "cell_type": "code",
   "execution_count": 31,
   "metadata": {
    "vscode": {
     "languageId": "java"
    }
   },
   "outputs": [],
   "source": [
    "import java.util.List;\n",
    "import java.util.ArrayList;\n",
    "import java.util.Arrays;\n",
    "\n",
    "public static List<Integer> mergeSortedLists(List<Integer> list1, List<Integer> list2) {\n",
    "    List<Integer> merged = new ArrayList<>();\n",
    "    int i = 0, j = 0;\n",
    "\n",
    "    // Merge elements from both lists until one is exhausted\n",
    "    while (i < list1.size() && j < list2.size()) {\n",
    "        if (list1.get(i) <= list2.get(j)) {\n",
    "            merged.add(list1.get(i++));\n",
    "        } else {\n",
    "            merged.add(list2.get(j++));\n",
    "        }\n",
    "    }\n",
    "    \n",
    "    // Add remaining elements from list1, if any\n",
    "    while (i < list1.size()) {\n",
    "        merged.add(list1.get(i++));\n",
    "    }\n",
    "    \n",
    "    // Add remaining elements from list2, if any\n",
    "    while (j < list2.size()) {\n",
    "        merged.add(list2.get(j++));\n",
    "    }\n",
    "    \n",
    "    return merged;\n",
    "}"
   ]
  },
  {
   "cell_type": "code",
   "execution_count": 32,
   "metadata": {
    "vscode": {
     "languageId": "java"
    }
   },
   "outputs": [],
   "source": [
    "// public static List<Integer> mergeSortedLists(List<Integer> list1, List<Integer> list2) {\n",
    "//   // Implementation goes here\n",
    "// }\n",
    "\n",
    "// mergeSortedLists(Arrays.asList(1, 3, 5), Arrays.asList(2, 4, 6));"
   ]
  },
  {
   "cell_type": "code",
   "execution_count": 33,
   "metadata": {
    "vscode": {
     "languageId": "java"
    }
   },
   "outputs": [
    {
     "name": "stdout",
     "output_type": "stream",
     "text": [
      "All tests passed!\n"
     ]
    }
   ],
   "source": [
    "// Test calls\n",
    "assert mergeSortedLists(Arrays.asList(1, 3, 5), Arrays.asList(2, 4, 6)).equals(Arrays.asList(1, 2, 3, 4, 5, 6));\n",
    "assert mergeSortedLists(Arrays.asList(1, 3, 5, 7), Arrays.asList(2, 4, 6)).equals(Arrays.asList(1, 2, 3, 4, 5, 6, 7));\n",
    "assert mergeSortedLists(Arrays.asList(1, 3, 5), Arrays.asList(2, 4, 6, 8)).equals(Arrays.asList(1, 2, 3, 4, 5, 6, 8));\n",
    "assert mergeSortedLists(Arrays.asList(1, 2, 3), Arrays.asList()).equals(Arrays.asList(1, 2, 3));\n",
    "assert mergeSortedLists(Arrays.asList(), Arrays.asList(4, 5, 6)).equals(Arrays.asList(4, 5, 6));\n",
    "\n",
    "System.out.println(\"All tests passed!\");"
   ]
  },
  {
   "cell_type": "markdown",
   "metadata": {},
   "source": [
    "### Dot Product\n",
    "\n",
    "Calculates the dot product of two vectors.\n",
    "\n",
    "- The dot product of two vectors is a scalar quantity that is calculated by multiplying\n",
    "  corresponding components of the two vectors and then summing up the results.\n",
    "\n",
    "- In other words, if we have two vectors a=[a1,a2,...,an] and b=[b1,b2,...,bn], their dot product a⋅b is \n",
    "  calculated as:\n",
    "  - a⋅b = a1⋅b1 + a2⋅b2 + ... + an⋅bn\n",
    "\n",
    "**Args:**\n",
    "- vector1 (List): The first vector.\n",
    "- vector2 (List): The second vector.\n",
    "\n",
    "**Returns:**\n",
    "- float: The dot product of the two vectors.\n"
   ]
  },
  {
   "cell_type": "code",
   "execution_count": 34,
   "metadata": {
    "vscode": {
     "languageId": "java"
    }
   },
   "outputs": [],
   "source": [
    "import java.util.List;\n",
    "\n",
    "public static double dotProduct(List<Integer> vector1, List<Integer> vector2) {\n",
    "    double sum = 0;\n",
    "    for (int i = 0; i < vector1.size(); i++) {\n",
    "        sum += vector1.get(i) * vector2.get(i);\n",
    "    }\n",
    "    return sum;\n",
    "}"
   ]
  },
  {
   "cell_type": "code",
   "execution_count": 35,
   "metadata": {
    "vscode": {
     "languageId": "java"
    }
   },
   "outputs": [],
   "source": [
    "// public static double dotProduct(List<Integer> vector1, List<Integer> vector2) {\n",
    "//   // Implementation goes here\n",
    "// }\n",
    "\n",
    "// dotProduct(Arrays.asList(1, 2, 3), Arrays.asList(4, 5, 6));"
   ]
  },
  {
   "cell_type": "code",
   "execution_count": 36,
   "metadata": {
    "vscode": {
     "languageId": "java"
    }
   },
   "outputs": [
    {
     "name": "stdout",
     "output_type": "stream",
     "text": [
      "All tests passed!\n"
     ]
    }
   ],
   "source": [
    "// Test calls\n",
    "assert dotProduct(Arrays.asList(1, 2, 3), Arrays.asList(4, 5, 6)) == 32;  // 1*4 + 2*5 + 3*6 = 4 + 10 + 18 = 32\n",
    "assert dotProduct(Arrays.asList(0, 0, 0), Arrays.asList(1, 1, 1)) == 0;   // 0*1 + 0*1 + 0*1 = 0\n",
    "assert dotProduct(Arrays.asList(-1, 2, -3), Arrays.asList(4, -5, 6)) == -32;  // -1*4 + 2*(-5) + (-3)*6 = -4 - 10 - 18 = -32\n",
    "assert dotProduct(Arrays.asList(1, 2), Arrays.asList(0, 0)) == 0;          // 1*0 + 2*0 = 0\n",
    "assert dotProduct(Arrays.asList(2, 2, 2), Arrays.asList(1, 1, 1)) == 6;    // 2*1 + 2*1 + 2*1 = 2 + 2 + 2 = 6\n",
    "\n",
    "System.out.println(\"All tests passed!\");"
   ]
  },
  {
   "cell_type": "markdown",
   "metadata": {},
   "source": [
    "### Flatten List\n",
    "\n",
    "Flattens a nested list into a single list.\n",
    "\n",
    "Flattening a nested list means to convert a list of lists into a single list by \n",
    "combining all the elements of the nested lists into one flat list, preserving \n",
    "the order of elements.\n",
    "\n",
    "**Args:**\n",
    "- nested_list (List): The nested list to flatten.\n",
    "\n",
    "**Returns:**\n",
    "- List: The flattened list.\n"
   ]
  },
  {
   "cell_type": "code",
   "execution_count": 37,
   "metadata": {
    "vscode": {
     "languageId": "java"
    }
   },
   "outputs": [],
   "source": [
    "import java.util.List;\n",
    "import java.util.ArrayList;\n",
    "import java.util.Arrays;\n",
    "\n",
    "public static List<Integer> flattenList(List<?> nestedList) {\n",
    "    List<Integer> flattened = new ArrayList<>();\n",
    "\n",
    "    // Iterate through each item in the nested list\n",
    "    for (Object item : nestedList) {\n",
    "        // If the item is a list, recursively flatten it\n",
    "        if (item instanceof List<?>) {\n",
    "            flattened.addAll(flattenList((List<?>) item));\n",
    "        } else {\n",
    "            // Otherwise, add the item to the flattened list\n",
    "            flattened.add((Integer) item);\n",
    "        }\n",
    "    }\n",
    "    return flattened;\n",
    "}"
   ]
  },
  {
   "cell_type": "code",
   "execution_count": 38,
   "metadata": {
    "vscode": {
     "languageId": "java"
    }
   },
   "outputs": [],
   "source": [
    "// public static List<Integer> flattenList(List<?> nestedList) {\n",
    "//   // Implementation goes here\n",
    "// }\n",
    "\n",
    "// flattenList(Arrays.asList(\n",
    "//   Arrays.asList(1, 2, 3), Arrays.asList(4, 5), Arrays.asList(6, 7, 8)\n",
    "// ));"
   ]
  },
  {
   "cell_type": "code",
   "execution_count": 39,
   "metadata": {
    "vscode": {
     "languageId": "java"
    }
   },
   "outputs": [
    {
     "name": "stdout",
     "output_type": "stream",
     "text": [
      "All tests passed!\n"
     ]
    }
   ],
   "source": [
    "// Test calls\n",
    "assert flattenList(Arrays.asList(Arrays.asList(1, 2, 3), Arrays.asList(4, 5), Arrays.asList(6, 7, 8))).equals(Arrays.asList(1, 2, 3, 4, 5, 6, 7, 8));\n",
    "assert flattenList(Arrays.asList(Arrays.asList(1, 2), Arrays.asList(3, Arrays.asList(4, 5)), 6, Arrays.asList(7, 8))).equals(Arrays.asList(1, 2, 3, 4, 5, 6, 7, 8));\n",
    "assert flattenList(Arrays.asList(Arrays.asList(1, Arrays.asList(2, Arrays.asList(3, 4)), 5), Arrays.asList(6, Arrays.asList(7, 8)), 9)).equals(Arrays.asList(1, 2, 3, 4, 5, 6, 7, 8, 9));\n",
    "assert flattenList(Arrays.asList(1, 2, 3, 4)).equals(Arrays.asList(1, 2, 3, 4));\n",
    "\n",
    "System.out.println(\"All tests passed!\");"
   ]
  },
  {
   "cell_type": "markdown",
   "metadata": {},
   "source": [
    "### Find Unique Common Elements\n",
    "\n",
    "Finds the unique common elements between two lists.\n",
    "\n",
    "**Args:**\n",
    "- list1 (List): The first list.\n",
    "- list2 (List): The second list.\n",
    "\n",
    "**Returns:**\n",
    "- List: A list containing the unique common elements between the two input lists.\n"
   ]
  },
  {
   "cell_type": "markdown",
   "metadata": {},
   "source": [
    "### 1️⃣ HashSet Intersection\n",
    "\n",
    "- Convert lists to sets.\n",
    "- Keep common elements.\n",
    "- Return result as a list.\n",
    "\n",
    "**Time**: **O(N + M)**."
   ]
  },
  {
   "cell_type": "code",
   "execution_count": 40,
   "metadata": {
    "vscode": {
     "languageId": "java"
    }
   },
   "outputs": [
    {
     "data": {
      "text/plain": [
       "[3, 4]"
      ]
     },
     "execution_count": 40,
     "metadata": {},
     "output_type": "execute_result"
    }
   ],
   "source": [
    "import java.util.List;\n",
    "import java.util.ArrayList;\n",
    "import java.util.Arrays;\n",
    "import java.util.HashSet;\n",
    "\n",
    "// O(N + M) where N is the size of list1 and M is the size of list2\n",
    "public static <T> List<T> findUniqueCommonElements(List<T> list1, List<T> list2) {\n",
    "  HashSet<T> set1 = new HashSet<>(list1);\n",
    "  HashSet<T> set2 = new HashSet<>(list2);\n",
    "  set1.retainAll(set2);\n",
    "  return new ArrayList<>(set1);\n",
    "}\n",
    "\n",
    "findUniqueCommonElements(Arrays.asList(1, 2, 3, 4), Arrays.asList(3, 4, 5, 6));"
   ]
  },
  {
   "cell_type": "markdown",
   "metadata": {},
   "source": [
    "### 2️⃣ Nested Loop Comparison\n",
    "\n",
    "- Loop through both lists.\n",
    "- Add matching elements to the result.\n",
    "- Return unique matches.\n",
    "\n",
    "**Time**: **O(N \\* M)**."
   ]
  },
  {
   "cell_type": "code",
   "execution_count": 41,
   "metadata": {
    "vscode": {
     "languageId": "java"
    }
   },
   "outputs": [
    {
     "data": {
      "text/plain": [
       "[3, 4]"
      ]
     },
     "execution_count": 41,
     "metadata": {},
     "output_type": "execute_result"
    }
   ],
   "source": [
    "import java.util.List;\n",
    "import java.util.ArrayList;\n",
    "import java.util.Arrays;\n",
    "import java.util.HashSet;\n",
    "\n",
    "// O(N*M) where N is the size of list1 and M is the size of list2\n",
    "public static <T> List<T> findUniqueCommonElements(List<T> list1, List<T> list2) {\n",
    "    HashSet<T> result = new HashSet<>(); // To store unique common elements\n",
    "\n",
    "    for (T element1 : list1) {\n",
    "        for (T element2 : list2) {\n",
    "            if (element1.equals(element2)) {\n",
    "                result.add(element1); // Add to result if found in both lists\n",
    "                break; // No need to check further in list2 for this element1\n",
    "            }\n",
    "        }\n",
    "    }\n",
    "\n",
    "    return new ArrayList<>(result);\n",
    "}\n",
    "\n",
    "findUniqueCommonElements(Arrays.asList(1, 2, 3, 4), Arrays.asList(3, 4, 5, 6));"
   ]
  },
  {
   "cell_type": "markdown",
   "metadata": {},
   "source": [
    "### 3️⃣ Binary Search Intersection\n",
    "\n",
    "- Sort the second list.\n",
    "- For each element in the first list, use binary search on the second list.\n",
    "- Add common elements to the result.\n",
    "\n",
    "**Time**: **O(N log N + M log N)**.  \n",
    "(N is the size of list2, M is the size of list1)"
   ]
  },
  {
   "cell_type": "code",
   "execution_count": 42,
   "metadata": {
    "vscode": {
     "languageId": "java"
    }
   },
   "outputs": [
    {
     "data": {
      "text/plain": [
       "[3, 4]"
      ]
     },
     "execution_count": 42,
     "metadata": {},
     "output_type": "execute_result"
    }
   ],
   "source": [
    "import java.util.List;\n",
    "import java.util.ArrayList;\n",
    "import java.util.Arrays;\n",
    "import java.util.HashSet;\n",
    "import java.util.Collections;\n",
    "\n",
    "public static <T extends Comparable<T>> boolean binarySearch(List<T> sortedList, T element) {\n",
    "  int left = 0;\n",
    "  int right = sortedList.size() - 1;\n",
    "\n",
    "  while (left <= right) {\n",
    "      int mid = left + (right - left) / 2;\n",
    "      int comparison = element.compareTo(sortedList.get(mid));\n",
    "\n",
    "      if (comparison == 0) {\n",
    "          return true; // Element found\n",
    "      } else if (comparison < 0) {\n",
    "          right = mid - 1; // Search in the left half\n",
    "      } else {\n",
    "          left = mid + 1; // Search in the right half\n",
    "      }\n",
    "  }\n",
    "\n",
    "  return false; // Element not found\n",
    "}\n",
    "\n",
    "// O(N*logN + M*logN) where N is the size of list2 ⚠️ and M is the size of list1 ⚠️\n",
    "public static <T extends Comparable<T>> List<T> findUniqueCommonElements(List<T> list1, List<T> list2) {\n",
    "    // Sort list2 to enable binary search\n",
    "    Collections.sort(list2);\n",
    "\n",
    "    HashSet<T> result = new HashSet<>(); // To store unique common elements\n",
    "\n",
    "    // Iterate through list1 and check for each element in sorted list2 using binary search\n",
    "    for (T element1 : list1) {\n",
    "        if (binarySearch(list2, element1)) {\n",
    "            result.add(element1); // Add the common element to the result\n",
    "        }\n",
    "    }\n",
    "\n",
    "    return new ArrayList<>(result);\n",
    "}\n",
    "\n",
    "  findUniqueCommonElements(Arrays.asList(1, 2, 3, 4), Arrays.asList(3, 4, 5, 6));"
   ]
  },
  {
   "cell_type": "code",
   "execution_count": 43,
   "metadata": {
    "vscode": {
     "languageId": "java"
    }
   },
   "outputs": [],
   "source": [
    "// public static <T> List<T> findUniqueCommonElements(List<T> list1, List<T> list2) {\n",
    "//   // Implementation goes here\n",
    "// }\n",
    "\n",
    "// findUniqueCommonElements(Arrays.asList(1, 2, 3, 4), Arrays.asList(3, 4, 5, 6));\n",
    "// findUniqueCommonElements(Arrays.asList(\"a\", \"b\", \"c\"), Arrays.asList(\"b\", \"c\", \"d\", \"e\"));"
   ]
  },
  {
   "cell_type": "code",
   "execution_count": 44,
   "metadata": {
    "vscode": {
     "languageId": "java"
    }
   },
   "outputs": [
    {
     "name": "stdout",
     "output_type": "stream",
     "text": [
      "All tests passed!\n"
     ]
    }
   ],
   "source": [
    "// Test calls\n",
    "assert findUniqueCommonElements(Arrays.asList(1, 2, 3, 4), Arrays.asList(3, 4, 5, 6)).equals(Arrays.asList(3, 4));\n",
    "assert findUniqueCommonElements(Arrays.asList(\"a\", \"b\", \"c\"), Arrays.asList(\"b\", \"c\", \"d\", \"e\")).equals(Arrays.asList(\"b\", \"c\"));\n",
    "assert findUniqueCommonElements(Arrays.asList(), Arrays.asList(1, 2, 3)).equals(Arrays.asList());\n",
    "assert findUniqueCommonElements(Arrays.asList(1, 2, 3), Arrays.asList()).equals(Arrays.asList());\n",
    "assert findUniqueCommonElements(Arrays.asList(1, 2, 3), Arrays.asList(4, 5, 6)).equals(Arrays.asList());\n",
    "\n",
    "System.out.println(\"All tests passed!\");"
   ]
  },
  {
   "cell_type": "markdown",
   "metadata": {},
   "source": [
    "### Rotate Matrix\n",
    "\n",
    "Rotates a matrix clockwise by ninety degrees.\n",
    "\n",
    "**Args:**\n",
    "- matrix (List of Lists): The matrix to rotate.\n",
    "\n",
    "**Returns:**\n",
    "- List of Lists: The rotated matrix.\n"
   ]
  },
  {
   "cell_type": "code",
   "execution_count": 45,
   "metadata": {
    "vscode": {
     "languageId": "java"
    }
   },
   "outputs": [],
   "source": [
    "import java.util.List;\n",
    "import java.util.ArrayList;\n",
    "import java.util.Arrays;\n",
    "\n",
    "public static List<List<Integer>> rotateMatrix(List<List<Integer>> matrix) {\n",
    "    int n = matrix.size();       // Number of rows in the matrix\n",
    "    int m = matrix.get(0).size(); // Number of columns in the matrix\n",
    "    List<List<Integer>> rotated = new ArrayList<>();\n",
    "    \n",
    "    // Create each new row of the rotated matrix\n",
    "    for (int i = 0; i < m; i++) {\n",
    "        List<Integer> newRow = new ArrayList<>();\n",
    "        // Collect elements for the new row from bottom to top of the current column\n",
    "        for (int j = n - 1; j >= 0; j--) {\n",
    "            newRow.add(matrix.get(j).get(i));\n",
    "        }\n",
    "        rotated.add(newRow);\n",
    "    }\n",
    "    return rotated;\n",
    "}"
   ]
  },
  {
   "cell_type": "code",
   "execution_count": 46,
   "metadata": {
    "vscode": {
     "languageId": "java"
    }
   },
   "outputs": [],
   "source": [
    "// public static List<List<Integer>> rotateMatrix(List<List<Integer>> matrix) {\n",
    "//   // Implementation goes here\n",
    "// }\n",
    "\n",
    "// rotateMatrix(Arrays.asList(\n",
    "//     Arrays.asList(1, 2, 3),\n",
    "//     Arrays.asList(4, 5, 6),\n",
    "//     Arrays.asList(7, 8, 9)\n",
    "// ));"
   ]
  },
  {
   "cell_type": "code",
   "execution_count": 47,
   "metadata": {
    "vscode": {
     "languageId": "java"
    }
   },
   "outputs": [
    {
     "name": "stdout",
     "output_type": "stream",
     "text": [
      "All tests passed!\n"
     ]
    }
   ],
   "source": [
    "// Test calls\n",
    "List<List<Integer>> matrix1 = Arrays.asList(\n",
    "    Arrays.asList(1, 2, 3),\n",
    "    Arrays.asList(4, 5, 6),\n",
    "    Arrays.asList(7, 8, 9)\n",
    ");\n",
    "assert rotateMatrix(matrix1).equals(Arrays.asList(\n",
    "    Arrays.asList(7, 4, 1),\n",
    "    Arrays.asList(8, 5, 2),\n",
    "    Arrays.asList(9, 6, 3)\n",
    "));\n",
    "\n",
    "List<List<Integer>> matrix2 = Arrays.asList(\n",
    "    Arrays.asList(1, 2),\n",
    "    Arrays.asList(3, 4)\n",
    ");\n",
    "assert rotateMatrix(matrix2).equals(Arrays.asList(\n",
    "    Arrays.asList(3, 1),\n",
    "    Arrays.asList(4, 2)\n",
    "));\n",
    "\n",
    "List<List<Integer>> matrix3 = Arrays.asList(\n",
    "    Arrays.asList(1, 2, 3, 4),\n",
    "    Arrays.asList(5, 6, 7, 8),\n",
    "    Arrays.asList(9, 10, 11, 12)\n",
    ");\n",
    "assert rotateMatrix(matrix3).equals(Arrays.asList(\n",
    "    Arrays.asList(9, 5, 1),\n",
    "    Arrays.asList(10, 6, 2),\n",
    "    Arrays.asList(11, 7, 3),\n",
    "    Arrays.asList(12, 8, 4)\n",
    "));\n",
    "\n",
    "System.out.println(\"All tests passed!\");"
   ]
  },
  {
   "cell_type": "markdown",
   "metadata": {},
   "source": [
    "### Find Second Largest\n",
    "\n",
    "Finds the second largest number in a list of numbers.\n",
    "\n",
    "**Args:**\n",
    "- numbers (List): The list of numbers.\n",
    "\n",
    "**Returns:**\n",
    "- int: The second largest number in the list.\n"
   ]
  },
  {
   "cell_type": "code",
   "execution_count": 48,
   "metadata": {
    "vscode": {
     "languageId": "java"
    }
   },
   "outputs": [],
   "source": [
    "import java.util.List;\n",
    "import java.util.Collections;\n",
    "\n",
    "public static Integer findSecondLargest(List<Integer> numbers) {\n",
    "    if (numbers.size() < 2) {\n",
    "        return null; // Not enough elements to find the second largest\n",
    "    }\n",
    "\n",
    "    // Sort the list in descending order\n",
    "    List<Integer> sortedList = new ArrayList<>(numbers);\n",
    "    Collections.sort(sortedList, Collections.reverseOrder());\n",
    "\n",
    "    // Return the second element\n",
    "    return sortedList.get(1);\n",
    "}"
   ]
  },
  {
   "cell_type": "code",
   "execution_count": 49,
   "metadata": {
    "vscode": {
     "languageId": "java"
    }
   },
   "outputs": [],
   "source": [
    "// public static Integer findSecondLargest(List<Integer> numbers) {\n",
    "//   // Implementation goes here\n",
    "// }\n",
    "\n",
    "// findSecondLargest(Arrays.asList(1, 2, 3, 4, 5));"
   ]
  },
  {
   "cell_type": "code",
   "execution_count": 50,
   "metadata": {
    "vscode": {
     "languageId": "java"
    }
   },
   "outputs": [
    {
     "name": "stdout",
     "output_type": "stream",
     "text": [
      "All tests passed!\n"
     ]
    }
   ],
   "source": [
    "// Test calls\n",
    "assert findSecondLargest(Arrays.asList(1, 2, 3, 4, 5)).equals(4);\n",
    "assert findSecondLargest(Arrays.asList(5, 4, 3, 2, 1)).equals(4);\n",
    "assert findSecondLargest(Arrays.asList(1, 1, 1, 1, 1)).equals(1);\n",
    "assert findSecondLargest(Arrays.asList(2, 1, 3, 4, 2)).equals(3);\n",
    "assert findSecondLargest(Arrays.asList(-1, -2, -3, -4, -5)).equals(-2);\n",
    "\n",
    "System.out.println(\"All tests passed!\");"
   ]
  },
  {
   "cell_type": "markdown",
   "metadata": {},
   "source": [
    "### Sort String Descending\n",
    "\n",
    "Sorts a string in descending order, where 'Z' comes first and 'A' comes last.\n",
    "\n",
    "**Args:**\n",
    "- input_string (str): The input string to be sorted.\n",
    "\n",
    "**Returns:**\n",
    "- str: The sorted string."
   ]
  },
  {
   "cell_type": "code",
   "execution_count": 51,
   "metadata": {
    "vscode": {
     "languageId": "java"
    }
   },
   "outputs": [],
   "source": [
    "public static String sortStringDescending(String inputString) {\n",
    "  char[] charArray = inputString.toCharArray();\n",
    "  Arrays.sort(charArray);\n",
    "  StringBuilder sb = new StringBuilder(new String(charArray));\n",
    "  return sb.reverse().toString();\n",
    "}"
   ]
  },
  {
   "cell_type": "code",
   "execution_count": 52,
   "metadata": {
    "vscode": {
     "languageId": "java"
    }
   },
   "outputs": [],
   "source": [
    "// public static String sortStringDescending(String inputString) {\n",
    "//   // Implementation goes here\n",
    "// }\n",
    "\n",
    "// sortStringDescending(\"HELLO\");"
   ]
  },
  {
   "cell_type": "code",
   "execution_count": 53,
   "metadata": {
    "vscode": {
     "languageId": "java"
    }
   },
   "outputs": [
    {
     "name": "stdout",
     "output_type": "stream",
     "text": [
      "All tests passed!\n"
     ]
    }
   ],
   "source": [
    "// Test calls\n",
    "assert sortStringDescending(\"ZYXWVUTSRQPONMLKJIHGFEDCBA\").equals(\"ZYXWVUTSRQPONMLKJIHGFEDCBA\");\n",
    "assert sortStringDescending(\"HELLO\").equals(\"OLLHE\");\n",
    "assert sortStringDescending(\"PYTHON\").equals(\"YTPONH\");\n",
    "assert sortStringDescending(\"ZAYX\").equals(\"ZYXA\");\n",
    "assert sortStringDescending(\"ABC\").equals(\"CBA\");\n",
    "\n",
    "System.out.println(\"All tests passed!\");"
   ]
  },
  {
   "cell_type": "markdown",
   "metadata": {},
   "source": [
    "### Binary to Decimal\n",
    "\n",
    "Converts a binary string to a decimal integer.\n",
    "\n",
    "**Args:**\n",
    "- binary_string (str): The binary string to convert.\n",
    "\n",
    "**Returns:**\n",
    "- int: The decimal equivalent of the binary string."
   ]
  },
  {
   "cell_type": "code",
   "execution_count": 54,
   "metadata": {
    "vscode": {
     "languageId": "java"
    }
   },
   "outputs": [],
   "source": [
    "public static int binaryToDecimal(String binaryString) {\n",
    "  return Integer.parseInt(binaryString, 2);\n",
    "}"
   ]
  },
  {
   "cell_type": "code",
   "execution_count": 55,
   "metadata": {
    "vscode": {
     "languageId": "java"
    }
   },
   "outputs": [],
   "source": [
    "// public static int binaryToDecimal(String binaryString) {\n",
    "//   // Implementation goes here\n",
    "// }\n",
    "\n",
    "// binaryToDecimal(\"1010\");"
   ]
  },
  {
   "cell_type": "code",
   "execution_count": 56,
   "metadata": {
    "vscode": {
     "languageId": "java"
    }
   },
   "outputs": [
    {
     "name": "stdout",
     "output_type": "stream",
     "text": [
      "All tests passed!\n"
     ]
    }
   ],
   "source": [
    "// Test calls\n",
    "assert binaryToDecimal(\"1010\") == 10;\n",
    "assert binaryToDecimal(\"1101\") == 13;\n",
    "assert binaryToDecimal(\"100\") == 4;\n",
    "assert binaryToDecimal(\"1111\") == 15;\n",
    "assert binaryToDecimal(\"0\") == 0;\n",
    "\n",
    "System.out.println(\"All tests passed!\");"
   ]
  },
  {
   "cell_type": "markdown",
   "metadata": {},
   "source": [
    "**Alternative approach:**"
   ]
  },
  {
   "cell_type": "code",
   "execution_count": 57,
   "metadata": {
    "vscode": {
     "languageId": "java"
    }
   },
   "outputs": [],
   "source": [
    "public static int binaryToDecimal(String binaryString) {\n",
    "  int decimalValue = 0;\n",
    "  int length = binaryString.length();\n",
    "\n",
    "  for (int i = 0; i < length; i++) {\n",
    "      // Get the current binary digit (0 or 1)\n",
    "      char bit = binaryString.charAt(length - 1 - i);\n",
    "      \n",
    "      // Convert the binary digit to an integer\n",
    "      int bitValue = bit - '0';  // '0' is 48 in ASCII, so subtracting it gives the numeric value\n",
    "      \n",
    "      // Calculate the place value (2^i) and add to the decimal value\n",
    "      decimalValue += bitValue * Math.pow(2, i);\n",
    "  }\n",
    "  \n",
    "  return decimalValue;\n",
    "}"
   ]
  },
  {
   "cell_type": "code",
   "execution_count": 58,
   "metadata": {
    "vscode": {
     "languageId": "java"
    }
   },
   "outputs": [],
   "source": [
    "// public static int binaryToDecimal(String binaryString) {\n",
    "//   // Implementation goes here\n",
    "// }\n",
    "\n",
    "// binaryToDecimal(\"1010\");"
   ]
  },
  {
   "cell_type": "code",
   "execution_count": 59,
   "metadata": {
    "vscode": {
     "languageId": "java"
    }
   },
   "outputs": [
    {
     "name": "stdout",
     "output_type": "stream",
     "text": [
      "All tests passed!\n"
     ]
    }
   ],
   "source": [
    "// Test calls\n",
    "assert binaryToDecimal(\"1010\") == 10;\n",
    "assert binaryToDecimal(\"1101\") == 13;\n",
    "assert binaryToDecimal(\"100\") == 4;\n",
    "assert binaryToDecimal(\"1111\") == 15;\n",
    "assert binaryToDecimal(\"0\") == 0;\n",
    "\n",
    "System.out.println(\"All tests passed!\");"
   ]
  }
 ],
 "metadata": {
  "kernelspec": {
   "display_name": "Java",
   "language": "java",
   "name": "java"
  },
  "language_info": {
   "codemirror_mode": "java",
   "file_extension": ".jshell",
   "mimetype": "text/x-java-source",
   "name": "Java",
   "pygments_lexer": "java",
   "version": "21.0.1+12-LTS-29"
  }
 },
 "nbformat": 4,
 "nbformat_minor": 2
}
