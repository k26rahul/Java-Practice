{
 "cells": [
  {
   "cell_type": "code",
   "execution_count": 209,
   "metadata": {
    "vscode": {
     "languageId": "java"
    }
   },
   "outputs": [],
   "source": [
    "static class CustomObject {\n",
    "  @Override\n",
    "  public String toString() {\n",
    "      return \">Beautiful custom object<\";\n",
    "  }\n",
    "}"
   ]
  },
  {
   "cell_type": "code",
   "execution_count": 210,
   "metadata": {
    "vscode": {
     "languageId": "java"
    }
   },
   "outputs": [
    {
     "name": "stdout",
     "output_type": "stream",
     "text": [
      "int\n",
      "class java.lang.Integer\n"
     ]
    }
   ],
   "source": [
    "System.out.println(int.class);\n",
    "System.out.println(Integer.class);"
   ]
  },
  {
   "cell_type": "code",
   "execution_count": 211,
   "metadata": {
    "vscode": {
     "languageId": "java"
    }
   },
   "outputs": [
    {
     "name": "stdout",
     "output_type": "stream",
     "text": [
      "class java.lang.String\n",
      "class java.lang.Character\n"
     ]
    }
   ],
   "source": [
    "System.out.println(\"\".getClass());\n",
    "System.out.println(new Character('f').getClass());\n",
    "\n",
    "// char c = 'a';\n",
    "// System.out.println(c.getClass());"
   ]
  },
  {
   "cell_type": "code",
   "execution_count": 212,
   "metadata": {
    "vscode": {
     "languageId": "java"
    }
   },
   "outputs": [
    {
     "name": "stdout",
     "output_type": "stream",
     "text": [
      "5\n",
      "class [Ljava.lang.Object;\n",
      "class java.lang.Integer\n",
      "\n",
      "1\n",
      "class [Ljava.lang.Object;\n",
      "class [I\n",
      "\n",
      "3\n",
      "class [Ljava.lang.String;\n",
      "class java.lang.String\n",
      "\n",
      "2\n",
      "class [LREPL.$JShell$78B$CustomObject;\n",
      "class REPL.$JShell$78B$CustomObject\n",
      "\n",
      "1\n",
      "class [Ljava.lang.Object;\n",
      "class java.util.Arrays$ArrayList\n",
      "\n"
     ]
    }
   ],
   "source": [
    "public static void print(Object... args) {\n",
    "  System.out.println(args.length);\n",
    "  System.out.println(args.getClass());\n",
    "  System.out.println(args[0].getClass());\n",
    "  System.out.println();\n",
    "}\n",
    "\n",
    "print(1, 2, 3, 4, 5);\n",
    "print(new int[]{1, 2, 3});\n",
    "print(new String[]{\"a\", \"b\", \"c\"});\n",
    "print(new CustomObject[]{new CustomObject(), new CustomObject()});\n",
    "print(Arrays.asList(new CustomObject(), new CustomObject()));"
   ]
  },
  {
   "cell_type": "code",
   "execution_count": 213,
   "metadata": {
    "vscode": {
     "languageId": "java"
    }
   },
   "outputs": [],
   "source": [
    "public static void print(Object... args) {\n",
    "  StringBuilder sb = new StringBuilder();\n",
    "\n",
    "  if (args.getClass().isArray() && args.getClass().getComponentType() != Object.class) {\n",
    "    System.out.println(Arrays.asList(args).toString());\n",
    "    return;\n",
    "  }\n",
    "\n",
    "  for (Object arg : args) {\n",
    "      sb.append(getStringRepresentation(arg)).append(\" \");\n",
    "  }\n",
    "\n",
    "  System.out.println(sb.toString().trim());\n",
    "}\n",
    "\n",
    "private static String getStringRepresentation(Object arg) {\n",
    "  if (arg.getClass().isArray()) {\n",
    "      Class<?> type = arg.getClass().getComponentType();\n",
    "      if (type.isPrimitive()) {\n",
    "          if (type == int.class) return Arrays.toString((int[]) arg);\n",
    "          if (type == double.class) return Arrays.toString((double[]) arg);\n",
    "          if (type == float.class) return Arrays.toString((float[]) arg);\n",
    "          if (type == long.class) return Arrays.toString((long[]) arg);\n",
    "          if (type == short.class) return Arrays.toString((short[]) arg);\n",
    "          if (type == byte.class) return Arrays.toString((byte[]) arg);\n",
    "          if (type == char.class) return Arrays.toString((char[]) arg);\n",
    "          if (type == boolean.class) return Arrays.toString((boolean[]) arg);\n",
    "      }\n",
    "      return Arrays.deepToString((Object[]) arg);\n",
    "  }\n",
    "  return arg.toString();\n",
    "}"
   ]
  },
  {
   "cell_type": "code",
   "execution_count": 214,
   "metadata": {
    "vscode": {
     "languageId": "java"
    }
   },
   "outputs": [
    {
     "name": "stdout",
     "output_type": "stream",
     "text": [
      "1 2 3 4 5\n",
      "Hello world this is Java\n",
      "42 Answer 3.14 true >Beautiful custom object<\n"
     ]
    }
   ],
   "source": [
    "print(1, 2, 3, 4, 5);\n",
    "print(\"Hello\", \"world\", \"this\", \"is\", \"Java\");\n",
    "print(42, \"Answer\", 3.14, true, new CustomObject());"
   ]
  },
  {
   "cell_type": "code",
   "execution_count": 215,
   "metadata": {
    "vscode": {
     "languageId": "java"
    }
   },
   "outputs": [
    {
     "name": "stdout",
     "output_type": "stream",
     "text": [
      "[1, 2, 3]\n",
      "[a, b, c]\n",
      "[true, false, true]\n",
      "[1.1, 2.2, 3.3]\n",
      "[1.1, 2.2, 3.3]\n",
      "[10000000000, 20000000000, 30000000000]\n",
      "[1000, 2000, 3000]\n",
      "[10, 20, 30]\n",
      "[1, 2, 3]\n",
      "[Hello, World]\n"
     ]
    }
   ],
   "source": [
    "print(new int[]{1, 2, 3});\n",
    "print(new char[]{'a', 'b', 'c'});\n",
    "print(new boolean[]{true, false, true});\n",
    "print(new double[]{1.1, 2.2, 3.3});\n",
    "print(new float[]{1.1f, 2.2f, 3.3f});\n",
    "print(new long[]{10000000000L, 20000000000L, 30000000000L});\n",
    "print(new short[]{1000, 2000, 3000});\n",
    "print(new byte[]{10, 20, 30});\n",
    "print(Arrays.asList(1, 2, 3));\n",
    "print(Arrays.asList(\"Hello\", \"World\"));"
   ]
  },
  {
   "cell_type": "code",
   "execution_count": 216,
   "metadata": {
    "vscode": {
     "languageId": "java"
    }
   },
   "outputs": [
    {
     "name": "stdout",
     "output_type": "stream",
     "text": [
      "[a, b, c]\n",
      "[a, b, c]\n",
      "[>Beautiful custom object<, >Beautiful custom object<]\n",
      "[>Beautiful custom object<, >Beautiful custom object<]\n"
     ]
    }
   ],
   "source": [
    "print(new String[]{\"a\", \"b\", \"c\"});\n",
    "print(Arrays.asList(new String[]{\"a\", \"b\", \"c\"}));\n",
    "\n",
    "print(new CustomObject[]{new CustomObject(), new CustomObject()});\n",
    "print(Arrays.asList(new CustomObject(), new CustomObject()));"
   ]
  },
  {
   "cell_type": "code",
   "execution_count": 217,
   "metadata": {
    "vscode": {
     "languageId": "java"
    }
   },
   "outputs": [
    {
     "name": "stdout",
     "output_type": "stream",
     "text": [
      "[a, b, c] [a, b, c]\n"
     ]
    },
    {
     "name": "stdout",
     "output_type": "stream",
     "text": [
      "[[Ljava.lang.String;@358869f5, [Ljava.lang.String;@708ae120]\n",
      "[[Ljava.lang.String;@4fd1a19e, [Ljava.lang.String;@41b0744c]\n"
     ]
    }
   ],
   "source": [
    "print(new String[]{\"a\", \"b\", \"c\"}, new String[]{\"a\", \"b\", \"c\"});\n",
    "print(Arrays.asList(new String[]{\"a\", \"b\", \"c\"}, new String[]{\"a\", \"b\", \"c\"}));\n",
    "print(new String[][] {new String[]{\"a\", \"b\", \"c\"}, new String[]{\"a\", \"b\", \"c\"}});"
   ]
  },
  {
   "cell_type": "code",
   "execution_count": 218,
   "metadata": {
    "vscode": {
     "languageId": "java"
    }
   },
   "outputs": [
    {
     "name": "stdout",
     "output_type": "stream",
     "text": [
      "[1, 2, 3] [1, 2, 3]\n",
      "[[I@37016a4e, [I@10a51e6f]\n",
      "[[I@52ba80b4, [I@10ea8cbb]\n"
     ]
    }
   ],
   "source": [
    "print(new int[]{1, 2, 3}, new int[]{1, 2, 3});\n",
    "print(Arrays.asList(new int[]{1, 2, 3}, new int[]{1, 2, 3}));\n",
    "print(new int[][] {new int[]{1, 2, 3}, new int[]{1, 2, 3}});"
   ]
  },
  {
   "cell_type": "code",
   "execution_count": 219,
   "metadata": {
    "vscode": {
     "languageId": "java"
    }
   },
   "outputs": [
    {
     "name": "stdout",
     "output_type": "stream",
     "text": [
      "[[1, 2], [3, [4, 5]], [6]]\n",
      "[[x, y, z], [false, true]]\n"
     ]
    }
   ],
   "source": [
    "print(Arrays.asList(\n",
    "    Arrays.asList(1, 2), \n",
    "    Arrays.asList(3, Arrays.asList(4, 5)), \n",
    "    Arrays.asList(6)\n",
    "));\n",
    "print(Arrays.asList(\n",
    "    Arrays.asList('x', 'y', 'z'),\n",
    "    Arrays.asList(false, true)\n",
    "));"
   ]
  }
 ],
 "metadata": {
  "kernelspec": {
   "display_name": "Java",
   "language": "java",
   "name": "java"
  },
  "language_info": {
   "codemirror_mode": "java",
   "file_extension": ".jshell",
   "mimetype": "text/x-java-source",
   "name": "Java",
   "pygments_lexer": "java",
   "version": "21.0.1+12-LTS-29"
  }
 },
 "nbformat": 4,
 "nbformat_minor": 2
}
