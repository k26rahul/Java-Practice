{
 "cells": [
  {
   "cell_type": "code",
   "execution_count": 13,
   "metadata": {},
   "outputs": [
    {
     "data": {
      "text/plain": [
       "'eetr'"
      ]
     },
     "execution_count": 13,
     "metadata": {},
     "output_type": "execute_result"
    },
    {
     "data": {
      "text/plain": [
       "'cccaaa'"
      ]
     },
     "execution_count": 13,
     "metadata": {},
     "output_type": "execute_result"
    },
    {
     "data": {
      "text/plain": [
       "'bbAa'"
      ]
     },
     "execution_count": 13,
     "metadata": {},
     "output_type": "execute_result"
    },
    {
     "data": {
      "text/plain": [
       "'eeeelloovtcd'"
      ]
     },
     "execution_count": 13,
     "metadata": {},
     "output_type": "execute_result"
    }
   ],
   "source": [
    "def frequencySort(string):\n",
    "  # https://leetcode.com/problems/sort-characters-by-frequency/submissions/1406295064/\n",
    "  freq = {}\n",
    "  for char in string:\n",
    "    freq[char] = freq.get(char, 0)+1\n",
    "\n",
    "  new_string = ''\n",
    "  for char in sorted(list(freq.keys()), key=freq.get, reverse=True):\n",
    "    new_string += char*freq[char]\n",
    "\n",
    "  return new_string\n",
    "\n",
    "\n",
    "frequencySort('tree')\n",
    "frequencySort('cccaaa')\n",
    "frequencySort('Aabb')\n",
    "frequencySort('loveleetcode')"
   ]
  },
  {
   "cell_type": "code",
   "execution_count": 59,
   "metadata": {},
   "outputs": [
    {
     "data": {
      "text/plain": [
       "0"
      ]
     },
     "execution_count": 59,
     "metadata": {},
     "output_type": "execute_result"
    },
    {
     "data": {
      "text/plain": [
       "-2147483648"
      ]
     },
     "execution_count": 59,
     "metadata": {},
     "output_type": "execute_result"
    },
    {
     "data": {
      "text/plain": [
       "42"
      ]
     },
     "execution_count": 59,
     "metadata": {},
     "output_type": "execute_result"
    },
    {
     "data": {
      "text/plain": [
       "-42"
      ]
     },
     "execution_count": 59,
     "metadata": {},
     "output_type": "execute_result"
    },
    {
     "data": {
      "text/plain": [
       "1337"
      ]
     },
     "execution_count": 59,
     "metadata": {},
     "output_type": "execute_result"
    },
    {
     "data": {
      "text/plain": [
       "0"
      ]
     },
     "execution_count": 59,
     "metadata": {},
     "output_type": "execute_result"
    },
    {
     "data": {
      "text/plain": [
       "0"
      ]
     },
     "execution_count": 59,
     "metadata": {},
     "output_type": "execute_result"
    }
   ],
   "source": [
    "def myAtoi(string: str):\n",
    "  # https://leetcode.com/problems/string-to-integer-atoi/submissions/1406320916/\n",
    "  integer = ''\n",
    "  sign = 'pending'\n",
    "\n",
    "  for char in string:\n",
    "    if char == ' ' and sign == 'pending':\n",
    "      continue\n",
    "\n",
    "    if char == '-' and sign == 'pending':\n",
    "      sign = 'negative'\n",
    "      continue\n",
    "\n",
    "    if char == '+' and sign == 'pending':\n",
    "      sign = 'positive'\n",
    "      continue\n",
    "\n",
    "    if not char.isdigit():\n",
    "      break\n",
    "\n",
    "    if sign == 'pending':\n",
    "      sign = 'positive'\n",
    "\n",
    "    integer += char\n",
    "\n",
    "  if integer == '':\n",
    "    integer = '0'\n",
    "\n",
    "  if sign == 'negative':\n",
    "    integer = '-' + integer\n",
    "\n",
    "  integer = int(integer)\n",
    "  INT_MIN = -2**31\n",
    "  INT_MAX = 2**31-1\n",
    "  if integer < INT_MIN:\n",
    "    integer = INT_MIN\n",
    "  if integer > INT_MAX:\n",
    "    integer = INT_MAX\n",
    "\n",
    "  return integer\n",
    "\n",
    "\n",
    "myAtoi('   +0 123')\n",
    "myAtoi('-91283472332')\n",
    "myAtoi('42')\n",
    "myAtoi('-042')\n",
    "myAtoi('1337c0d3')\n",
    "myAtoi('0-1')\n",
    "myAtoi('words and 987')"
   ]
  },
  {
   "cell_type": "code",
   "execution_count": 60,
   "metadata": {},
   "outputs": [
    {
     "data": {
      "text/plain": [
       "-2147483648"
      ]
     },
     "execution_count": 60,
     "metadata": {},
     "output_type": "execute_result"
    },
    {
     "data": {
      "text/plain": [
       "2147483647"
      ]
     },
     "execution_count": 60,
     "metadata": {},
     "output_type": "execute_result"
    },
    {
     "data": {
      "text/plain": [
       "True"
      ]
     },
     "execution_count": 60,
     "metadata": {},
     "output_type": "execute_result"
    }
   ],
   "source": [
    "INT_MIN = -2**31\n",
    "INT_MAX = 2**31-1\n",
    "INT_MIN\n",
    "INT_MAX\n",
    "-91283472332 < INT_MIN"
   ]
  },
  {
   "cell_type": "code",
   "execution_count": 2,
   "metadata": {},
   "outputs": [
    {
     "name": "stdout",
     "output_type": "stream",
     "text": [
      "deep 💎, distinct_count=1\n",
      "end=0, start=0\n",
      "deep 💎, distinct_count=2\n",
      "end=1, start=0\n",
      "deep 💎, distinct_count=3\n",
      "end=2, start=0\n",
      "deep 💎, distinct_count=4\n",
      "end=3, start=0\n",
      "deep 💎, distinct_count=5\n",
      "dope 😱, (-) distinct_count=4\n",
      "end=4, start=1\n",
      "deep 💎, distinct_count=5\n",
      "dope 😱, (-) distinct_count=4\n",
      "end=5, start=2\n",
      "deep 💎, distinct_count=5\n",
      "dope 😱, (-) distinct_count=4\n",
      "end=6, start=3\n",
      "deep 💎, distinct_count=5\n",
      "dope 😱, (-) distinct_count=4\n",
      "end=7, start=4\n"
     ]
    },
    {
     "data": {
      "text/plain": [
       "26"
      ]
     },
     "execution_count": 2,
     "metadata": {},
     "output_type": "execute_result"
    },
    {
     "name": "stdout",
     "output_type": "stream",
     "text": [
      "deep 💎, distinct_count=1\n",
      "end=0, start=0\n",
      "deep 💎, distinct_count=2\n",
      "end=1, start=0\n",
      "deep 💎, distinct_count=2\n",
      "end=2, start=0\n"
     ]
    },
    {
     "data": {
      "text/plain": [
       "6"
      ]
     },
     "execution_count": 2,
     "metadata": {},
     "output_type": "execute_result"
    },
    {
     "name": "stdout",
     "output_type": "stream",
     "text": [
      "deep 💎, distinct_count=1\n",
      "end=0, start=0\n",
      "deep 💎, distinct_count=2\n",
      "dope 😱, (-) distinct_count=1\n",
      "end=1, start=1\n",
      "deep 💎, distinct_count=2\n",
      "dope 😱, (-) distinct_count=1\n",
      "end=2, start=2\n",
      "deep 💎, distinct_count=1\n",
      "end=3, start=2\n",
      "deep 💎, distinct_count=2\n",
      "damn 😭, ( ) distinct_count=2\n",
      "dope 😱, (-) distinct_count=1\n",
      "end=4, start=4\n",
      "deep 💎, distinct_count=2\n",
      "dope 😱, (-) distinct_count=1\n",
      "end=5, start=5\n"
     ]
    },
    {
     "data": {
      "text/plain": [
       "7"
      ]
     },
     "execution_count": 2,
     "metadata": {},
     "output_type": "execute_result"
    }
   ],
   "source": [
    "class Solution:\n",
    "  # https://www.geeksforgeeks.org/problems/count-number-of-substrings4528/1\n",
    "  def atMostKDistinct(self, string: str, K: int) -> int:\n",
    "    from string import ascii_lowercase\n",
    "\n",
    "    if K <= 0:\n",
    "      return 0\n",
    "\n",
    "    start = 0  # left pointer of the sliding window\n",
    "    distinct_count = 0  # number of distinct characters in the current window\n",
    "    substring_count = 0  # result: total number of valid substrings\n",
    "    freq = {char: 0 for char in ascii_lowercase}  # to store occurrences of each character\n",
    "\n",
    "    for end in range(len(string)):  # right pointer of the sliding window\n",
    "      # include character at position `end` in the window\n",
    "      char = string[end]\n",
    "      if freq[char] == 0:\n",
    "        distinct_count += 1\n",
    "      freq[char] += 1\n",
    "\n",
    "      # shrink the window if there are more than `k` distinct characters\n",
    "      print(f'deep 💎, {distinct_count=}')\n",
    "      while distinct_count > K:\n",
    "        char = string[start]\n",
    "        freq[char] -= 1\n",
    "        if freq[char] == 0:\n",
    "          distinct_count -= 1\n",
    "          print(f'dope 😱, (-) {distinct_count=}')\n",
    "        else:\n",
    "          print(f'damn 😭, ( ) {distinct_count=}')\n",
    "        start += 1\n",
    "\n",
    "      print(f'{end=}, {start=}')\n",
    "\n",
    "      # add the number of valid substrings that end at `end`\n",
    "      substring_count += end - start + 1\n",
    "\n",
    "    return substring_count\n",
    "\n",
    "  def substrCount(self, string: str, K: int) -> int:\n",
    "    return self.atMostKDistinct(string, K)\n",
    "\n",
    "    # final answer ⚠️👇\n",
    "    return (self.atMostKDistinct(string, K) -\n",
    "            self.atMostKDistinct(string, K - 1))\n",
    "\n",
    "\n",
    "Solution().substrCount('abcdefgh', 4)\n",
    "Solution().substrCount('aba', 2)\n",
    "Solution().substrCount('abaaca', 1)"
   ]
  }
 ],
 "metadata": {
  "kernelspec": {
   "display_name": "Python 3",
   "language": "python",
   "name": "python3"
  },
  "language_info": {
   "codemirror_mode": {
    "name": "ipython",
    "version": 3
   },
   "file_extension": ".py",
   "mimetype": "text/x-python",
   "name": "python",
   "nbconvert_exporter": "python",
   "pygments_lexer": "ipython3",
   "version": "3.12.6"
  }
 },
 "nbformat": 4,
 "nbformat_minor": 2
}
