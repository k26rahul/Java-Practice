{
 "cells": [
  {
   "cell_type": "markdown",
   "metadata": {},
   "source": [
    "# Strings"
   ]
  },
  {
   "cell_type": "code",
   "execution_count": 35,
   "metadata": {
    "vscode": {
     "languageId": "java"
    }
   },
   "outputs": [
    {
     "name": "stdout",
     "output_type": "stream",
     "text": [
      "Hello, World!\n"
     ]
    }
   ],
   "source": [
    "// Print string\n",
    "String message = \"Hello, World!\";\n",
    "System.out.println(message);"
   ]
  },
  {
   "cell_type": "code",
   "execution_count": 61,
   "metadata": {
    "vscode": {
     "languageId": "java"
    }
   },
   "outputs": [
    {
     "name": "stdout",
     "output_type": "stream",
     "text": [
      "true\n",
      "false\n",
      "true\n",
      "true\n"
     ]
    }
   ],
   "source": [
    "// String equality check\n",
    "String s1 = \"hello\";\n",
    "String s2 = \"hello\";\n",
    "String s3 = new String(\"hello\");\n",
    "\n",
    "System.out.println(s1 == s2);    // true: same reference\n",
    "System.out.println(s1 == s3);    // false: different reference\n",
    "System.out.println(s1.equals(s2)); // true: same content\n",
    "System.out.println(s1.equals(s3)); // true: same content"
   ]
  },
  {
   "cell_type": "code",
   "execution_count": 62,
   "metadata": {
    "vscode": {
     "languageId": "java"
    }
   },
   "outputs": [
    {
     "name": "stdout",
     "output_type": "stream",
     "text": [
      "s1 reference code: 453811284\n"
     ]
    },
    {
     "name": "stdout",
     "output_type": "stream",
     "text": [
      "s2 reference code: 453811284\n",
      "s3 reference code: 558672746\n"
     ]
    }
   ],
   "source": [
    "System.out.println(\"s1 reference code: \" + System.identityHashCode(s1));\n",
    "System.out.println(\"s2 reference code: \" + System.identityHashCode(s2));\n",
    "System.out.println(\"s3 reference code: \" + System.identityHashCode(s3));"
   ]
  },
  {
   "cell_type": "code",
   "execution_count": 63,
   "metadata": {
    "vscode": {
     "languageId": "java"
    }
   },
   "outputs": [
    {
     "name": "stdout",
     "output_type": "stream",
     "text": [
      "e\n"
     ]
    }
   ],
   "source": [
    "// Indexing a character\n",
    "String message = \"hello\";\n",
    "char ch = message.charAt(1); // Get character at index 1 (e.g., 'e')\n",
    "System.out.println(ch);"
   ]
  },
  {
   "cell_type": "code",
   "execution_count": 64,
   "metadata": {
    "vscode": {
     "languageId": "java"
    }
   },
   "outputs": [
    {
     "name": "stdout",
     "output_type": "stream",
     "text": [
      "ell\n"
     ]
    }
   ],
   "source": [
    "// Slicing a string\n",
    "String message = \"hello\";\n",
    "String slice = message.substring(1, 4); // Get substring from index 1 to 3\n",
    "System.out.println(slice);"
   ]
  },
  {
   "cell_type": "code",
   "execution_count": 40,
   "metadata": {
    "vscode": {
     "languageId": "java"
    }
   },
   "outputs": [
    {
     "name": "stdout",
     "output_type": "stream",
     "text": [
      "h\n",
      "e\n",
      "l\n",
      "l\n",
      "o\n"
     ]
    }
   ],
   "source": [
    "// For loop\n",
    "String message = \"hello\";\n",
    "for (int i = 0; i < message.length(); i++) {\n",
    "    System.out.println(message.charAt(i));\n",
    "}"
   ]
  },
  {
   "cell_type": "code",
   "execution_count": 41,
   "metadata": {
    "vscode": {
     "languageId": "java"
    }
   },
   "outputs": [
    {
     "name": "stdout",
     "output_type": "stream",
     "text": [
      "h\n",
      "e\n",
      "l\n",
      "l\n",
      "o\n"
     ]
    }
   ],
   "source": [
    "// For-each loop\n",
    "String message = \"hello\";\n",
    "for (char ch : message.toCharArray()) {\n",
    "    System.out.println(ch);\n",
    "}"
   ]
  },
  {
   "cell_type": "code",
   "execution_count": 42,
   "metadata": {
    "vscode": {
     "languageId": "java"
    }
   },
   "outputs": [
    {
     "name": "stdout",
     "output_type": "stream",
     "text": [
      "HELLO, WORLD!\n",
      "hello, world!\n"
     ]
    }
   ],
   "source": [
    "// Case conversion\n",
    "String message = \"Hello, World!\";\n",
    "System.out.println(message.toUpperCase());\n",
    "System.out.println(message.toLowerCase());"
   ]
  },
  {
   "cell_type": "code",
   "execution_count": 43,
   "metadata": {
    "vscode": {
     "languageId": "java"
    }
   },
   "outputs": [
    {
     "name": "stdout",
     "output_type": "stream",
     "text": [
      "Hello, World!\n",
      "Hello, Java!\n",
      "true\n",
      "true\n",
      "true\n"
     ]
    }
   ],
   "source": [
    "// String methods\n",
    "String message = \"Hello, World!\";\n",
    "System.out.println(\" Hello, World! \".trim());\n",
    "System.out.println(message.replace(\"World\", \"Java\"));\n",
    "System.out.println(message.contains(\"Hello\"));\n",
    "System.out.println(message.startsWith(\"He\"));\n",
    "System.out.println(message.endsWith(\"!\"));"
   ]
  },
  {
   "cell_type": "code",
   "execution_count": 74,
   "metadata": {
    "vscode": {
     "languageId": "java"
    }
   },
   "outputs": [
    {
     "name": "stdout",
     "output_type": "stream",
     "text": [
      "[Hello, World, Java]\n",
      "Hello World Java\n"
     ]
    }
   ],
   "source": [
    "// Split\n",
    "String message = \"Hello,World,Java\";\n",
    "String[] parts = message.split(\",\");\n",
    "System.out.println(Arrays.toString(parts)); // Print array\n",
    "\n",
    "// Join\n",
    "String joinedMessage = String.join(\" \", parts);\n",
    "System.out.println(joinedMessage);"
   ]
  },
  {
   "cell_type": "code",
   "execution_count": 45,
   "metadata": {
    "vscode": {
     "languageId": "java"
    }
   },
   "outputs": [
    {
     "name": "stdout",
     "output_type": "stream",
     "text": [
      "A\n",
      "B\n"
     ]
    }
   ],
   "source": [
    "// Char to string\n",
    "char ch = 'A';\n",
    "String charToString = Character.toString(ch);\n",
    "System.out.println(charToString);\n",
    "\n",
    "// String to char\n",
    "String str = \"B\";\n",
    "char stringToChar = str.charAt(0);\n",
    "System.out.println(stringToChar);"
   ]
  },
  {
   "cell_type": "code",
   "execution_count": 80,
   "metadata": {
    "vscode": {
     "languageId": "java"
    }
   },
   "outputs": [
    {
     "name": "stdout",
     "output_type": "stream",
     "text": [
      "[h, e, l, l, o]\n",
      "hello\n"
     ]
    }
   ],
   "source": [
    "// String to char array\n",
    "String message = \"hello\";\n",
    "char[] charArray = message.toCharArray();\n",
    "System.out.println(Arrays.toString(charArray));\n",
    "\n",
    "// Char array to string\n",
    "String message = new String(charArray);\n",
    "System.out.println(message);"
   ]
  },
  {
   "cell_type": "code",
   "execution_count": 81,
   "metadata": {
    "vscode": {
     "languageId": "java"
    }
   },
   "outputs": [
    {
     "name": "stdout",
     "output_type": "stream",
     "text": [
      "olleh\n"
     ]
    }
   ],
   "source": [
    "// Reverse string\n",
    "String message = \"hello\";\n",
    "String reversed = new StringBuilder(message).reverse().toString();\n",
    "System.out.println(reversed);"
   ]
  },
  {
   "cell_type": "code",
   "execution_count": 82,
   "metadata": {
    "vscode": {
     "languageId": "java"
    }
   },
   "outputs": [
    {
     "name": "stdout",
     "output_type": "stream",
     "text": [
      "olleh\n"
     ]
    }
   ],
   "source": [
    "// Reverse string using loop\n",
    "String message = \"hello\";\n",
    "String reversed = \"\";\n",
    "for (int i = message.length() - 1; i >= 0; i--) {\n",
    "    reversed += message.charAt(i);\n",
    "}\n",
    "System.out.println(reversed);"
   ]
  },
  {
   "cell_type": "code",
   "execution_count": 83,
   "metadata": {
    "vscode": {
     "languageId": "java"
    }
   },
   "outputs": [
    {
     "name": "stdout",
     "output_type": "stream",
     "text": [
      "true\n"
     ]
    }
   ],
   "source": [
    "// Palindrome check using loop\n",
    "String message = \"racecar\";\n",
    "boolean isPalindrome = true;\n",
    "for (int i = 0; i < message.length() / 2; i++) {\n",
    "    if (message.charAt(i) != message.charAt(message.length() - 1 - i)) {\n",
    "        isPalindrome = false;\n",
    "        break;\n",
    "    }\n",
    "}\n",
    "System.out.println(isPalindrome);"
   ]
  },
  {
   "cell_type": "code",
   "execution_count": 84,
   "metadata": {
    "vscode": {
     "languageId": "java"
    }
   },
   "outputs": [
    {
     "name": "stdout",
     "output_type": "stream",
     "text": [
      "true\n"
     ]
    }
   ],
   "source": [
    "// Palindrome check using reversed string\n",
    "String message = \"racecar\";\n",
    "String reversed = new StringBuilder(message).reverse().toString();\n",
    "boolean isPalindrome = message.equals(reversed);\n",
    "System.out.println(isPalindrome);"
   ]
  },
  {
   "cell_type": "markdown",
   "metadata": {},
   "source": [
    "# Arrays"
   ]
  },
  {
   "cell_type": "code",
   "execution_count": 2,
   "metadata": {
    "vscode": {
     "languageId": "java"
    }
   },
   "outputs": [
    {
     "name": "stdout",
     "output_type": "stream",
     "text": [
      "[apple, banana, cherry]\n",
      "[1, 2, 3, 4, 5]\n",
      "[null, null, null]\n"
     ]
    }
   ],
   "source": [
    "// Create and print arrays\n",
    "String[] stringArray = {\"apple\", \"banana\", \"cherry\"};\n",
    "System.out.println(Arrays.toString(stringArray));\n",
    "\n",
    "int[] intArray = {1, 2, 3, 4, 5};\n",
    "System.out.println(Arrays.toString(intArray));\n",
    "\n",
    "String[] emptyStringArray = new String[3]; // Array of 3 null elements\n",
    "System.out.println(Arrays.toString(emptyStringArray));"
   ]
  },
  {
   "cell_type": "code",
   "execution_count": 20,
   "metadata": {
    "vscode": {
     "languageId": "java"
    }
   },
   "outputs": [
    {
     "name": "stdout",
     "output_type": "stream",
     "text": [
      "[Rahul👁️21, Sanika👁️20, CMD👁️19]\n"
     ]
    }
   ],
   "source": [
    "// Create and print an array of Student objects\n",
    "class Student {\n",
    "  String name;\n",
    "  int age;\n",
    "  Student(String name, int age) {\n",
    "      this.name = name;\n",
    "      this.age = age;\n",
    "  }\n",
    "  @Override\n",
    "  public String toString() {\n",
    "      return name + \"👁️\" + age;\n",
    "  }\n",
    "}\n",
    "\n",
    "Student[] studentArray = {\n",
    "  new Student(\"Rahul\", 21),\n",
    "  new Student(\"Sanika\", 20),\n",
    "  new Student(\"CMD\", 19),\n",
    "};\n",
    "System.out.println(Arrays.toString(studentArray));"
   ]
  }
 ],
 "metadata": {
  "kernelspec": {
   "display_name": "Java",
   "language": "java",
   "name": "java"
  },
  "language_info": {
   "codemirror_mode": "java",
   "file_extension": ".jshell",
   "mimetype": "text/x-java-source",
   "name": "Java",
   "pygments_lexer": "java",
   "version": "21.0.1+12-LTS-29"
  }
 },
 "nbformat": 4,
 "nbformat_minor": 2
}
