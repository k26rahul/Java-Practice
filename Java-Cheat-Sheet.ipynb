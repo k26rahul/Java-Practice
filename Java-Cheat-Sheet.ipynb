{
 "cells": [
  {
   "cell_type": "markdown",
   "metadata": {},
   "source": [
    "# Helper methods"
   ]
  },
  {
   "cell_type": "code",
   "execution_count": 1,
   "metadata": {
    "vscode": {
     "languageId": "java"
    }
   },
   "outputs": [
    {
     "name": "stdout",
     "output_type": "stream",
     "text": [
      "7\n"
     ]
    }
   ],
   "source": [
    "%classpath add jar \"./lib/Helpers.jar\";\n",
    "import static Helpers.Helpers.print;\n",
    "\n",
    "print(7);"
   ]
  },
  {
   "cell_type": "markdown",
   "metadata": {},
   "source": [
    "# Strings"
   ]
  },
  {
   "cell_type": "code",
   "execution_count": 2,
   "metadata": {
    "vscode": {
     "languageId": "java"
    }
   },
   "outputs": [
    {
     "name": "stdout",
     "output_type": "stream",
     "text": [
      "hello\n",
      "5\n",
      "e\n"
     ]
    }
   ],
   "source": [
    "String message = \"hello\";\n",
    "print(message);\n",
    "print(message.length());\n",
    "print(message.charAt(1));"
   ]
  },
  {
   "cell_type": "code",
   "execution_count": 3,
   "metadata": {
    "vscode": {
     "languageId": "java"
    }
   },
   "outputs": [
    {
     "name": "stdout",
     "output_type": "stream",
     "text": [
      "true\n",
      "false\n"
     ]
    }
   ],
   "source": [
    "print(message == \"hello\");\n",
    "print(message == new String(\"hello\"));"
   ]
  },
  {
   "cell_type": "code",
   "execution_count": 4,
   "metadata": {
    "vscode": {
     "languageId": "java"
    }
   },
   "outputs": [
    {
     "name": "stdout",
     "output_type": "stream",
     "text": [
      "true\n",
      "true\n"
     ]
    }
   ],
   "source": [
    "print(message.equals(\"hello\"));\n",
    "print(message.equals(new String(\"hello\")));"
   ]
  },
  {
   "cell_type": "code",
   "execution_count": 5,
   "metadata": {
    "vscode": {
     "languageId": "java"
    }
   },
   "outputs": [
    {
     "name": "stdout",
     "output_type": "stream",
     "text": [
      "HELLO\n",
      "ell\n",
      "1\n",
      "hallo\n"
     ]
    }
   ],
   "source": [
    "print(message.toUpperCase());\n",
    "print(message.substring(1, 4));\n",
    "print(message.indexOf('e'));\n",
    "print(message.replace('e', 'a'));"
   ]
  },
  {
   "cell_type": "code",
   "execution_count": 6,
   "metadata": {
    "vscode": {
     "languageId": "java"
    }
   },
   "outputs": [
    {
     "name": "stdout",
     "output_type": "stream",
     "text": [
      "true\n",
      "true\n",
      "true\n"
     ]
    }
   ],
   "source": [
    "print(message.contains(\"ll\"));\n",
    "print(message.endsWith(\"o\"));\n",
    "print(message.startsWith(\"he\"));"
   ]
  },
  {
   "cell_type": "code",
   "execution_count": 7,
   "metadata": {
    "vscode": {
     "languageId": "java"
    }
   },
   "outputs": [
    {
     "name": "stdout",
     "output_type": "stream",
     "text": [
      "    Hello   \n",
      "Hello\n"
     ]
    }
   ],
   "source": [
    "System.out.println(\"    Hello   \");\n",
    "System.out.println(\"    Hello   \".trim());"
   ]
  },
  {
   "cell_type": "code",
   "execution_count": 8,
   "metadata": {
    "vscode": {
     "languageId": "java"
    }
   },
   "outputs": [
    {
     "name": "stdout",
     "output_type": "stream",
     "text": [
      "true\n",
      "false\n",
      "true\n",
      "true\n"
     ]
    }
   ],
   "source": [
    "// String equality check\n",
    "String s1 = \"hello\";\n",
    "String s2 = \"hello\";\n",
    "String s3 = new String(\"hello\");\n",
    "\n",
    "print(s1 == s2);    // true: same reference\n",
    "print(s1 == s3);    // false: different reference\n",
    "print(s1.equals(s2)); // true: same content\n",
    "print(s1.equals(s3)); // true: same content"
   ]
  },
  {
   "cell_type": "code",
   "execution_count": 9,
   "metadata": {
    "vscode": {
     "languageId": "java"
    }
   },
   "outputs": [
    {
     "name": "stdout",
     "output_type": "stream",
     "text": [
      "s1 reference code: 923227528\n",
      "s2 reference code: 923227528\n",
      "s3 reference code: 292880275\n"
     ]
    }
   ],
   "source": [
    "print(\"s1 reference code: \" + System.identityHashCode(s1));\n",
    "print(\"s2 reference code: \" + System.identityHashCode(s2));\n",
    "print(\"s3 reference code: \" + System.identityHashCode(s3));"
   ]
  },
  {
   "cell_type": "code",
   "execution_count": 10,
   "metadata": {
    "vscode": {
     "languageId": "java"
    }
   },
   "outputs": [
    {
     "name": "stdout",
     "output_type": "stream",
     "text": [
      "h\n",
      "e\n",
      "l\n",
      "l\n",
      "o\n",
      "\n",
      "h\n",
      "e\n",
      "l\n",
      "l\n",
      "o\n"
     ]
    }
   ],
   "source": [
    "// For loop\n",
    "String message = \"hello\";\n",
    "for (int i = 0; i < message.length(); i++) {\n",
    "    print(message.charAt(i));\n",
    "}\n",
    "\n",
    "print();\n",
    "\n",
    "// For-each loop\n",
    "String message = \"hello\";\n",
    "for (char ch : message.toCharArray()) {\n",
    "  print(ch);\n",
    "}"
   ]
  },
  {
   "cell_type": "code",
   "execution_count": 11,
   "metadata": {
    "vscode": {
     "languageId": "java"
    }
   },
   "outputs": [
    {
     "name": "stdout",
     "output_type": "stream",
     "text": [
      "[Hello, World, Java]\n",
      "Hello World Java\n"
     ]
    }
   ],
   "source": [
    "// Split\n",
    "String message = \"Hello,World,Java\";\n",
    "String[] parts = message.split(\",\");\n",
    "print(Arrays.toString(parts));\n",
    "\n",
    "// Join\n",
    "print(String.join(\" \", parts));"
   ]
  },
  {
   "cell_type": "code",
   "execution_count": 12,
   "metadata": {
    "vscode": {
     "languageId": "java"
    }
   },
   "outputs": [
    {
     "name": "stdout",
     "output_type": "stream",
     "text": [
      "A\n",
      "B\n"
     ]
    }
   ],
   "source": [
    "// Char to string\n",
    "char ch = 'A';\n",
    "print(Character.toString(ch));\n",
    "\n",
    "// String to char\n",
    "String str = \"B\";\n",
    "print(str.charAt(0));"
   ]
  },
  {
   "cell_type": "code",
   "execution_count": 13,
   "metadata": {
    "vscode": {
     "languageId": "java"
    }
   },
   "outputs": [
    {
     "name": "stdout",
     "output_type": "stream",
     "text": [
      "[h, e, l, l, o]\n",
      "hello\n"
     ]
    }
   ],
   "source": [
    "// String to char array\n",
    "String message = \"hello\";\n",
    "char[] charArray = message.toCharArray();\n",
    "print(Arrays.toString(charArray));\n",
    "\n",
    "// Char array to string\n",
    "String message = new String(charArray);\n",
    "print(message);"
   ]
  },
  {
   "cell_type": "code",
   "execution_count": 14,
   "metadata": {
    "vscode": {
     "languageId": "java"
    }
   },
   "outputs": [
    {
     "name": "stdout",
     "output_type": "stream",
     "text": [
      "olleh\n"
     ]
    }
   ],
   "source": [
    "// Reverse string\n",
    "String reversed = new StringBuilder(\"hello\").reverse().toString();\n",
    "print(reversed);"
   ]
  },
  {
   "cell_type": "markdown",
   "metadata": {},
   "source": [
    "# Arrays"
   ]
  },
  {
   "cell_type": "code",
   "execution_count": 15,
   "metadata": {
    "vscode": {
     "languageId": "java"
    }
   },
   "outputs": [
    {
     "name": "stdout",
     "output_type": "stream",
     "text": [
      "[1, 2, 3, 4, 5]\n",
      "[0, 0, 0, 0, 0]\n"
     ]
    }
   ],
   "source": [
    "int[] array = {1, 2, 3, 4, 5};\n",
    "print(array);\n",
    "\n",
    "int[] array = new int[5];\n",
    "print(array);"
   ]
  },
  {
   "cell_type": "code",
   "execution_count": 16,
   "metadata": {
    "vscode": {
     "languageId": "java"
    }
   },
   "outputs": [
    {
     "name": "stdout",
     "output_type": "stream",
     "text": [
      "[>Bad boys<, >Bad boys<, >Bad boys<]\n"
     ]
    }
   ],
   "source": [
    "class Student {\n",
    "  @Override\n",
    "  public String toString() {\n",
    "      return \">Bad boys<\";\n",
    "  }\n",
    "}\n",
    "\n",
    "Student[] studentArray = {new Student(), new Student(), new Student()};\n",
    "print(studentArray);"
   ]
  },
  {
   "cell_type": "code",
   "execution_count": 17,
   "metadata": {
    "vscode": {
     "languageId": "java"
    }
   },
   "outputs": [
    {
     "name": "stdout",
     "output_type": "stream",
     "text": [
      "[1, 2, 3]\n",
      "6\n",
      "OptionalInt[3]\n",
      "OptionalInt[1]\n",
      "OptionalDouble[2.0]\n",
      "2.0\n"
     ]
    }
   ],
   "source": [
    "int[] numbers = {1, 2, 3};\n",
    "print(numbers);\n",
    "print(Arrays.stream(numbers).sum());\n",
    "print(Arrays.stream(numbers).max());\n",
    "print(Arrays.stream(numbers).min());\n",
    "print(Arrays.stream(numbers).average());\n",
    "print(Arrays.stream(numbers).average().getAsDouble());"
   ]
  },
  {
   "cell_type": "markdown",
   "metadata": {},
   "source": [
    "# Collections"
   ]
  },
  {
   "cell_type": "code",
   "execution_count": 18,
   "metadata": {
    "vscode": {
     "languageId": "java"
    }
   },
   "outputs": [
    {
     "name": "stdout",
     "output_type": "stream",
     "text": [
      "[a, b, c]\n",
      "3\n",
      "true\n",
      "b\n"
     ]
    }
   ],
   "source": [
    "List<String> list = Arrays.asList(\"a\", \"b\", \"c\");\n",
    "print(list);\n",
    "print(list.size());\n",
    "print(list.contains(\"b\"));\n",
    "print(list.get(1));"
   ]
  }
 ],
 "metadata": {
  "kernelspec": {
   "display_name": "Java",
   "language": "java",
   "name": "java"
  },
  "language_info": {
   "codemirror_mode": "java",
   "file_extension": ".jshell",
   "mimetype": "text/x-java-source",
   "name": "Java",
   "pygments_lexer": "java",
   "version": "21.0.1+12-LTS-29"
  }
 },
 "nbformat": 4,
 "nbformat_minor": 2
}
