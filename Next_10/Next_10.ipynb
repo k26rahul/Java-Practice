{
 "cells": [
  {
   "cell_type": "markdown",
   "metadata": {},
   "source": [
    "😈 **String Manipulation:**\n",
    "\n",
    "1. **Check for Anagram:**\n",
    "   - _Create a function to check if two given strings are anagrams of each other._\n",
    "   \n",
    "2. **Find First Non-Repeating Character:**\n",
    "   - _Create a function to find the first non-repeating character in a given string._\n",
    "\n",
    "3. **Check if String Contains Only Unique Characters:**\n",
    "   - _Create a function to check if a given string contains only unique characters (no duplicates)._\n",
    "\n",
    "4. **Reverse the Words in a Sentence:**\n",
    "   - _Create a function to reverse the order of words in a given sentence._\n",
    "\n",
    "\n",
    "😈 **Mathematics:**\n",
    "\n",
    "1. **Check if Number is Prime:**\n",
    "   - _Create a function to check if a given number is a prime number._\n",
    "\n",
    "2. **Generate Fibonacci Sequence:**\n",
    "   - _Create a function to generate the first N numbers of the Fibonacci sequence._\n",
    "\n",
    "\n",
    "😈 **List and Array Operations:**\n",
    "\n",
    "7. **Find Missing Number in Sequence:**\n",
    "   - _Create a function to find the missing number in a list of consecutive numbers._\n",
    "\n",
    "8. **Find the Most Frequent Element in a List:**\n",
    "   - _Create a function to find the most frequently occurring element in a list._\n",
    "\n",
    "9. **Sum of All Even Numbers in a List:**\n",
    "   - _Create a function to calculate the sum of all even numbers in a given list._\n",
    "\n",
    "10. **Find All Pairs that Sum to a Target:**\n",
    "    - _Create a function to find all pairs of numbers in a list that add up to a given target sum._"
   ]
  },
  {
   "cell_type": "markdown",
   "metadata": {},
   "source": [
    "### Check for Anagram\n",
    "\n",
    "Checks if two input strings are anagrams of each other.\n",
    "\n",
    "**Args:**\n",
    "\n",
    "- str1 (String): The first string.\n",
    "- str2 (String): The second string.\n",
    "\n",
    "**Returns:**\n",
    "\n",
    "- boolean: `true` if the two strings are anagrams, `false` otherwise."
   ]
  },
  {
   "cell_type": "code",
   "execution_count": 1,
   "metadata": {
    "vscode": {
     "languageId": "java"
    }
   },
   "outputs": [],
   "source": [
    "public static boolean checkAnagram(String str1, String str2) {\n",
    "  char[] arr1 = str1.toCharArray();\n",
    "  char[] arr2 = str2.toCharArray();\n",
    "  java.util.Arrays.sort(arr1);\n",
    "  java.util.Arrays.sort(arr2);\n",
    "  return java.util.Arrays.equals(arr1, arr2);\n",
    "}"
   ]
  },
  {
   "cell_type": "code",
   "execution_count": 2,
   "metadata": {
    "vscode": {
     "languageId": "java"
    }
   },
   "outputs": [],
   "source": [
    "// public static boolean checkAnagram(String str1, String str2) {\n",
    "//     // Implementation goes here\n",
    "// }\n",
    "\n",
    "// checkAnagram(\"listen\", \"silent\");"
   ]
  },
  {
   "cell_type": "code",
   "execution_count": 3,
   "metadata": {
    "vscode": {
     "languageId": "java"
    }
   },
   "outputs": [
    {
     "name": "stdout",
     "output_type": "stream",
     "text": [
      "All tests passed!\n"
     ]
    }
   ],
   "source": [
    "// Test calls\n",
    "assert checkAnagram(\"listen\", \"silent\");\n",
    "assert checkAnagram(\"triangle\", \"integral\");\n",
    "assert !checkAnagram(\"apple\", \"pale\");\n",
    "assert !checkAnagram(\"hello\", \"world\");\n",
    "\n",
    "System.out.println(\"All tests passed!\");"
   ]
  },
  {
   "cell_type": "markdown",
   "metadata": {},
   "source": [
    "### Find First Non-Repeating Character\n",
    "\n",
    "Finds the first non-repeating character in a given string.\n",
    "\n",
    "**Args:**\n",
    "\n",
    "- inputString (String): The input string.\n",
    "\n",
    "**Returns:**\n",
    "\n",
    "- char: The first non-repeating character.\n",
    "- If no such character exists, return a special value like `'\\0'`."
   ]
  },
  {
   "cell_type": "code",
   "execution_count": 4,
   "metadata": {
    "vscode": {
     "languageId": "java"
    }
   },
   "outputs": [],
   "source": [
    "public static char findFirstNonRepeatingChar(String inputString) {\n",
    "  java.util.Map<Character, Integer> charCount = new java.util.HashMap<>();\n",
    "  for (char c : inputString.toCharArray()) {\n",
    "      charCount.put(c, charCount.getOrDefault(c, 0) + 1);\n",
    "  }\n",
    "  for (char c : inputString.toCharArray()) {\n",
    "      if (charCount.get(c) == 1) {\n",
    "          return c;\n",
    "      }\n",
    "  }\n",
    "  return '\\0'; // Return null character if no non-repeating char exists\n",
    "}"
   ]
  },
  {
   "cell_type": "code",
   "execution_count": 5,
   "metadata": {
    "vscode": {
     "languageId": "java"
    }
   },
   "outputs": [],
   "source": [
    "// public static char findFirstNonRepeatingChar(String inputString) {\n",
    "//     // Implementation goes here\n",
    "// }\n",
    "\n",
    "// findFirstNonRepeatingChar(\"swiss\");"
   ]
  },
  {
   "cell_type": "code",
   "execution_count": 6,
   "metadata": {
    "vscode": {
     "languageId": "java"
    }
   },
   "outputs": [
    {
     "name": "stdout",
     "output_type": "stream",
     "text": [
      "All tests passed!\n"
     ]
    }
   ],
   "source": [
    "// Test calls\n",
    "assert findFirstNonRepeatingChar(\"swiss\") == 'w';\n",
    "assert findFirstNonRepeatingChar(\"apple\") == 'a';\n",
    "assert findFirstNonRepeatingChar(\"racecar\") == 'e';\n",
    "assert findFirstNonRepeatingChar(\"aabbcc\") == '\\0';\n",
    "\n",
    "System.out.println(\"All tests passed!\");"
   ]
  },
  {
   "cell_type": "markdown",
   "metadata": {},
   "source": [
    "### Check if Number is Prime\n",
    "\n",
    "Checks if a given number is a prime number.\n",
    "\n",
    "**Args:**\n",
    "\n",
    "- number (int): The number to check.\n",
    "\n",
    "**Returns:**\n",
    "\n",
    "- boolean: `true` if the number is prime, `false` otherwise."
   ]
  },
  {
   "cell_type": "code",
   "execution_count": 7,
   "metadata": {
    "vscode": {
     "languageId": "java"
    }
   },
   "outputs": [],
   "source": [
    "public static boolean isPrime(int number) {\n",
    "  if (number <= 1) return false;\n",
    "  for (int i = 2; i <= Math.sqrt(number); i++) {\n",
    "      if (number % i == 0) return false;\n",
    "  }\n",
    "  return true;\n",
    "}"
   ]
  },
  {
   "cell_type": "code",
   "execution_count": 8,
   "metadata": {
    "vscode": {
     "languageId": "java"
    }
   },
   "outputs": [],
   "source": [
    "// public static boolean isPrime(int number) {\n",
    "//     // Implementation goes here\n",
    "// }\n",
    "\n",
    "// isPrime(7);"
   ]
  },
  {
   "cell_type": "code",
   "execution_count": 9,
   "metadata": {
    "vscode": {
     "languageId": "java"
    }
   },
   "outputs": [
    {
     "name": "stdout",
     "output_type": "stream",
     "text": [
      "All tests passed!\n"
     ]
    }
   ],
   "source": [
    "// Test calls\n",
    "assert isPrime(7);\n",
    "assert !isPrime(10);\n",
    "assert isPrime(13);\n",
    "assert !isPrime(1);\n",
    "assert isPrime(2);\n",
    "\n",
    "System.out.println(\"All tests passed!\");"
   ]
  },
  {
   "cell_type": "markdown",
   "metadata": {},
   "source": [
    "### Check if String Contains Only Unique Characters\n",
    "\n",
    "Checks if a given string contains only unique characters (no duplicates).\n",
    "\n",
    "**Args:**\n",
    "\n",
    "- inputString (String): The input string.\n",
    "\n",
    "**Returns:**\n",
    "\n",
    "- boolean: `true` if the string contains only unique characters, `false` otherwise."
   ]
  },
  {
   "cell_type": "code",
   "execution_count": 10,
   "metadata": {
    "vscode": {
     "languageId": "java"
    }
   },
   "outputs": [],
   "source": [
    "public static boolean hasUniqueCharacters(String inputString) {\n",
    "  java.util.Set<Character> charSet = new java.util.HashSet<>();\n",
    "  for (char c : inputString.toCharArray()) {\n",
    "      if (charSet.contains(c)) {\n",
    "          return false;\n",
    "      }\n",
    "      charSet.add(c);\n",
    "  }\n",
    "  return true;\n",
    "}"
   ]
  },
  {
   "cell_type": "code",
   "execution_count": 11,
   "metadata": {
    "vscode": {
     "languageId": "java"
    }
   },
   "outputs": [],
   "source": [
    "// public static boolean hasUniqueCharacters(String inputString) {\n",
    "//     // Implementation goes here\n",
    "// }\n",
    "\n",
    "// hasUniqueCharacters(\"abcdef\");"
   ]
  },
  {
   "cell_type": "code",
   "execution_count": 12,
   "metadata": {
    "vscode": {
     "languageId": "java"
    }
   },
   "outputs": [
    {
     "name": "stdout",
     "output_type": "stream",
     "text": [
      "All tests passed!\n"
     ]
    }
   ],
   "source": [
    "// Test calls\n",
    "assert hasUniqueCharacters(\"abcdef\");\n",
    "assert !hasUniqueCharacters(\"hello\");\n",
    "assert hasUniqueCharacters(\"world\");\n",
    "assert !hasUniqueCharacters(\"java\");\n",
    "\n",
    "System.out.println(\"All tests passed!\");"
   ]
  },
  {
   "cell_type": "markdown",
   "metadata": {},
   "source": [
    "### Reverse the Words in a Sentence\n",
    "\n",
    "Reverses the order of words in a given sentence.\n",
    "\n",
    "**Args:**\n",
    "\n",
    "- sentence (String): The sentence to be reversed.\n",
    "\n",
    "**Returns:**\n",
    "\n",
    "- String: The sentence with the words in reverse order."
   ]
  },
  {
   "cell_type": "code",
   "execution_count": 13,
   "metadata": {
    "vscode": {
     "languageId": "java"
    }
   },
   "outputs": [],
   "source": [
    "public static String reverseWords(String sentence) {\n",
    "  String[] words = sentence.split(\" \");\n",
    "  StringBuilder reversedSentence = new StringBuilder();\n",
    "  for (int i = words.length - 1; i >= 0; i--) {\n",
    "      reversedSentence.append(words[i]);\n",
    "      if (i != 0) {\n",
    "          reversedSentence.append(\" \");\n",
    "      }\n",
    "  }\n",
    "  return reversedSentence.toString();\n",
    "}"
   ]
  },
  {
   "cell_type": "code",
   "execution_count": 14,
   "metadata": {
    "vscode": {
     "languageId": "java"
    }
   },
   "outputs": [],
   "source": [
    "// public static String reverseWords(String sentence) {\n",
    "//     // Implementation goes here\n",
    "// }\n",
    "\n",
    "// reverseWords(\"Hello world\");"
   ]
  },
  {
   "cell_type": "code",
   "execution_count": 15,
   "metadata": {
    "vscode": {
     "languageId": "java"
    }
   },
   "outputs": [
    {
     "name": "stdout",
     "output_type": "stream",
     "text": [
      "All tests passed!\n"
     ]
    }
   ],
   "source": [
    "// Test calls\n",
    "assert reverseWords(\"Hello world\").equals(\"world Hello\");\n",
    "assert reverseWords(\"Java is fun\").equals(\"fun is Java\");\n",
    "assert reverseWords(\"Practice makes perfect\").equals(\"perfect makes Practice\");\n",
    "assert reverseWords(\"a b c d\").equals(\"d c b a\");\n",
    "\n",
    "System.out.println(\"All tests passed!\");"
   ]
  },
  {
   "cell_type": "markdown",
   "metadata": {},
   "source": [
    "### Find Missing Number in Sequence\n",
    "\n",
    "Finds the missing number in a list of consecutive numbers with one number missing. The numbers can be in any order.\n",
    "\n",
    "**Args:**\n",
    "\n",
    "- numbers (int[]): The list of consecutive numbers with one missing.\n",
    "\n",
    "**Returns:**\n",
    "\n",
    "- int: The missing number."
   ]
  },
  {
   "cell_type": "code",
   "execution_count": 16,
   "metadata": {
    "vscode": {
     "languageId": "java"
    }
   },
   "outputs": [],
   "source": [
    "public static int findMissingNumber(int[] numbers) {\n",
    "  int n = numbers.length + 1;\n",
    "  int totalSum = n * (n + 1) / 2;\n",
    "  int currentSum = 0;\n",
    "  for (int number : numbers) {\n",
    "      currentSum += number;\n",
    "  }\n",
    "  return totalSum - currentSum;\n",
    "}"
   ]
  },
  {
   "cell_type": "code",
   "execution_count": 17,
   "metadata": {
    "vscode": {
     "languageId": "java"
    }
   },
   "outputs": [],
   "source": [
    "// public static int findMissingNumber(int[] numbers) {\n",
    "//     // Implementation goes here\n",
    "// }\n",
    "\n",
    "// findMissingNumber(new int[]{1, 2, 4, 5, 6});"
   ]
  },
  {
   "cell_type": "code",
   "execution_count": 18,
   "metadata": {
    "vscode": {
     "languageId": "java"
    }
   },
   "outputs": [
    {
     "name": "stdout",
     "output_type": "stream",
     "text": [
      "All tests passed!\n"
     ]
    }
   ],
   "source": [
    "// Test calls\n",
    "assert findMissingNumber(new int[]{1, 2, 4, 5, 6}) == 3;\n",
    "assert findMissingNumber(new int[]{3, 7, 1, 2, 8, 4, 5}) == 6;\n",
    "assert findMissingNumber(new int[]{10, 11, 12, 14, 15}) == 13;\n",
    "assert findMissingNumber(new int[]{5, 3, 2, 1}) == 4;\n",
    "\n",
    "System.out.println(\"All tests passed!\");"
   ]
  },
  {
   "cell_type": "markdown",
   "metadata": {},
   "source": [
    "### Find the Most Frequent Element in a List\n",
    "\n",
    "Finds the most frequently occurring element in a given list.\n",
    "\n",
    "**Args:**\n",
    "\n",
    "- list (int[]): The list of integers.\n",
    "\n",
    "**Returns:**\n",
    "\n",
    "- int: The most frequently occurring element in the list."
   ]
  },
  {
   "cell_type": "code",
   "execution_count": 19,
   "metadata": {
    "vscode": {
     "languageId": "java"
    }
   },
   "outputs": [],
   "source": [
    "public static int findMostFrequentElement(int[] list) {\n",
    "  java.util.Map<Integer, Integer> frequencyMap = new java.util.HashMap<>();\n",
    "  for (int num : list) {\n",
    "      frequencyMap.put(num, frequencyMap.getOrDefault(num, 0) + 1);\n",
    "  }\n",
    "  int mostFrequent = list[0];\n",
    "  int maxCount = 0;\n",
    "  for (java.util.Map.Entry<Integer, Integer> entry : frequencyMap.entrySet()) {\n",
    "      if (entry.getValue() > maxCount) {\n",
    "          mostFrequent = entry.getKey();\n",
    "          maxCount = entry.getValue();\n",
    "      }\n",
    "  }\n",
    "  return mostFrequent;\n",
    "}"
   ]
  },
  {
   "cell_type": "code",
   "execution_count": 20,
   "metadata": {
    "vscode": {
     "languageId": "java"
    }
   },
   "outputs": [],
   "source": [
    "// public static int findMostFrequentElement(int[] list) {\n",
    "//     // Implementation goes here\n",
    "// }\n",
    "\n",
    "// findMostFrequentElement(new int[]{1, 2, 2, 3, 3, 3});"
   ]
  },
  {
   "cell_type": "code",
   "execution_count": 21,
   "metadata": {
    "vscode": {
     "languageId": "java"
    }
   },
   "outputs": [
    {
     "name": "stdout",
     "output_type": "stream",
     "text": [
      "All tests passed!\n"
     ]
    }
   ],
   "source": [
    "// Test calls\n",
    "assert findMostFrequentElement(new int[]{1, 2, 2, 3, 3, 3}) == 3;\n",
    "assert findMostFrequentElement(new int[]{4, 4, 5, 6, 4, 6, 6}) == 4;\n",
    "assert findMostFrequentElement(new int[]{7, 8, 8, 8, 9, 9}) == 8;\n",
    "assert findMostFrequentElement(new int[]{10, 11, 12, 13, 14, 15}) == 10;\n",
    "\n",
    "System.out.println(\"All tests passed!\");"
   ]
  },
  {
   "cell_type": "markdown",
   "metadata": {},
   "source": [
    "### Sum of All Even Numbers in a List\n",
    "\n",
    "Calculates the sum of all even numbers in a given list.\n",
    "\n",
    "**Args:**\n",
    "\n",
    "- list (int[]): The list of integers.\n",
    "\n",
    "**Returns:**\n",
    "\n",
    "- int: The sum of all even numbers in the list."
   ]
  },
  {
   "cell_type": "code",
   "execution_count": 22,
   "metadata": {
    "vscode": {
     "languageId": "java"
    }
   },
   "outputs": [],
   "source": [
    "public static int sumOfAllEvenNumbers(int[] list) {\n",
    "  int sum = 0;\n",
    "  for (int num : list) {\n",
    "      if (num % 2 == 0) {\n",
    "          sum += num;\n",
    "      }\n",
    "  }\n",
    "  return sum;\n",
    "}"
   ]
  },
  {
   "cell_type": "code",
   "execution_count": 23,
   "metadata": {
    "vscode": {
     "languageId": "java"
    }
   },
   "outputs": [],
   "source": [
    "// public static int sumOfAllEvenNumbers(int[] list) {\n",
    "//     // Implementation goes here\n",
    "// }\n",
    "\n",
    "// sumOfAllEvenNumbers(new int[]{1, 2, 3, 4, 5, 6});"
   ]
  },
  {
   "cell_type": "code",
   "execution_count": 24,
   "metadata": {
    "vscode": {
     "languageId": "java"
    }
   },
   "outputs": [
    {
     "name": "stdout",
     "output_type": "stream",
     "text": [
      "All tests passed!\n"
     ]
    }
   ],
   "source": [
    "// Test calls\n",
    "assert sumOfAllEvenNumbers(new int[]{1, 2, 3, 4, 5, 6}) == 12;\n",
    "assert sumOfAllEvenNumbers(new int[]{10, 15, 20, 25}) == 30;\n",
    "assert sumOfAllEvenNumbers(new int[]{7, 9, 11, 13}) == 0;\n",
    "assert sumOfAllEvenNumbers(new int[]{2, 4, 6, 8, 10}) == 30;\n",
    "\n",
    "System.out.println(\"All tests passed!\");"
   ]
  },
  {
   "cell_type": "markdown",
   "metadata": {},
   "source": [
    "### Find All Pairs that Sum to a Target\n",
    "\n",
    "Finds all pairs of numbers in a list that add up to a given target sum.\n",
    "\n",
    "**Args:**\n",
    "\n",
    "- list (int[]): The list of integers.\n",
    "- target (int): The target sum for the pairs.\n",
    "\n",
    "**Returns:**\n",
    "\n",
    "- List<int[]>: A list of integer arrays where each array contains two numbers that sum to the target."
   ]
  },
  {
   "cell_type": "code",
   "execution_count": 25,
   "metadata": {
    "vscode": {
     "languageId": "java"
    }
   },
   "outputs": [],
   "source": [
    "public static java.util.List<int[]> findAllPairsWithSum(int[] list, int target) {\n",
    "  java.util.List<int[]> pairs = new java.util.ArrayList<>();\n",
    "  java.util.Set<Integer> seen = new java.util.HashSet<>();\n",
    "  for (int num : list) {\n",
    "      int complement = target - num;\n",
    "      if (seen.contains(complement)) {\n",
    "          pairs.add(new int[]{complement, num});\n",
    "      }\n",
    "      seen.add(num);\n",
    "  }\n",
    "  return pairs;\n",
    "}"
   ]
  },
  {
   "cell_type": "code",
   "execution_count": 26,
   "metadata": {
    "vscode": {
     "languageId": "java"
    }
   },
   "outputs": [],
   "source": [
    "// public static java.util.List<int[]> findAllPairsWithSum(int[] list, int target) {\n",
    "//     // Implementation goes here\n",
    "// }\n",
    "\n",
    "// findAllPairsWithSum(new int[]{1, 2, 3, 4, 5, 6}, 7);"
   ]
  },
  {
   "cell_type": "code",
   "execution_count": 27,
   "metadata": {
    "vscode": {
     "languageId": "java"
    }
   },
   "outputs": [
    {
     "name": "stdout",
     "output_type": "stream",
     "text": [
      "All tests passed!\n"
     ]
    }
   ],
   "source": [
    "// Test calls\n",
    "assert findAllPairsWithSum(new int[]{1, 2, 3, 4, 5, 6}, 7).equals(java.util.Arrays.asList(new int[]{1, 6}, new int[]{2, 5}, new int[]{3, 4}));\n",
    "assert findAllPairsWithSum(new int[]{2, 4, 3, 7, 5, 1}, 8).equals(java.util.Arrays.asList(new int[]{1, 7}, new int[]{3, 5}));\n",
    "assert findAllPairsWithSum(new int[]{10, 15, 3, 7}, 17).equals(java.util.Arrays.asList(new int[]{10, 7}));\n",
    "assert findAllPairsWithSum(new int[]{1, 2, 3, 4}, 8).equals(java.util.Collections.emptyList());\n",
    "\n",
    "System.out.println(\"All tests passed!\");"
   ]
  },
  {
   "cell_type": "markdown",
   "metadata": {},
   "source": [
    "### Generate Fibonacci Sequence\n",
    "\n",
    "Generates the first N numbers of the Fibonacci sequence.\n",
    "\n",
    "**Args:**\n",
    "\n",
    "- n (int): The number of Fibonacci numbers to generate.\n",
    "\n",
    "**Returns:**\n",
    "\n",
    "- int[]: An array containing the first N numbers of the Fibonacci sequence."
   ]
  },
  {
   "cell_type": "code",
   "execution_count": 28,
   "metadata": {
    "vscode": {
     "languageId": "java"
    }
   },
   "outputs": [],
   "source": [
    "public static int[] generateFibonacciSequence(int n) {\n",
    "  int[] fibonacci = new int[n];\n",
    "  if (n > 0) fibonacci[0] = 0;\n",
    "  if (n > 1) fibonacci[1] = 1;\n",
    "  for (int i = 2; i < n; i++) {\n",
    "      fibonacci[i] = fibonacci[i - 1] + fibonacci[i - 2];\n",
    "  }\n",
    "  return fibonacci;\n",
    "}"
   ]
  },
  {
   "cell_type": "code",
   "execution_count": 29,
   "metadata": {
    "vscode": {
     "languageId": "java"
    }
   },
   "outputs": [],
   "source": [
    "// public static int[] generateFibonacciSequence(int n) {\n",
    "//     // Implementation goes here\n",
    "// }\n",
    "\n",
    "// generateFibonacciSequence(5);"
   ]
  },
  {
   "cell_type": "code",
   "execution_count": 30,
   "metadata": {
    "vscode": {
     "languageId": "java"
    }
   },
   "outputs": [
    {
     "name": "stdout",
     "output_type": "stream",
     "text": [
      "All tests passed!\n"
     ]
    }
   ],
   "source": [
    "// Test calls\n",
    "assert java.util.Arrays.equals(generateFibonacciSequence(5), new int[]{0, 1, 1, 2, 3});\n",
    "assert java.util.Arrays.equals(generateFibonacciSequence(7), new int[]{0, 1, 1, 2, 3, 5, 8});\n",
    "assert java.util.Arrays.equals(generateFibonacciSequence(3), new int[]{0, 1, 1});\n",
    "assert java.util.Arrays.equals(generateFibonacciSequence(1), new int[]{0});\n",
    "\n",
    "System.out.println(\"All tests passed!\");"
   ]
  }
 ],
 "metadata": {
  "kernelspec": {
   "display_name": "Java",
   "language": "java",
   "name": "java"
  },
  "language_info": {
   "codemirror_mode": "java",
   "file_extension": ".jshell",
   "mimetype": "text/x-java-source",
   "name": "Java",
   "pygments_lexer": "java",
   "version": "21.0.1+12-LTS-29"
  }
 },
 "nbformat": 4,
 "nbformat_minor": 2
}
