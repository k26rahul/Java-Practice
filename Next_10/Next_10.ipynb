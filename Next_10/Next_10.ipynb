{
 "cells": [
  {
   "cell_type": "markdown",
   "metadata": {},
   "source": [
    "😈 **String Manipulation:**\n",
    "\n",
    "1. Check for Anagram\n",
    "\n",
    "2. Find First Non-Repeating Character\n",
    "\n",
    "3. Check if String Contains Only Unique Characters\n",
    "\n",
    "4. Reverse the Words in a Sentence\n",
    "\n",
    "\n",
    "😈 **Mathematics:**\n",
    "\n",
    "5. Check if Number is Prime\n",
    "\n",
    "6. Generate Fibonacci Sequence\n",
    "\n",
    "\n",
    "😈 **List and Array Operations:**\n",
    "\n",
    "7. Find Missing Number in Sequence\n",
    "\n",
    "8. Find the Most Frequent Element in a List\n",
    "\n",
    "9. Sum of All Even Numbers in a List\n",
    "\n",
    "10. Find All Pairs that Sum to a Target"
   ]
  },
  {
   "cell_type": "markdown",
   "metadata": {},
   "source": [
    "### Check for Anagram\n",
    "\n",
    "Checks if two input strings are anagrams of each other.\n",
    "\n",
    "**Args:**\n",
    "\n",
    "- str1 (String): The first string.\n",
    "- str2 (String): The second string.\n",
    "\n",
    "**Returns:**\n",
    "\n",
    "- boolean: `true` if the two strings are anagrams, `false` otherwise."
   ]
  },
  {
   "cell_type": "code",
   "execution_count": 349,
   "metadata": {
    "vscode": {
     "languageId": "java"
    }
   },
   "outputs": [
    {
     "data": {
      "text/plain": [
       "true"
      ]
     },
     "execution_count": 349,
     "metadata": {},
     "output_type": "execute_result"
    }
   ],
   "source": [
    "public static boolean checkAnagram(String str1, String str2) {\n",
    "  char[] arr1 = str1.toCharArray();\n",
    "  char[] arr2 = str2.toCharArray();\n",
    "  Arrays.sort(arr1);\n",
    "  Arrays.sort(arr2);\n",
    "  return Arrays.equals(arr1, arr2);\n",
    "}\n",
    "\n",
    "checkAnagram(\"listen\", \"silent\");"
   ]
  },
  {
   "cell_type": "code",
   "execution_count": 350,
   "metadata": {
    "vscode": {
     "languageId": "java"
    }
   },
   "outputs": [
    {
     "data": {
      "text/plain": [
       "true"
      ]
     },
     "execution_count": 350,
     "metadata": {},
     "output_type": "execute_result"
    }
   ],
   "source": [
    "public static boolean checkAnagram(String str1, String str2) {\n",
    "  // If lengths are not the same, they can't be anagrams\n",
    "  if (str1.length() != str2.length()) {\n",
    "      return false;\n",
    "  }\n",
    "  \n",
    "  HashMap<Character, Integer> frequencyMap = new HashMap<>();\n",
    "\n",
    "  // Count frequency of each character in str1\n",
    "  for (char c : str1.toCharArray()) {\n",
    "      frequencyMap.put(c, frequencyMap.getOrDefault(c, 0) + 1);\n",
    "  }\n",
    "\n",
    "  // Decrease frequency for each character in str2\n",
    "  for (char c : str2.toCharArray()) {\n",
    "      if (!frequencyMap.containsKey(c)) {\n",
    "          return false;\n",
    "      }\n",
    "      frequencyMap.put(c, frequencyMap.get(c) - 1);\n",
    "      if (frequencyMap.get(c) == 0) {\n",
    "          frequencyMap.remove(c);\n",
    "      }\n",
    "  }\n",
    "\n",
    "  // If the map is empty, the strings are anagrams\n",
    "  return frequencyMap.isEmpty();\n",
    "}\n",
    "\n",
    "checkAnagram(\"listen\", \"silent\");"
   ]
  },
  {
   "cell_type": "code",
   "execution_count": 351,
   "metadata": {
    "vscode": {
     "languageId": "java"
    }
   },
   "outputs": [],
   "source": [
    "// public static boolean checkAnagram(String str1, String str2) {\n",
    "//     // Implementation goes here\n",
    "// }\n",
    "\n",
    "// checkAnagram(\"listen\", \"silent\");"
   ]
  },
  {
   "cell_type": "code",
   "execution_count": 352,
   "metadata": {
    "vscode": {
     "languageId": "java"
    }
   },
   "outputs": [
    {
     "name": "stdout",
     "output_type": "stream",
     "text": [
      "✅ All tests passed!\n"
     ]
    }
   ],
   "source": [
    "// Test calls\n",
    "assert checkAnagram(\"listen\", \"silent\") : \"1\";\n",
    "assert checkAnagram(\"triangle\", \"integral\") : \"2\";\n",
    "assert !checkAnagram(\"apple\", \"pale\") : \"3\";\n",
    "assert !checkAnagram(\"hello\", \"world\") : \"4\";\n",
    "\n",
    "System.out.println(\"✅ All tests passed!\");"
   ]
  },
  {
   "cell_type": "markdown",
   "metadata": {},
   "source": [
    "### Find First Non-Repeating Character\n",
    "\n",
    "Finds the first non-repeating character in a given string.\n",
    "\n",
    "**Args:**\n",
    "\n",
    "- inputString (String): The input string.\n",
    "\n",
    "**Returns:**\n",
    "\n",
    "- char: The first non-repeating character.\n",
    "- If no such character exists, return a special value like `'\\0'`."
   ]
  },
  {
   "cell_type": "code",
   "execution_count": 353,
   "metadata": {
    "vscode": {
     "languageId": "java"
    }
   },
   "outputs": [
    {
     "data": {
      "text/plain": [
       "w"
      ]
     },
     "execution_count": 353,
     "metadata": {},
     "output_type": "execute_result"
    }
   ],
   "source": [
    "public static char findFirstNonRepeatingChar(String inputString) {\n",
    "  HashMap<Character, Integer> charCount = new HashMap<>();\n",
    "  for (char c : inputString.toCharArray()) {\n",
    "      charCount.put(c, charCount.getOrDefault(c, 0) + 1);\n",
    "  }\n",
    "  for (char c : inputString.toCharArray()) {\n",
    "      if (charCount.get(c) == 1) {\n",
    "          return c;\n",
    "      }\n",
    "  }\n",
    "  return '\\0'; // Return null character if no non-repeating char exists\n",
    "}\n",
    "\n",
    "findFirstNonRepeatingChar(\"swiss\");"
   ]
  },
  {
   "cell_type": "code",
   "execution_count": 354,
   "metadata": {
    "vscode": {
     "languageId": "java"
    }
   },
   "outputs": [],
   "source": [
    "// public static char findFirstNonRepeatingChar(String inputString) {\n",
    "//     // Implementation goes here\n",
    "// }\n",
    "\n",
    "// findFirstNonRepeatingChar(\"swiss\");"
   ]
  },
  {
   "cell_type": "code",
   "execution_count": 355,
   "metadata": {
    "vscode": {
     "languageId": "java"
    }
   },
   "outputs": [
    {
     "name": "stdout",
     "output_type": "stream",
     "text": [
      "✅ All tests passed!\n"
     ]
    }
   ],
   "source": [
    "// Test calls\n",
    "assert findFirstNonRepeatingChar(\"swiss\") == 'w' : \"1\";\n",
    "assert findFirstNonRepeatingChar(\"apple\") == 'a' : \"2\";\n",
    "assert findFirstNonRepeatingChar(\"racecar\") == 'e' : \"3\";\n",
    "assert findFirstNonRepeatingChar(\"aabbcc\") == '\\0' : \"4\";\n",
    "\n",
    "System.out.println(\"✅ All tests passed!\");"
   ]
  },
  {
   "cell_type": "markdown",
   "metadata": {},
   "source": [
    "### Check if Number is Prime\n",
    "\n",
    "Checks if a given number is a prime number.\n",
    "\n",
    "**Args:**\n",
    "\n",
    "- number (int): The number to check.\n",
    "\n",
    "**Returns:**\n",
    "\n",
    "- boolean: `true` if the number is prime, `false` otherwise."
   ]
  },
  {
   "cell_type": "code",
   "execution_count": 356,
   "metadata": {
    "vscode": {
     "languageId": "java"
    }
   },
   "outputs": [
    {
     "data": {
      "text/plain": [
       "true"
      ]
     },
     "execution_count": 356,
     "metadata": {},
     "output_type": "execute_result"
    }
   ],
   "source": [
    "public static boolean isPrime(int number) {\n",
    "  if (number <= 1) return false;\n",
    "  for (int i = 2; i <= Math.sqrt(number); i++) {\n",
    "      if (number % i == 0) return false;\n",
    "  }\n",
    "  return true;\n",
    "}\n",
    "\n",
    "isPrime(7);"
   ]
  },
  {
   "cell_type": "code",
   "execution_count": 357,
   "metadata": {
    "vscode": {
     "languageId": "java"
    }
   },
   "outputs": [],
   "source": [
    "// public static boolean isPrime(int number) {\n",
    "//     // Implementation goes here\n",
    "// }\n",
    "\n",
    "// isPrime(7);"
   ]
  },
  {
   "cell_type": "code",
   "execution_count": 358,
   "metadata": {
    "vscode": {
     "languageId": "java"
    }
   },
   "outputs": [
    {
     "name": "stdout",
     "output_type": "stream",
     "text": [
      "✅ All tests passed!\n"
     ]
    }
   ],
   "source": [
    "// Test calls\n",
    "assert isPrime(7) : \"1\";\n",
    "assert !isPrime(10) : \"2\";\n",
    "assert isPrime(13) : \"3\";\n",
    "assert !isPrime(1) : \"4\";\n",
    "assert isPrime(2) : \"5\";\n",
    "\n",
    "System.out.println(\"✅ All tests passed!\");"
   ]
  },
  {
   "cell_type": "markdown",
   "metadata": {},
   "source": [
    "### Check if String Contains Only Unique Characters\n",
    "\n",
    "Checks if a given string contains only unique characters (no duplicates).\n",
    "\n",
    "**Args:**\n",
    "\n",
    "- inputString (String): The input string.\n",
    "\n",
    "**Returns:**\n",
    "\n",
    "- boolean: `true` if the string contains only unique characters, `false` otherwise."
   ]
  },
  {
   "cell_type": "code",
   "execution_count": 359,
   "metadata": {
    "vscode": {
     "languageId": "java"
    }
   },
   "outputs": [
    {
     "data": {
      "text/plain": [
       "true"
      ]
     },
     "execution_count": 359,
     "metadata": {},
     "output_type": "execute_result"
    }
   ],
   "source": [
    "public static boolean hasUniqueCharacters(String inputString) {\n",
    "  HashSet<Character> charSet = new HashSet<>();\n",
    "  for (char c : inputString.toCharArray()) {\n",
    "      if (charSet.contains(c)) {\n",
    "          return false;\n",
    "      }\n",
    "      charSet.add(c);\n",
    "  }\n",
    "  return true;\n",
    "}\n",
    "\n",
    "hasUniqueCharacters(\"abcdef\");"
   ]
  },
  {
   "cell_type": "code",
   "execution_count": 360,
   "metadata": {
    "vscode": {
     "languageId": "java"
    }
   },
   "outputs": [],
   "source": [
    "// public static boolean hasUniqueCharacters(String inputString) {\n",
    "//     // Implementation goes here\n",
    "// }\n",
    "\n",
    "// hasUniqueCharacters(\"abcdef\");"
   ]
  },
  {
   "cell_type": "code",
   "execution_count": 361,
   "metadata": {
    "vscode": {
     "languageId": "java"
    }
   },
   "outputs": [
    {
     "name": "stdout",
     "output_type": "stream",
     "text": [
      "✅ All tests passed!\n"
     ]
    }
   ],
   "source": [
    "// Test calls\n",
    "assert hasUniqueCharacters(\"abcdef\") : \"1\";\n",
    "assert !hasUniqueCharacters(\"hello\") : \"2\";\n",
    "assert hasUniqueCharacters(\"world\") : \"3\";\n",
    "assert !hasUniqueCharacters(\"java\") : \"4\";\n",
    "\n",
    "System.out.println(\"✅ All tests passed!\");"
   ]
  },
  {
   "cell_type": "markdown",
   "metadata": {},
   "source": [
    "### Reverse the Words in a Sentence\n",
    "\n",
    "Reverses the order of words in a given sentence.\n",
    "\n",
    "**Args:**\n",
    "\n",
    "- sentence (String): The sentence to be reversed.\n",
    "\n",
    "**Returns:**\n",
    "\n",
    "- String: The sentence with the words in reverse order."
   ]
  },
  {
   "cell_type": "code",
   "execution_count": 362,
   "metadata": {
    "vscode": {
     "languageId": "java"
    }
   },
   "outputs": [
    {
     "data": {
      "text/plain": [
       "world Hello"
      ]
     },
     "execution_count": 362,
     "metadata": {},
     "output_type": "execute_result"
    }
   ],
   "source": [
    "public static String reverseWords(String sentence) {\n",
    "  String[] words = sentence.split(\" \");\n",
    "  String reversedSentence = \"\";\n",
    "  for (int i = words.length - 1; i >= 0; i--) {\n",
    "      reversedSentence += words[i];\n",
    "      if (i != 0) {\n",
    "          reversedSentence += \" \";\n",
    "      }\n",
    "  }\n",
    "  return reversedSentence;\n",
    "}\n",
    "\n",
    "reverseWords(\"Hello world\");"
   ]
  },
  {
   "cell_type": "code",
   "execution_count": 363,
   "metadata": {
    "vscode": {
     "languageId": "java"
    }
   },
   "outputs": [
    {
     "data": {
      "text/plain": [
       "world Hello"
      ]
     },
     "execution_count": 363,
     "metadata": {},
     "output_type": "execute_result"
    }
   ],
   "source": [
    "public static String reverseWords(String sentence) {\n",
    "  String[] words = sentence.split(\" \");\n",
    "  StringBuilder reversedSentence = new StringBuilder();\n",
    "  for (int i = words.length - 1; i >= 0; i--) {\n",
    "      reversedSentence.append(words[i]);\n",
    "      if (i != 0) {\n",
    "          reversedSentence.append(\" \");\n",
    "      }\n",
    "  }\n",
    "  return reversedSentence.toString();\n",
    "}\n",
    "\n",
    "reverseWords(\"Hello world\");"
   ]
  },
  {
   "cell_type": "code",
   "execution_count": 364,
   "metadata": {
    "vscode": {
     "languageId": "java"
    }
   },
   "outputs": [
    {
     "data": {
      "text/plain": [
       "world Hello"
      ]
     },
     "execution_count": 364,
     "metadata": {},
     "output_type": "execute_result"
    }
   ],
   "source": [
    "public static String reverseWords(String sentence) {\n",
    "    String[] words = sentence.split(\" \");\n",
    "    \n",
    "    // Convert array to a list and reverse it\n",
    "    List<String> wordList = Arrays.asList(words);\n",
    "    Collections.reverse(wordList);\n",
    "    \n",
    "    // Join the words back into a sentence with space separation\n",
    "    return String.join(\" \", wordList);\n",
    "}\n",
    "\n",
    "reverseWords(\"Hello world\");"
   ]
  },
  {
   "cell_type": "code",
   "execution_count": 365,
   "metadata": {
    "vscode": {
     "languageId": "java"
    }
   },
   "outputs": [],
   "source": [
    "// public static String reverseWords(String sentence) {\n",
    "//     // Implementation goes here\n",
    "// }\n",
    "\n",
    "// reverseWords(\"Hello world\");"
   ]
  },
  {
   "cell_type": "code",
   "execution_count": 366,
   "metadata": {
    "vscode": {
     "languageId": "java"
    }
   },
   "outputs": [
    {
     "name": "stdout",
     "output_type": "stream",
     "text": [
      "✅ All tests passed!\n"
     ]
    }
   ],
   "source": [
    "// Test calls\n",
    "assert reverseWords(\"Hello world\").equals(\"world Hello\") : \"1\";\n",
    "assert reverseWords(\"Java is fun\").equals(\"fun is Java\") : \"2\";\n",
    "assert reverseWords(\"Practice makes perfect\").equals(\"perfect makes Practice\") : \"3\";\n",
    "assert reverseWords(\"a b c d\").equals(\"d c b a\") : \"4\";\n",
    "\n",
    "System.out.println(\"✅ All tests passed!\");"
   ]
  },
  {
   "cell_type": "markdown",
   "metadata": {},
   "source": [
    "### Find Missing Number in Sequence\n",
    "\n",
    "Finds the missing number in a list of consecutive numbers with one number missing. The numbers can be in any order. If there is no missing number, return `Integer.MAX_VALUE`.\n",
    "\n",
    "**Args:**\n",
    "\n",
    "- `numbers` (int[]): The list of consecutive numbers with one missing.\n",
    "\n",
    "**Returns:**\n",
    "\n",
    "- `int`: The missing number. If no number is missing, returns `Integer.MAX_VALUE`."
   ]
  },
  {
   "cell_type": "code",
   "execution_count": 367,
   "metadata": {
    "vscode": {
     "languageId": "java"
    }
   },
   "outputs": [
    {
     "data": {
      "text/plain": [
       "13"
      ]
     },
     "execution_count": 367,
     "metadata": {},
     "output_type": "execute_result"
    }
   ],
   "source": [
    "public static int findMissingNumber(int[] numbers) {\n",
    "  // Find the minimum and maximum numbers in the array\n",
    "  int min = Integer.MAX_VALUE;\n",
    "  int max = Integer.MIN_VALUE;\n",
    "  int currentSum = 0;\n",
    "  \n",
    "  for (int number : numbers) {\n",
    "      if (number < min) {\n",
    "          min = number;\n",
    "      }\n",
    "      if (number > max) {\n",
    "          max = number;\n",
    "      }\n",
    "      currentSum += number;\n",
    "  }\n",
    "  \n",
    "  // Calculate the expected sum from min to max\n",
    "  int expectedSum = (max * (max + 1) / 2) - ((min - 1) * min / 2);\n",
    "  \n",
    "  // If expected sum equals current sum, no number is missing\n",
    "  if (expectedSum == currentSum) {\n",
    "      return Integer.MAX_VALUE;\n",
    "  }\n",
    "  \n",
    "  // The missing number is the difference between expected and actual sum\n",
    "  return expectedSum - currentSum;\n",
    "}\n",
    "\n",
    "findMissingNumber(new int[]{10, 11, 12, 14, 15});"
   ]
  },
  {
   "cell_type": "markdown",
   "metadata": {},
   "source": [
    "$$\n",
    "   \\text{Sum from } \\text{min} \\text{ to } \\text{max} = \\frac{\\text{max} \\times (\\text{max} + 1)}{2} - \\frac{(\\text{min} - 1) \\times \\text{min}}{2}\n",
    "$$"
   ]
  },
  {
   "cell_type": "code",
   "execution_count": 368,
   "metadata": {
    "vscode": {
     "languageId": "java"
    }
   },
   "outputs": [
    {
     "data": {
      "text/plain": [
       "13"
      ]
     },
     "execution_count": 368,
     "metadata": {},
     "output_type": "execute_result"
    }
   ],
   "source": [
    "public static int findMissingNumber(int[] numbers) {\n",
    "  // Sort array\n",
    "  Arrays.sort(numbers);\n",
    "\n",
    "  // Look for break in sequence\n",
    "  for (int i = 1; i < numbers.length; i++) {\n",
    "      if (numbers[i] != numbers[i - 1] + 1) {\n",
    "          // Return missing number\n",
    "          return numbers[i - 1] + 1;\n",
    "      }\n",
    "  }\n",
    "\n",
    "  // No missing number in the given range\n",
    "  return Integer.MAX_VALUE;\n",
    "}\n",
    "\n",
    "findMissingNumber(new int[]{10, 11, 12, 14, 15});"
   ]
  },
  {
   "cell_type": "code",
   "execution_count": 369,
   "metadata": {
    "vscode": {
     "languageId": "java"
    }
   },
   "outputs": [],
   "source": [
    "// public static int findMissingNumber(int[] numbers) {\n",
    "//     // Implementation goes here\n",
    "// }\n",
    "\n",
    "// findMissingNumber(new int[]{10, 11, 12, 14, 15});"
   ]
  },
  {
   "cell_type": "code",
   "execution_count": 370,
   "metadata": {
    "vscode": {
     "languageId": "java"
    }
   },
   "outputs": [
    {
     "name": "stdout",
     "output_type": "stream",
     "text": [
      "✅ All tests passed!\n"
     ]
    }
   ],
   "source": [
    "// Test calls\n",
    "assert findMissingNumber(new int[]{1, 2, 4, 5, 6}) == 3 : \"1\";\n",
    "assert findMissingNumber(new int[]{3, 7, 1, 2, 8, 4, 5}) == 6 : \"2\";\n",
    "assert findMissingNumber(new int[]{10, 11, 12, 14, 15}) == 13 : \"3\";\n",
    "assert findMissingNumber(new int[]{5, 3, 2, 1}) == 4 : \"4\";\n",
    "assert findMissingNumber(new int[]{1, 2, 3, 4}) == Integer.MAX_VALUE : \"5\";\n",
    "\n",
    "System.out.println(\"✅ All tests passed!\");"
   ]
  },
  {
   "cell_type": "markdown",
   "metadata": {},
   "source": [
    "### Find the Most Frequent Element in a List\n",
    "\n",
    "Finds the most frequently occurring element in a given list. In case of ties (i.e., multiple elements with the same frequency), returns the element that appears first in the list.\n",
    "\n",
    "**Args:**\n",
    "\n",
    "- `list` (int[]): The list of integers.\n",
    "\n",
    "**Returns:**\n",
    "\n",
    "- `int`: The most frequently occurring element in the list. In case of ties, returns the first appearing element."
   ]
  },
  {
   "cell_type": "code",
   "execution_count": 371,
   "metadata": {
    "vscode": {
     "languageId": "java"
    }
   },
   "outputs": [
    {
     "data": {
      "text/plain": [
       "3"
      ]
     },
     "execution_count": 371,
     "metadata": {},
     "output_type": "execute_result"
    }
   ],
   "source": [
    "public static int findMostFrequentElement(int[] list) {\n",
    "  HashMap<Integer, Integer> frequencyMap = new HashMap<>();\n",
    "  for (int num : list) {\n",
    "      frequencyMap.put(num, frequencyMap.getOrDefault(num, 0) + 1);\n",
    "  }\n",
    "  int mostFrequent = list[0];\n",
    "  int maxCount = 0;\n",
    "  for (HashMap.Entry<Integer, Integer> entry : frequencyMap.entrySet()) {\n",
    "      if (entry.getValue() > maxCount) {\n",
    "          mostFrequent = entry.getKey();\n",
    "          maxCount = entry.getValue();\n",
    "      }\n",
    "  }\n",
    "  return mostFrequent;\n",
    "}\n",
    "\n",
    "findMostFrequentElement(new int[]{1, 2, 2, 3, 3, 3});"
   ]
  },
  {
   "cell_type": "code",
   "execution_count": 372,
   "metadata": {
    "vscode": {
     "languageId": "java"
    }
   },
   "outputs": [],
   "source": [
    "// public static int findMostFrequentElement(int[] list) {\n",
    "//     // Implementation goes here\n",
    "// }\n",
    "\n",
    "// findMostFrequentElement(new int[]{1, 2, 2, 3, 3, 3});"
   ]
  },
  {
   "cell_type": "code",
   "execution_count": 373,
   "metadata": {
    "vscode": {
     "languageId": "java"
    }
   },
   "outputs": [
    {
     "name": "stdout",
     "output_type": "stream",
     "text": [
      "✅ All tests passed!\n"
     ]
    }
   ],
   "source": [
    "// Test calls\n",
    "assert findMostFrequentElement(new int[]{1, 2, 2, 3, 3, 3}) == 3 : \"1\";\n",
    "assert findMostFrequentElement(new int[]{4, 4, 5, 6, 4, 6, 6}) == 4 : \"2\";\n",
    "assert findMostFrequentElement(new int[]{7, 8, 8, 8, 9, 9}) == 8 : \"3\";\n",
    "assert findMostFrequentElement(new int[]{10, 11, 12, 13, 14, 15}) == 10 : \"4\";\n",
    "\n",
    "System.out.println(\"✅ All tests passed!\");"
   ]
  },
  {
   "cell_type": "markdown",
   "metadata": {},
   "source": [
    "### Sum of All Even Numbers in a List\n",
    "\n",
    "Calculates the sum of all even numbers in a given list.\n",
    "\n",
    "**Args:**\n",
    "\n",
    "- list (int[]): The list of integers.\n",
    "\n",
    "**Returns:**\n",
    "\n",
    "- int: The sum of all even numbers in the list."
   ]
  },
  {
   "cell_type": "code",
   "execution_count": 374,
   "metadata": {
    "vscode": {
     "languageId": "java"
    }
   },
   "outputs": [
    {
     "data": {
      "text/plain": [
       "12"
      ]
     },
     "execution_count": 374,
     "metadata": {},
     "output_type": "execute_result"
    }
   ],
   "source": [
    "public static int sumOfAllEvenNumbers(int[] list) {\n",
    "  int sum = 0;\n",
    "  for (int num : list) {\n",
    "      if (num % 2 == 0) {\n",
    "          sum += num;\n",
    "      }\n",
    "  }\n",
    "  return sum;\n",
    "}\n",
    "\n",
    "sumOfAllEvenNumbers(new int[]{1, 2, 3, 4, 5, 6});"
   ]
  },
  {
   "cell_type": "code",
   "execution_count": 375,
   "metadata": {
    "vscode": {
     "languageId": "java"
    }
   },
   "outputs": [],
   "source": [
    "// public static int sumOfAllEvenNumbers(int[] list) {\n",
    "//     // Implementation goes here\n",
    "// }\n",
    "\n",
    "// sumOfAllEvenNumbers(new int[]{1, 2, 3, 4, 5, 6});"
   ]
  },
  {
   "cell_type": "code",
   "execution_count": 376,
   "metadata": {
    "vscode": {
     "languageId": "java"
    }
   },
   "outputs": [
    {
     "name": "stdout",
     "output_type": "stream",
     "text": [
      "✅ All tests passed!\n"
     ]
    }
   ],
   "source": [
    "// Test calls\n",
    "assert sumOfAllEvenNumbers(new int[]{1, 2, 3, 4, 5, 6}) == 12 : \"1\";\n",
    "assert sumOfAllEvenNumbers(new int[]{10, 15, 20, 25}) == 30 : \"2\";\n",
    "assert sumOfAllEvenNumbers(new int[]{7, 9, 11, 13}) == 0 : \"3\";\n",
    "assert sumOfAllEvenNumbers(new int[]{2, 4, 6, 8, 10}) == 30 : \"4\";\n",
    "\n",
    "System.out.println(\"✅ All tests passed!\");"
   ]
  },
  {
   "cell_type": "markdown",
   "metadata": {},
   "source": [
    "### Find All Pairs that Sum to a Target\n",
    "\n",
    "Finds all pairs of numbers in a list that add up to a given target sum.\n",
    "\n",
    "**Args:**\n",
    "\n",
    "- list (int[]): The list of integers.\n",
    "- target (int): The target sum for the pairs.\n",
    "\n",
    "**Returns:**\n",
    "\n",
    "- List<int[]>: A list of integer arrays where each array contains two numbers that sum to the target."
   ]
  },
  {
   "cell_type": "code",
   "execution_count": 377,
   "metadata": {
    "vscode": {
     "languageId": "java"
    }
   },
   "outputs": [
    {
     "name": "stdout",
     "output_type": "stream",
     "text": [
      "[3, 4]\n",
      "[2, 5]\n",
      "[1, 6]\n"
     ]
    }
   ],
   "source": [
    "public static List<int[]> findAllPairsWithSum(int[] list, int target) {\n",
    "  List<int[]> pairs = new ArrayList<>();\n",
    "  Set<Integer> seen = new HashSet<>();\n",
    "  for (int num : list) {\n",
    "      int complement = target - num;\n",
    "      if (seen.contains(complement)) {\n",
    "          pairs.add(new int[]{complement, num});\n",
    "      }\n",
    "      seen.add(num);\n",
    "  }\n",
    "  return pairs;\n",
    "}\n",
    "\n",
    "List<int[]> pairs = findAllPairsWithSum(new int[]{1, 2, 3, 4, 5, 6}, 7);\n",
    "for (int[] pair : pairs) {\n",
    "  System.out.println(Arrays.toString(pair));\n",
    "}"
   ]
  },
  {
   "cell_type": "markdown",
   "metadata": {},
   "source": [
    "### Set vs. HashSet\n",
    "\n",
    "- **Set (Interface)**:\n",
    "  - Collection without duplicates.\n",
    "  - Defines operations, not implementations.\n",
    "  - Implementations: `HashSet`, `LinkedHashSet`, `TreeSet`.\n",
    "  - No specific ordering.\n",
    "\n",
    "- **HashSet (Implementation)**:\n",
    "  - Implements `Set` with a hash table.\n",
    "  - No order guarantee.\n",
    "  - Fast operations (constant-time).\n",
    "  - Allows one `null` element.\n",
    "  - Not synchronized.\n",
    "\n",
    "**Use**: `Set` for type, `HashSet` for implementation."
   ]
  },
  {
   "cell_type": "code",
   "execution_count": 378,
   "metadata": {
    "vscode": {
     "languageId": "java"
    }
   },
   "outputs": [],
   "source": [
    "// public static List<int[]> findAllPairsWithSum(int[] list, int target) {\n",
    "//     // Implementation goes here\n",
    "// }\n",
    "\n",
    "// List<int[]> pairs = findAllPairsWithSum(new int[]{1, 2, 3, 4, 5, 6}, 7);\n",
    "// for (int[] pair : pairs) {\n",
    "//   System.out.println(Arrays.toString(pair));\n",
    "// }"
   ]
  },
  {
   "cell_type": "code",
   "execution_count": 379,
   "metadata": {
    "vscode": {
     "languageId": "java"
    }
   },
   "outputs": [
    {
     "name": "stdout",
     "output_type": "stream",
     "text": [
      "✅ All tests passed!\n"
     ]
    }
   ],
   "source": [
    "public static boolean arePairListsEqual(List<int[]> list1, List<int[]> list2) {\n",
    "  // Convert list1 to a set of sets\n",
    "  Set<Set<Integer>> set1 = new HashSet<>();\n",
    "  for (int[] pair : list1) {\n",
    "      Set<Integer> pairSet = new HashSet<>();\n",
    "      pairSet.add(pair[0]);\n",
    "      pairSet.add(pair[1]);\n",
    "      set1.add(pairSet);\n",
    "  }\n",
    "  \n",
    "  // Convert list2 to a set of sets\n",
    "  Set<Set<Integer>> set2 = new HashSet<>();\n",
    "  for (int[] pair : list2) {\n",
    "      Set<Integer> pairSet = new HashSet<>();\n",
    "      pairSet.add(pair[0]);\n",
    "      pairSet.add(pair[1]);\n",
    "      set2.add(pairSet);\n",
    "  }\n",
    "  \n",
    "  // Compare the sets\n",
    "  return set1.equals(set2);\n",
    "}\n",
    "\n",
    "// Test cases\n",
    "List<int[]> expectedPairs1 = Arrays.asList(new int[]{1, 6}, new int[]{2, 5}, new int[]{3, 4});\n",
    "List<int[]> actualPairs1 = findAllPairsWithSum(new int[]{1, 2, 3, 4, 5, 6}, 7);\n",
    "assert arePairListsEqual(expectedPairs1, actualPairs1) : \"1\";\n",
    "\n",
    "List<int[]> expectedPairs2 = Arrays.asList(new int[]{1, 7}, new int[]{3, 5});\n",
    "List<int[]> actualPairs2 = findAllPairsWithSum(new int[]{2, 4, 3, 7, 5, 1}, 8);\n",
    "assert arePairListsEqual(expectedPairs2, actualPairs2) : \"2\";\n",
    "\n",
    "List<int[]> expectedPairs3 = Arrays.asList(new int[]{10, 7});\n",
    "List<int[]> actualPairs3 = findAllPairsWithSum(new int[]{10, 15, 3, 7}, 17);\n",
    "assert arePairListsEqual(expectedPairs3, actualPairs3) : \"3\";\n",
    "\n",
    "List<int[]> expectedPairs4 = Collections.emptyList();\n",
    "List<int[]> actualPairs4 = findAllPairsWithSum(new int[]{1, 2, 3, 4}, 8);\n",
    "assert arePairListsEqual(expectedPairs4, actualPairs4) : \"4\";\n",
    "\n",
    "System.out.println(\"✅ All tests passed!\");"
   ]
  },
  {
   "cell_type": "markdown",
   "metadata": {},
   "source": [
    "### Generate Fibonacci Sequence\n",
    "\n",
    "Generates the first N numbers of the Fibonacci sequence.\n",
    "\n",
    "**Args:**\n",
    "\n",
    "- n (int): The number of Fibonacci numbers to generate.\n",
    "\n",
    "**Returns:**\n",
    "\n",
    "- int[]: An array containing the first N numbers of the Fibonacci sequence."
   ]
  },
  {
   "cell_type": "code",
   "execution_count": 380,
   "metadata": {
    "vscode": {
     "languageId": "java"
    }
   },
   "outputs": [
    {
     "data": {
      "text/plain": [
       "[0, 1, 1, 2, 3]"
      ]
     },
     "execution_count": 380,
     "metadata": {},
     "output_type": "execute_result"
    }
   ],
   "source": [
    "public static int[] generateFibonacciSequence(int n) {\n",
    "  int[] fibonacci = new int[n];\n",
    "  if (n > 0) fibonacci[0] = 0;\n",
    "  if (n > 1) fibonacci[1] = 1;\n",
    "  for (int i = 2; i < n; i++) {\n",
    "      fibonacci[i] = fibonacci[i - 1] + fibonacci[i - 2];\n",
    "  }\n",
    "  return fibonacci;\n",
    "}\n",
    "\n",
    "Arrays.toString(generateFibonacciSequence(5));"
   ]
  },
  {
   "cell_type": "code",
   "execution_count": 381,
   "metadata": {
    "vscode": {
     "languageId": "java"
    }
   },
   "outputs": [],
   "source": [
    "// public static int[] generateFibonacciSequence(int n) {\n",
    "//     // Implementation goes here\n",
    "// }\n",
    "\n",
    "// Arrays.toString(generateFibonacciSequence(5));"
   ]
  },
  {
   "cell_type": "code",
   "execution_count": 382,
   "metadata": {
    "vscode": {
     "languageId": "java"
    }
   },
   "outputs": [
    {
     "name": "stdout",
     "output_type": "stream",
     "text": [
      "✅ All tests passed!\n"
     ]
    }
   ],
   "source": [
    "// Test calls\n",
    "assert Arrays.equals(generateFibonacciSequence(5), new int[]{0, 1, 1, 2, 3}) : \"1\";\n",
    "assert Arrays.equals(generateFibonacciSequence(7), new int[]{0, 1, 1, 2, 3, 5, 8}) : \"2\";\n",
    "assert Arrays.equals(generateFibonacciSequence(3), new int[]{0, 1, 1}) : \"3\";\n",
    "assert Arrays.equals(generateFibonacciSequence(1), new int[]{0}) : \"4\";\n",
    "\n",
    "System.out.println(\"✅ All tests passed!\");"
   ]
  }
 ],
 "metadata": {
  "kernelspec": {
   "display_name": "Java",
   "language": "java",
   "name": "java"
  },
  "language_info": {
   "codemirror_mode": "java",
   "file_extension": ".jshell",
   "mimetype": "text/x-java-source",
   "name": "Java",
   "pygments_lexer": "java",
   "version": "21.0.1+12-LTS-29"
  }
 },
 "nbformat": 4,
 "nbformat_minor": 2
}
