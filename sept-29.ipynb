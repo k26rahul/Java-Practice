{
 "cells": [
  {
   "cell_type": "code",
   "execution_count": 88,
   "metadata": {},
   "outputs": [
    {
     "data": {
      "text/plain": [
       "'eetr'"
      ]
     },
     "execution_count": 88,
     "metadata": {},
     "output_type": "execute_result"
    },
    {
     "data": {
      "text/plain": [
       "'cccaaa'"
      ]
     },
     "execution_count": 88,
     "metadata": {},
     "output_type": "execute_result"
    },
    {
     "data": {
      "text/plain": [
       "'bbAa'"
      ]
     },
     "execution_count": 88,
     "metadata": {},
     "output_type": "execute_result"
    },
    {
     "data": {
      "text/plain": [
       "'eeeelloovtcd'"
      ]
     },
     "execution_count": 88,
     "metadata": {},
     "output_type": "execute_result"
    }
   ],
   "source": [
    "def frequencySort(string):\n",
    "  # https://leetcode.com/problems/sort-characters-by-frequency/submissions/1406295064/\n",
    "  freq = {}\n",
    "  for char in string:\n",
    "    freq[char] = freq.get(char, 0)+1\n",
    "\n",
    "  new_string = ''\n",
    "  for char in sorted(list(freq.keys()), key=freq.get, reverse=True):\n",
    "    new_string += char*freq[char]\n",
    "\n",
    "  return new_string\n",
    "\n",
    "\n",
    "frequencySort('tree')\n",
    "frequencySort('cccaaa')\n",
    "frequencySort('Aabb')\n",
    "frequencySort('loveleetcode')"
   ]
  },
  {
   "cell_type": "code",
   "execution_count": 89,
   "metadata": {},
   "outputs": [
    {
     "data": {
      "text/plain": [
       "0"
      ]
     },
     "execution_count": 89,
     "metadata": {},
     "output_type": "execute_result"
    },
    {
     "data": {
      "text/plain": [
       "-2147483648"
      ]
     },
     "execution_count": 89,
     "metadata": {},
     "output_type": "execute_result"
    },
    {
     "data": {
      "text/plain": [
       "42"
      ]
     },
     "execution_count": 89,
     "metadata": {},
     "output_type": "execute_result"
    },
    {
     "data": {
      "text/plain": [
       "-42"
      ]
     },
     "execution_count": 89,
     "metadata": {},
     "output_type": "execute_result"
    },
    {
     "data": {
      "text/plain": [
       "1337"
      ]
     },
     "execution_count": 89,
     "metadata": {},
     "output_type": "execute_result"
    },
    {
     "data": {
      "text/plain": [
       "0"
      ]
     },
     "execution_count": 89,
     "metadata": {},
     "output_type": "execute_result"
    },
    {
     "data": {
      "text/plain": [
       "0"
      ]
     },
     "execution_count": 89,
     "metadata": {},
     "output_type": "execute_result"
    }
   ],
   "source": [
    "def myAtoi(string: str):\n",
    "  # https://leetcode.com/problems/string-to-integer-atoi/submissions/1406320916/\n",
    "  integer = ''\n",
    "  sign = 'pending'\n",
    "\n",
    "  for char in string:\n",
    "    if char == ' ' and sign == 'pending':\n",
    "      continue\n",
    "\n",
    "    if char == '-' and sign == 'pending':\n",
    "      sign = 'negative'\n",
    "      continue\n",
    "\n",
    "    if char == '+' and sign == 'pending':\n",
    "      sign = 'positive'\n",
    "      continue\n",
    "\n",
    "    if not char.isdigit():\n",
    "      break\n",
    "\n",
    "    if sign == 'pending':\n",
    "      sign = 'positive'\n",
    "\n",
    "    integer += char\n",
    "\n",
    "  if integer == '':\n",
    "    integer = '0'\n",
    "\n",
    "  if sign == 'negative':\n",
    "    integer = '-' + integer\n",
    "\n",
    "  integer = int(integer)\n",
    "  INT_MIN = -2**31\n",
    "  INT_MAX = 2**31-1\n",
    "  if integer < INT_MIN:\n",
    "    integer = INT_MIN\n",
    "  if integer > INT_MAX:\n",
    "    integer = INT_MAX\n",
    "\n",
    "  return integer\n",
    "\n",
    "\n",
    "myAtoi('   +0 123')\n",
    "myAtoi('-91283472332')\n",
    "myAtoi('42')\n",
    "myAtoi('-042')\n",
    "myAtoi('1337c0d3')\n",
    "myAtoi('0-1')\n",
    "myAtoi('words and 987')"
   ]
  },
  {
   "cell_type": "code",
   "execution_count": 90,
   "metadata": {},
   "outputs": [
    {
     "data": {
      "text/plain": [
       "-2147483648"
      ]
     },
     "execution_count": 90,
     "metadata": {},
     "output_type": "execute_result"
    },
    {
     "data": {
      "text/plain": [
       "2147483647"
      ]
     },
     "execution_count": 90,
     "metadata": {},
     "output_type": "execute_result"
    },
    {
     "data": {
      "text/plain": [
       "True"
      ]
     },
     "execution_count": 90,
     "metadata": {},
     "output_type": "execute_result"
    }
   ],
   "source": [
    "INT_MIN = -2**31\n",
    "INT_MAX = 2**31-1\n",
    "INT_MIN\n",
    "INT_MAX\n",
    "-91283472332 < INT_MIN"
   ]
  },
  {
   "cell_type": "code",
   "execution_count": 91,
   "metadata": {},
   "outputs": [
    {
     "name": "stdout",
     "output_type": "stream",
     "text": [
      "deep 💎, distinct_count=1\n",
      "end=0, start=0\n",
      "deep 💎, distinct_count=2\n",
      "end=1, start=0\n",
      "deep 💎, distinct_count=3\n",
      "end=2, start=0\n",
      "deep 💎, distinct_count=4\n",
      "end=3, start=0\n",
      "deep 💎, distinct_count=5\n",
      "dope 😱, (-) distinct_count=4\n",
      "end=4, start=1\n",
      "deep 💎, distinct_count=5\n",
      "dope 😱, (-) distinct_count=4\n",
      "end=5, start=2\n",
      "deep 💎, distinct_count=5\n",
      "dope 😱, (-) distinct_count=4\n",
      "end=6, start=3\n",
      "deep 💎, distinct_count=5\n",
      "dope 😱, (-) distinct_count=4\n",
      "end=7, start=4\n"
     ]
    },
    {
     "data": {
      "text/plain": [
       "26"
      ]
     },
     "execution_count": 91,
     "metadata": {},
     "output_type": "execute_result"
    },
    {
     "name": "stdout",
     "output_type": "stream",
     "text": [
      "deep 💎, distinct_count=1\n",
      "end=0, start=0\n",
      "deep 💎, distinct_count=2\n",
      "end=1, start=0\n",
      "deep 💎, distinct_count=2\n",
      "end=2, start=0\n"
     ]
    },
    {
     "data": {
      "text/plain": [
       "6"
      ]
     },
     "execution_count": 91,
     "metadata": {},
     "output_type": "execute_result"
    },
    {
     "name": "stdout",
     "output_type": "stream",
     "text": [
      "deep 💎, distinct_count=1\n",
      "end=0, start=0\n",
      "deep 💎, distinct_count=2\n",
      "dope 😱, (-) distinct_count=1\n",
      "end=1, start=1\n",
      "deep 💎, distinct_count=2\n",
      "dope 😱, (-) distinct_count=1\n",
      "end=2, start=2\n",
      "deep 💎, distinct_count=1\n",
      "end=3, start=2\n",
      "deep 💎, distinct_count=2\n",
      "damn 😭, ( ) distinct_count=2\n",
      "dope 😱, (-) distinct_count=1\n",
      "end=4, start=4\n",
      "deep 💎, distinct_count=2\n",
      "dope 😱, (-) distinct_count=1\n",
      "end=5, start=5\n"
     ]
    },
    {
     "data": {
      "text/plain": [
       "7"
      ]
     },
     "execution_count": 91,
     "metadata": {},
     "output_type": "execute_result"
    }
   ],
   "source": [
    "class Solution:\n",
    "  # https://www.geeksforgeeks.org/problems/count-number-of-substrings4528/1\n",
    "  def atMostKDistinct(self, string: str, K: int) -> int:\n",
    "    from string import ascii_lowercase\n",
    "\n",
    "    if K <= 0:\n",
    "      return 0\n",
    "\n",
    "    start = 0  # left pointer of the sliding window\n",
    "    distinct_count = 0  # number of distinct characters in the current window\n",
    "    substring_count = 0  # result: total number of valid substrings\n",
    "    freq = {char: 0 for char in ascii_lowercase}  # to store occurrences of each character\n",
    "\n",
    "    for end in range(len(string)):  # right pointer of the sliding window\n",
    "      # include character at position `end` in the window\n",
    "      char = string[end]\n",
    "      if freq[char] == 0:\n",
    "        distinct_count += 1\n",
    "      freq[char] += 1\n",
    "\n",
    "      # shrink the window if there are more than `k` distinct characters\n",
    "      print(f'deep 💎, {distinct_count=}')\n",
    "      while distinct_count > K:\n",
    "        char = string[start]\n",
    "        freq[char] -= 1\n",
    "        if freq[char] == 0:\n",
    "          distinct_count -= 1\n",
    "          print(f'dope 😱, (-) {distinct_count=}')\n",
    "        else:\n",
    "          print(f'damn 😭, ( ) {distinct_count=}')\n",
    "        start += 1\n",
    "\n",
    "      print(f'{end=}, {start=}')\n",
    "\n",
    "      # add the number of valid substrings that end at `end`\n",
    "      substring_count += end - start + 1\n",
    "\n",
    "    return substring_count\n",
    "\n",
    "  def substrCount(self, string: str, K: int) -> int:\n",
    "    return self.atMostKDistinct(string, K)\n",
    "\n",
    "    # final answer 👇\n",
    "    return (self.atMostKDistinct(string, K) -\n",
    "            self.atMostKDistinct(string, K - 1))\n",
    "\n",
    "\n",
    "Solution().substrCount('abcdefgh', 4)\n",
    "Solution().substrCount('aba', 2)\n",
    "Solution().substrCount('abaaca', 1)"
   ]
  },
  {
   "cell_type": "markdown",
   "metadata": {},
   "source": [
    "### Problem Context\n",
    "The task is to count the number of substrings with exactly `K` distinct characters. However, the method `atMostKDistinct` counts the number of substrings with **at most** `K` distinct characters. The formula for calculating substrings with **exactly** `K` distinct characters is:\n",
    "\n",
    "$$ \\text{countWithExactlyK} = \\text{countWithAtMostK} - \\text{countWithAtMostK-1} $$\n",
    "\n",
    "Let's focus on how the output is being generated for the case `Solution().substrCount('abcdefgh', 4)`.\n",
    "\n",
    "### Sliding Window Explanation\n",
    "- **Start and End pointers**: The `start` pointer represents the left edge of the sliding window, while `end` is the right edge.\n",
    "- **distinct_count**: Tracks the number of distinct characters in the current window (`string[start:end+1]`).\n",
    "- **freq**: A frequency dictionary (initialized for all lowercase letters) that counts how many times each character appears in the current window.\n",
    "\n",
    "The loop moves the `end` pointer one step at a time, adding new characters into the window and adjusting `start` whenever the distinct count exceeds `K`. The logic counts the valid substrings by computing how many substrings can be formed with the current window size.\n",
    "\n",
    "### Logs Walkthrough\n",
    "#### Step 1 (end = 0):\n",
    "- We start with the first character `a`.\n",
    "- `deep 💎, distinct_count=1`: A new distinct character ('a') is added, so `distinct_count` becomes 1.\n",
    "- `end=0, start=0`: No need to shrink the window since `distinct_count <= K`. So, the window remains `[0:0]`.\n",
    "\n",
    "#### Step 2 (end = 1):\n",
    "- The next character is `b`.\n",
    "- `deep 💎, distinct_count=2`: Now, we have two distinct characters ('a' and 'b').\n",
    "- `end=1, start=0`: The window `[0:1]` is valid since `distinct_count <= K`.\n",
    "\n",
    "#### Step 3 (end = 2):\n",
    "- The next character is `c`.\n",
    "- `deep 💎, distinct_count=3`: Now, three distinct characters ('a', 'b', 'c').\n",
    "- `end=2, start=0`: The window `[0:2]` is still valid.\n",
    "\n",
    "#### Step 4 (end = 3):\n",
    "- The next character is `d`.\n",
    "- `deep 💎, distinct_count=4`: Four distinct characters ('a', 'b', 'c', 'd').\n",
    "- `end=3, start=0`: The window `[0:3]` is valid.\n",
    "\n",
    "#### Step 5 (end = 4):\n",
    "- The next character is `e`.\n",
    "- `deep 💎, distinct_count=5`: Now we have five distinct characters ('a', 'b', 'c', 'd', 'e'). Since `distinct_count > K` (4), we need to shrink the window by moving `start`.\n",
    "- `dope 😱, (-) distinct_count=4`: The character `a` at position `start=0` is removed from the window, reducing `distinct_count` back to 4.\n",
    "- `end=4, start=1`: The window is adjusted to `[1:4]` and is valid again.\n",
    "\n",
    "#### Step 6 (end = 5):\n",
    "- The next character is `f`.\n",
    "- `deep 💎, distinct_count=5`: Adding `f` increases `distinct_count` to 5.\n",
    "- `dope 😱, (-) distinct_count=4`: Shrink the window by removing `b` (from `start=1`), reducing `distinct_count` back to 4.\n",
    "- `end=5, start=2`: The valid window is `[2:5]`.\n",
    "\n",
    "#### Step 7 (end = 6):\n",
    "- The next character is `g`.\n",
    "- `deep 💎, distinct_count=5`: Adding `g` increases `distinct_count` to 5.\n",
    "- `dope 😱, (-) distinct_count=4`: Shrink the window by removing `c` (from `start=2`), reducing `distinct_count` back to 4.\n",
    "- `end=6, start=3`: The valid window is `[3:6]`.\n",
    "\n",
    "#### Step 8 (end = 7):\n",
    "- The next character is `h`.\n",
    "- `deep 💎, distinct_count=5`: Adding `h` increases `distinct_count` to 5.\n",
    "- `dope 😱, (-) distinct_count=4`: Shrink the window by removing `d` (from `start=3`), reducing `distinct_count` back to 4.\n",
    "- `end=7, start=4`: The valid window is `[4:7]`.\n",
    "\n",
    "### Summary\n",
    "- The `distinct_count` increases every time a new character is added to the window (`deep 💎`). If it exceeds `K`, the window is shrunk by incrementing `start` until the `distinct_count` becomes less than or equal to `K` again (`dope 😱`).\n",
    "- The variable `substring_count` accumulates the total count of substrings with at most `K` distinct characters, though this value is not shown in the output.\n",
    "\n",
    "The final step for solving the original problem (substrings with exactly `K` distinct characters) will subtract the count of substrings with at most `K-1` distinct characters from the count with at most `K`. However, this part is commented out."
   ]
  },
  {
   "cell_type": "code",
   "execution_count": 96,
   "metadata": {},
   "outputs": [
    {
     "data": {
      "text/plain": [
       "0"
      ]
     },
     "execution_count": 96,
     "metadata": {},
     "output_type": "execute_result"
    }
   ],
   "source": [
    "def isCyclicRotation(p: str, q: str) -> int:\n",
    "  from string import ascii_lowercase\n",
    "\n",
    "  if len(p) != len(q):\n",
    "    return 0\n",
    "\n",
    "  char_positions_p = {letter: [] for letter in ascii_lowercase}\n",
    "  for i in range(len(p)):\n",
    "    char = p[i]\n",
    "    char_positions_p[char].append(i)\n",
    "\n",
    "  char_positions_q = {letter: [] for letter in ascii_lowercase}\n",
    "  for i in range(len(q)):\n",
    "    char = q[i]\n",
    "    if i < char_positions_p[char][0]:\n",
    "      char_positions_q[char] = [i] + char_positions_q[char]\n",
    "    else:\n",
    "      char_positions_q[char].append(i)\n",
    "    # char_positions_q[char].append(i)\n",
    "\n",
    "  for char in char_positions_p:\n",
    "    positions_p = char_positions_p[char]\n",
    "    positions_q = char_positions_q[char]\n",
    "\n",
    "    if positions_p == positions_p == []:\n",
    "      continue\n",
    "\n",
    "    # print(char, positions_p, positions_q)\n",
    "\n",
    "    if len(positions_p) != len(positions_q):\n",
    "      return 0\n",
    "\n",
    "    if positions_p[0] > positions_q[0]:\n",
    "      positions_q = list(reversed(positions_q))\n",
    "\n",
    "    diff = None\n",
    "    for (ip, iq) in zip(positions_p, positions_q):\n",
    "      # if ip == iq:\n",
    "      #   continue\n",
    "\n",
    "      if ip <= iq:\n",
    "        new_diff = iq-ip\n",
    "      if ip > iq:\n",
    "        new_diff = len(p)-ip+iq\n",
    "\n",
    "      if diff == None:\n",
    "        diff = new_diff\n",
    "      elif new_diff != diff:\n",
    "        return 0\n",
    "\n",
    "  return 1\n",
    "\n",
    "\n",
    "# 1 😭\n",
    "isCyclicRotation('gggaedafggcdbhaadfgeghadfagcgdcgbdecahaahegcfcdaddgefcgfhbcbdfahagcdebfdfaeceggddddbageededgfebgcfhfachhafefebhbceebafehadeaghfeacfgfbhfbagbafabbhbffheahfcaggebbedhdhddadchgchfhdbfgcgfhcghfbgfgebabcebefbhhggdfagadababdaccbeahbhaafcbfgbbcdeechhafafhfhaeffebddfbafgbfhdfaabahgededccchhehfhcdcdbaegdbhacagfhdhgchaadabdbacgbghbbabefeggbdeaahcdfhhhabhfehdahfbhbbegaefgcaccfdgeedahdcbgffaedhbgadggdbdbfaadegdbgeeacgffebcehffeafgcaeagcdhdgbbdfcccgcfbaeagbghchaeefffeaagccdbahedfgbbecfcecdhbgdadddbfaa',\n",
    "                 'ffheahfcaggebbedhdhddadchgchfhdbfgcgfhcghfbgfgebabcebefbhhggdfagadababdaccbeahbhaafcbfgbbcdeechhafafhfhaeffebddfbafgbfhdfaabahgededccchhehfhcdcdbaegdbhacagfhdhgchaadabdbacgbghbbabefeggbdeaahcdfhhhabhfehdahfbhbbegaefgcaccfdgeedahdcbgffaedhbgadggdbdbfaadegdbgeeacgffebcehffeafgcaeagcdhdgbbdfcccgcfbaeagbghchaeefffeaagccdbahedfgbbecfcecdhbgdadddbfaagggaedafggcdbhaadfgeghadfagcgdcgbdecahaahegcfcdaddgefcgfhbcbdfahagcdebfdfaeceggddddbageededgfebgcfhfachhafefebhbceebafehadeaghfeacfgfbhfbagbafabbhb')"
   ]
  },
  {
   "cell_type": "code",
   "execution_count": 93,
   "metadata": {},
   "outputs": [
    {
     "data": {
      "text/plain": [
       "1"
      ]
     },
     "execution_count": 93,
     "metadata": {},
     "output_type": "execute_result"
    }
   ],
   "source": [
    "isCyclicRotation('dgebe', 'bedge')"
   ]
  },
  {
   "cell_type": "code",
   "execution_count": 94,
   "metadata": {},
   "outputs": [
    {
     "data": {
      "text/plain": [
       "1"
      ]
     },
     "execution_count": 94,
     "metadata": {},
     "output_type": "execute_result"
    },
    {
     "data": {
      "text/plain": [
       "1"
      ]
     },
     "execution_count": 94,
     "metadata": {},
     "output_type": "execute_result"
    },
    {
     "data": {
      "text/plain": [
       "0"
      ]
     },
     "execution_count": 94,
     "metadata": {},
     "output_type": "execute_result"
    }
   ],
   "source": [
    "isCyclicRotation('apple', 'eappl')\n",
    "isCyclicRotation('apple', 'leapp')\n",
    "isCyclicRotation('apple', 'elapa')"
   ]
  },
  {
   "cell_type": "code",
   "execution_count": 95,
   "metadata": {},
   "outputs": [
    {
     "data": {
      "text/plain": [
       "1"
      ]
     },
     "execution_count": 95,
     "metadata": {},
     "output_type": "execute_result"
    },
    {
     "data": {
      "text/plain": [
       "1"
      ]
     },
     "execution_count": 95,
     "metadata": {},
     "output_type": "execute_result"
    },
    {
     "data": {
      "text/plain": [
       "0"
      ]
     },
     "execution_count": 95,
     "metadata": {},
     "output_type": "execute_result"
    }
   ],
   "source": [
    "isCyclicRotation('abfyg', 'gabfy')\n",
    "isCyclicRotation('abac', 'baca')\n",
    "isCyclicRotation('aabca', 'bacaa')"
   ]
  }
 ],
 "metadata": {
  "kernelspec": {
   "display_name": "Python 3",
   "language": "python",
   "name": "python3"
  },
  "language_info": {
   "codemirror_mode": {
    "name": "ipython",
    "version": 3
   },
   "file_extension": ".py",
   "mimetype": "text/x-python",
   "name": "python",
   "nbconvert_exporter": "python",
   "pygments_lexer": "ipython3",
   "version": "3.12.6"
  }
 },
 "nbformat": 4,
 "nbformat_minor": 2
}
